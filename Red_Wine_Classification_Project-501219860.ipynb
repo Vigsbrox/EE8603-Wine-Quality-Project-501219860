{
  "cells": [
    {
      "cell_type": "markdown",
      "source": [
        "# Installing required packages"
      ],
      "metadata": {
        "id": "L0tZyFz91bCY"
      }
    },
    {
      "cell_type": "code",
      "source": [
        "pip install uvicorn"
      ],
      "metadata": {
        "id": "msiUr4_X2V8-",
        "colab": {
          "base_uri": "https://localhost:8080/"
        },
        "outputId": "3066f85d-ed28-4edf-fe94-76bd556f7e53"
      },
      "execution_count": 1,
      "outputs": [
        {
          "output_type": "stream",
          "name": "stdout",
          "text": [
            "Collecting uvicorn\n",
            "  Downloading uvicorn-0.24.0.post1-py3-none-any.whl (59 kB)\n",
            "\u001b[2K     \u001b[90m━━━━━━━━━━━━━━━━━━━━━━━━━━━━━━━━━━━━━━━━\u001b[0m \u001b[32m59.7/59.7 kB\u001b[0m \u001b[31m1.6 MB/s\u001b[0m eta \u001b[36m0:00:00\u001b[0m\n",
            "\u001b[?25hRequirement already satisfied: click>=7.0 in /usr/local/lib/python3.10/dist-packages (from uvicorn) (8.1.7)\n",
            "Collecting h11>=0.8 (from uvicorn)\n",
            "  Downloading h11-0.14.0-py3-none-any.whl (58 kB)\n",
            "\u001b[2K     \u001b[90m━━━━━━━━━━━━━━━━━━━━━━━━━━━━━━━━━━━━━━━━\u001b[0m \u001b[32m58.3/58.3 kB\u001b[0m \u001b[31m3.2 MB/s\u001b[0m eta \u001b[36m0:00:00\u001b[0m\n",
            "\u001b[?25hRequirement already satisfied: typing-extensions>=4.0 in /usr/local/lib/python3.10/dist-packages (from uvicorn) (4.5.0)\n",
            "Installing collected packages: h11, uvicorn\n",
            "\u001b[31mERROR: pip's dependency resolver does not currently take into account all the packages that are installed. This behaviour is the source of the following dependency conflicts.\n",
            "lida 0.0.10 requires fastapi, which is not installed.\n",
            "lida 0.0.10 requires kaleido, which is not installed.\n",
            "lida 0.0.10 requires python-multipart, which is not installed.\u001b[0m\u001b[31m\n",
            "\u001b[0mSuccessfully installed h11-0.14.0 uvicorn-0.24.0.post1\n"
          ]
        }
      ]
    },
    {
      "cell_type": "code",
      "execution_count": 2,
      "metadata": {
        "id": "712N3ukGxRwh",
        "colab": {
          "base_uri": "https://localhost:8080/",
          "height": 1000
        },
        "outputId": "528a70ff-7df0-471f-c75a-ffd5ebb95e47"
      },
      "outputs": [
        {
          "output_type": "stream",
          "name": "stdout",
          "text": [
            "Collecting pycaret\n",
            "  Downloading pycaret-3.2.0-py3-none-any.whl (484 kB)\n",
            "\u001b[2K     \u001b[90m━━━━━━━━━━━━━━━━━━━━━━━━━━━━━━━━━━━━━━━━\u001b[0m \u001b[32m484.7/484.7 kB\u001b[0m \u001b[31m7.3 MB/s\u001b[0m eta \u001b[36m0:00:00\u001b[0m\n",
            "\u001b[?25hCollecting category-encoders>=2.4.0 (from pycaret)\n",
            "  Downloading category_encoders-2.6.3-py2.py3-none-any.whl (81 kB)\n",
            "\u001b[2K     \u001b[90m━━━━━━━━━━━━━━━━━━━━━━━━━━━━━━━━━━━━━━━━\u001b[0m \u001b[32m81.9/81.9 kB\u001b[0m \u001b[31m8.5 MB/s\u001b[0m eta \u001b[36m0:00:00\u001b[0m\n",
            "\u001b[?25hRequirement already satisfied: cloudpickle in /usr/local/lib/python3.10/dist-packages (from pycaret) (2.2.1)\n",
            "Collecting deprecation>=2.1.0 (from pycaret)\n",
            "  Downloading deprecation-2.1.0-py2.py3-none-any.whl (11 kB)\n",
            "Requirement already satisfied: imbalanced-learn>=0.8.1 in /usr/local/lib/python3.10/dist-packages (from pycaret) (0.10.1)\n",
            "Requirement already satisfied: importlib-metadata>=4.12.0 in /usr/local/lib/python3.10/dist-packages (from pycaret) (6.8.0)\n",
            "Requirement already satisfied: ipython>=5.5.0 in /usr/local/lib/python3.10/dist-packages (from pycaret) (7.34.0)\n",
            "Requirement already satisfied: ipywidgets>=7.6.5 in /usr/local/lib/python3.10/dist-packages (from pycaret) (7.7.1)\n",
            "Requirement already satisfied: jinja2>=1.2 in /usr/local/lib/python3.10/dist-packages (from pycaret) (3.1.2)\n",
            "Requirement already satisfied: joblib>=1.2.0 in /usr/local/lib/python3.10/dist-packages (from pycaret) (1.3.2)\n",
            "Collecting kaleido>=0.2.1 (from pycaret)\n",
            "  Downloading kaleido-0.2.1-py2.py3-none-manylinux1_x86_64.whl (79.9 MB)\n",
            "\u001b[2K     \u001b[90m━━━━━━━━━━━━━━━━━━━━━━━━━━━━━━━━━━━━━━━━\u001b[0m \u001b[32m79.9/79.9 MB\u001b[0m \u001b[31m10.2 MB/s\u001b[0m eta \u001b[36m0:00:00\u001b[0m\n",
            "\u001b[?25hRequirement already satisfied: lightgbm>=3.0.0 in /usr/local/lib/python3.10/dist-packages (from pycaret) (4.1.0)\n",
            "Requirement already satisfied: markupsafe>=2.0.1 in /usr/local/lib/python3.10/dist-packages (from pycaret) (2.1.3)\n",
            "Collecting matplotlib<=3.6,>=3.3.0 (from pycaret)\n",
            "  Downloading matplotlib-3.6.0-cp310-cp310-manylinux_2_17_x86_64.manylinux2014_x86_64.whl (11.8 MB)\n",
            "\u001b[2K     \u001b[90m━━━━━━━━━━━━━━━━━━━━━━━━━━━━━━━━━━━━━━━━\u001b[0m \u001b[32m11.8/11.8 MB\u001b[0m \u001b[31m47.4 MB/s\u001b[0m eta \u001b[36m0:00:00\u001b[0m\n",
            "\u001b[?25hRequirement already satisfied: nbformat>=4.2.0 in /usr/local/lib/python3.10/dist-packages (from pycaret) (5.9.2)\n",
            "Requirement already satisfied: numba>=0.55.0 in /usr/local/lib/python3.10/dist-packages (from pycaret) (0.58.1)\n",
            "Requirement already satisfied: numpy<1.27,>=1.21 in /usr/local/lib/python3.10/dist-packages (from pycaret) (1.23.5)\n",
            "Requirement already satisfied: pandas<2.0.0,>=1.3.0 in /usr/local/lib/python3.10/dist-packages (from pycaret) (1.5.3)\n",
            "Collecting plotly-resampler>=0.8.3.1 (from pycaret)\n",
            "  Downloading plotly_resampler-0.9.1-py3-none-any.whl (73 kB)\n",
            "\u001b[2K     \u001b[90m━━━━━━━━━━━━━━━━━━━━━━━━━━━━━━━━━━━━━━━━\u001b[0m \u001b[32m73.4/73.4 kB\u001b[0m \u001b[31m8.2 MB/s\u001b[0m eta \u001b[36m0:00:00\u001b[0m\n",
            "\u001b[?25hRequirement already satisfied: plotly>=5.0.0 in /usr/local/lib/python3.10/dist-packages (from pycaret) (5.15.0)\n",
            "Collecting pmdarima!=1.8.1,<3.0.0,>=1.8.0 (from pycaret)\n",
            "  Downloading pmdarima-2.0.4-cp310-cp310-manylinux_2_17_x86_64.manylinux2014_x86_64.manylinux_2_28_x86_64.whl (2.1 MB)\n",
            "\u001b[2K     \u001b[90m━━━━━━━━━━━━━━━━━━━━━━━━━━━━━━━━━━━━━━━━\u001b[0m \u001b[32m2.1/2.1 MB\u001b[0m \u001b[31m41.8 MB/s\u001b[0m eta \u001b[36m0:00:00\u001b[0m\n",
            "\u001b[?25hRequirement already satisfied: psutil>=5.9.0 in /usr/local/lib/python3.10/dist-packages (from pycaret) (5.9.5)\n",
            "Collecting pyod>=1.0.8 (from pycaret)\n",
            "  Downloading pyod-1.1.1.tar.gz (159 kB)\n",
            "\u001b[2K     \u001b[90m━━━━━━━━━━━━━━━━━━━━━━━━━━━━━━━━━━━━━━━━\u001b[0m \u001b[32m159.4/159.4 kB\u001b[0m \u001b[31m16.9 MB/s\u001b[0m eta \u001b[36m0:00:00\u001b[0m\n",
            "\u001b[?25h  Preparing metadata (setup.py) ... \u001b[?25l\u001b[?25hdone\n",
            "Requirement already satisfied: requests>=2.27.1 in /usr/local/lib/python3.10/dist-packages (from pycaret) (2.31.0)\n",
            "Collecting schemdraw==0.15 (from pycaret)\n",
            "  Downloading schemdraw-0.15-py3-none-any.whl (106 kB)\n",
            "\u001b[2K     \u001b[90m━━━━━━━━━━━━━━━━━━━━━━━━━━━━━━━━━━━━━━━━\u001b[0m \u001b[32m106.8/106.8 kB\u001b[0m \u001b[31m11.0 MB/s\u001b[0m eta \u001b[36m0:00:00\u001b[0m\n",
            "\u001b[?25hRequirement already satisfied: scikit-learn<1.3.0,>=1.0 in /usr/local/lib/python3.10/dist-packages (from pycaret) (1.2.2)\n",
            "Collecting scikit-plot>=0.3.7 (from pycaret)\n",
            "  Downloading scikit_plot-0.3.7-py3-none-any.whl (33 kB)\n",
            "Collecting scipy~=1.10.1 (from pycaret)\n",
            "  Downloading scipy-1.10.1-cp310-cp310-manylinux_2_17_x86_64.manylinux2014_x86_64.whl (34.4 MB)\n",
            "\u001b[2K     \u001b[90m━━━━━━━━━━━━━━━━━━━━━━━━━━━━━━━━━━━━━━━━\u001b[0m \u001b[32m34.4/34.4 MB\u001b[0m \u001b[31m20.4 MB/s\u001b[0m eta \u001b[36m0:00:00\u001b[0m\n",
            "\u001b[?25hCollecting sktime!=0.17.1,!=0.17.2,!=0.18.0,<0.22.0,>=0.16.1 (from pycaret)\n",
            "  Downloading sktime-0.21.1-py3-none-any.whl (17.1 MB)\n",
            "\u001b[2K     \u001b[90m━━━━━━━━━━━━━━━━━━━━━━━━━━━━━━━━━━━━━━━━\u001b[0m \u001b[32m17.1/17.1 MB\u001b[0m \u001b[31m11.5 MB/s\u001b[0m eta \u001b[36m0:00:00\u001b[0m\n",
            "\u001b[?25hRequirement already satisfied: statsmodels>=0.12.1 in /usr/local/lib/python3.10/dist-packages (from pycaret) (0.14.0)\n",
            "Collecting tbats>=1.1.3 (from pycaret)\n",
            "  Downloading tbats-1.1.3-py3-none-any.whl (44 kB)\n",
            "\u001b[2K     \u001b[90m━━━━━━━━━━━━━━━━━━━━━━━━━━━━━━━━━━━━━━━━\u001b[0m \u001b[32m44.0/44.0 kB\u001b[0m \u001b[31m4.3 MB/s\u001b[0m eta \u001b[36m0:00:00\u001b[0m\n",
            "\u001b[?25hRequirement already satisfied: tqdm>=4.62.0 in /usr/local/lib/python3.10/dist-packages (from pycaret) (4.66.1)\n",
            "Requirement already satisfied: xxhash in /usr/local/lib/python3.10/dist-packages (from pycaret) (3.4.1)\n",
            "Requirement already satisfied: yellowbrick>=1.4 in /usr/local/lib/python3.10/dist-packages (from pycaret) (1.5)\n",
            "Collecting wurlitzer (from pycaret)\n",
            "  Downloading wurlitzer-3.0.3-py3-none-any.whl (7.3 kB)\n",
            "Requirement already satisfied: patsy>=0.5.1 in /usr/local/lib/python3.10/dist-packages (from category-encoders>=2.4.0->pycaret) (0.5.3)\n",
            "Requirement already satisfied: packaging in /usr/local/lib/python3.10/dist-packages (from deprecation>=2.1.0->pycaret) (23.2)\n",
            "Requirement already satisfied: threadpoolctl>=2.0.0 in /usr/local/lib/python3.10/dist-packages (from imbalanced-learn>=0.8.1->pycaret) (3.2.0)\n",
            "Requirement already satisfied: zipp>=0.5 in /usr/local/lib/python3.10/dist-packages (from importlib-metadata>=4.12.0->pycaret) (3.17.0)\n",
            "Requirement already satisfied: setuptools>=18.5 in /usr/local/lib/python3.10/dist-packages (from ipython>=5.5.0->pycaret) (67.7.2)\n",
            "Collecting jedi>=0.16 (from ipython>=5.5.0->pycaret)\n",
            "  Downloading jedi-0.19.1-py2.py3-none-any.whl (1.6 MB)\n",
            "\u001b[2K     \u001b[90m━━━━━━━━━━━━━━━━━━━━━━━━━━━━━━━━━━━━━━━━\u001b[0m \u001b[32m1.6/1.6 MB\u001b[0m \u001b[31m29.1 MB/s\u001b[0m eta \u001b[36m0:00:00\u001b[0m\n",
            "\u001b[?25hRequirement already satisfied: decorator in /usr/local/lib/python3.10/dist-packages (from ipython>=5.5.0->pycaret) (4.4.2)\n",
            "Requirement already satisfied: pickleshare in /usr/local/lib/python3.10/dist-packages (from ipython>=5.5.0->pycaret) (0.7.5)\n",
            "Requirement already satisfied: traitlets>=4.2 in /usr/local/lib/python3.10/dist-packages (from ipython>=5.5.0->pycaret) (5.7.1)\n",
            "Requirement already satisfied: prompt-toolkit!=3.0.0,!=3.0.1,<3.1.0,>=2.0.0 in /usr/local/lib/python3.10/dist-packages (from ipython>=5.5.0->pycaret) (3.0.39)\n",
            "Requirement already satisfied: pygments in /usr/local/lib/python3.10/dist-packages (from ipython>=5.5.0->pycaret) (2.16.1)\n",
            "Requirement already satisfied: backcall in /usr/local/lib/python3.10/dist-packages (from ipython>=5.5.0->pycaret) (0.2.0)\n",
            "Requirement already satisfied: matplotlib-inline in /usr/local/lib/python3.10/dist-packages (from ipython>=5.5.0->pycaret) (0.1.6)\n",
            "Requirement already satisfied: pexpect>4.3 in /usr/local/lib/python3.10/dist-packages (from ipython>=5.5.0->pycaret) (4.8.0)\n",
            "Requirement already satisfied: ipykernel>=4.5.1 in /usr/local/lib/python3.10/dist-packages (from ipywidgets>=7.6.5->pycaret) (5.5.6)\n",
            "Requirement already satisfied: ipython-genutils~=0.2.0 in /usr/local/lib/python3.10/dist-packages (from ipywidgets>=7.6.5->pycaret) (0.2.0)\n",
            "Requirement already satisfied: widgetsnbextension~=3.6.0 in /usr/local/lib/python3.10/dist-packages (from ipywidgets>=7.6.5->pycaret) (3.6.6)\n",
            "Requirement already satisfied: jupyterlab-widgets>=1.0.0 in /usr/local/lib/python3.10/dist-packages (from ipywidgets>=7.6.5->pycaret) (3.0.9)\n",
            "Requirement already satisfied: contourpy>=1.0.1 in /usr/local/lib/python3.10/dist-packages (from matplotlib<=3.6,>=3.3.0->pycaret) (1.2.0)\n",
            "Requirement already satisfied: cycler>=0.10 in /usr/local/lib/python3.10/dist-packages (from matplotlib<=3.6,>=3.3.0->pycaret) (0.12.1)\n",
            "Requirement already satisfied: fonttools>=4.22.0 in /usr/local/lib/python3.10/dist-packages (from matplotlib<=3.6,>=3.3.0->pycaret) (4.44.0)\n",
            "Requirement already satisfied: kiwisolver>=1.0.1 in /usr/local/lib/python3.10/dist-packages (from matplotlib<=3.6,>=3.3.0->pycaret) (1.4.5)\n",
            "Requirement already satisfied: pillow>=6.2.0 in /usr/local/lib/python3.10/dist-packages (from matplotlib<=3.6,>=3.3.0->pycaret) (9.4.0)\n",
            "Requirement already satisfied: pyparsing>=2.2.1 in /usr/local/lib/python3.10/dist-packages (from matplotlib<=3.6,>=3.3.0->pycaret) (3.1.1)\n",
            "Requirement already satisfied: python-dateutil>=2.7 in /usr/local/lib/python3.10/dist-packages (from matplotlib<=3.6,>=3.3.0->pycaret) (2.8.2)\n",
            "Requirement already satisfied: fastjsonschema in /usr/local/lib/python3.10/dist-packages (from nbformat>=4.2.0->pycaret) (2.18.1)\n",
            "Requirement already satisfied: jsonschema>=2.6 in /usr/local/lib/python3.10/dist-packages (from nbformat>=4.2.0->pycaret) (4.19.2)\n",
            "Requirement already satisfied: jupyter-core in /usr/local/lib/python3.10/dist-packages (from nbformat>=4.2.0->pycaret) (5.5.0)\n",
            "Requirement already satisfied: llvmlite<0.42,>=0.41.0dev0 in /usr/local/lib/python3.10/dist-packages (from numba>=0.55.0->pycaret) (0.41.1)\n",
            "Requirement already satisfied: pytz>=2020.1 in /usr/local/lib/python3.10/dist-packages (from pandas<2.0.0,>=1.3.0->pycaret) (2023.3.post1)\n",
            "Requirement already satisfied: tenacity>=6.2.0 in /usr/local/lib/python3.10/dist-packages (from plotly>=5.0.0->pycaret) (8.2.3)\n",
            "Collecting dash<3.0.0,>=2.11.0 (from plotly-resampler>=0.8.3.1->pycaret)\n",
            "  Downloading dash-2.14.1-py3-none-any.whl (10.4 MB)\n",
            "\u001b[2K     \u001b[90m━━━━━━━━━━━━━━━━━━━━━━━━━━━━━━━━━━━━━━━━\u001b[0m \u001b[32m10.4/10.4 MB\u001b[0m \u001b[31m35.1 MB/s\u001b[0m eta \u001b[36m0:00:00\u001b[0m\n",
            "\u001b[?25hCollecting orjson<4.0.0,>=3.8.0 (from plotly-resampler>=0.8.3.1->pycaret)\n",
            "  Downloading orjson-3.9.10-cp310-cp310-manylinux_2_17_x86_64.manylinux2014_x86_64.whl (138 kB)\n",
            "\u001b[2K     \u001b[90m━━━━━━━━━━━━━━━━━━━━━━━━━━━━━━━━━━━━━━━━\u001b[0m \u001b[32m138.7/138.7 kB\u001b[0m \u001b[31m5.9 MB/s\u001b[0m eta \u001b[36m0:00:00\u001b[0m\n",
            "\u001b[?25hCollecting trace-updater>=0.0.8 (from plotly-resampler>=0.8.3.1->pycaret)\n",
            "  Downloading trace_updater-0.0.9.1-py3-none-any.whl (185 kB)\n",
            "\u001b[2K     \u001b[90m━━━━━━━━━━━━━━━━━━━━━━━━━━━━━━━━━━━━━━━━\u001b[0m \u001b[32m185.2/185.2 kB\u001b[0m \u001b[31m16.2 MB/s\u001b[0m eta \u001b[36m0:00:00\u001b[0m\n",
            "\u001b[?25hCollecting tsdownsample==0.1.2 (from plotly-resampler>=0.8.3.1->pycaret)\n",
            "  Downloading tsdownsample-0.1.2-cp310-cp310-manylinux_2_17_x86_64.manylinux2014_x86_64.whl (2.3 MB)\n",
            "\u001b[2K     \u001b[90m━━━━━━━━━━━━━━━━━━━━━━━━━━━━━━━━━━━━━━━━\u001b[0m \u001b[32m2.3/2.3 MB\u001b[0m \u001b[31m67.1 MB/s\u001b[0m eta \u001b[36m0:00:00\u001b[0m\n",
            "\u001b[?25hRequirement already satisfied: Cython!=0.29.18,!=0.29.31,>=0.29 in /usr/local/lib/python3.10/dist-packages (from pmdarima!=1.8.1,<3.0.0,>=1.8.0->pycaret) (3.0.5)\n",
            "Requirement already satisfied: urllib3 in /usr/local/lib/python3.10/dist-packages (from pmdarima!=1.8.1,<3.0.0,>=1.8.0->pycaret) (2.0.7)\n",
            "Requirement already satisfied: six in /usr/local/lib/python3.10/dist-packages (from pyod>=1.0.8->pycaret) (1.16.0)\n",
            "Requirement already satisfied: charset-normalizer<4,>=2 in /usr/local/lib/python3.10/dist-packages (from requests>=2.27.1->pycaret) (3.3.2)\n",
            "Requirement already satisfied: idna<4,>=2.5 in /usr/local/lib/python3.10/dist-packages (from requests>=2.27.1->pycaret) (3.4)\n",
            "Requirement already satisfied: certifi>=2017.4.17 in /usr/local/lib/python3.10/dist-packages (from requests>=2.27.1->pycaret) (2023.7.22)\n",
            "Collecting deprecated>=1.2.13 (from sktime!=0.17.1,!=0.17.2,!=0.18.0,<0.22.0,>=0.16.1->pycaret)\n",
            "  Downloading Deprecated-1.2.14-py2.py3-none-any.whl (9.6 kB)\n",
            "Collecting scikit-base<0.6.0 (from sktime!=0.17.1,!=0.17.2,!=0.18.0,<0.22.0,>=0.16.1->pycaret)\n",
            "  Downloading scikit_base-0.5.2-py3-none-any.whl (118 kB)\n",
            "\u001b[2K     \u001b[90m━━━━━━━━━━━━━━━━━━━━━━━━━━━━━━━━━━━━━━━━\u001b[0m \u001b[32m119.0/119.0 kB\u001b[0m \u001b[31m11.8 MB/s\u001b[0m eta \u001b[36m0:00:00\u001b[0m\n",
            "\u001b[?25hRequirement already satisfied: Flask<3.1,>=1.0.4 in /usr/local/lib/python3.10/dist-packages (from dash<3.0.0,>=2.11.0->plotly-resampler>=0.8.3.1->pycaret) (2.2.5)\n",
            "Requirement already satisfied: Werkzeug<3.1 in /usr/local/lib/python3.10/dist-packages (from dash<3.0.0,>=2.11.0->plotly-resampler>=0.8.3.1->pycaret) (3.0.1)\n",
            "Collecting dash-html-components==2.0.0 (from dash<3.0.0,>=2.11.0->plotly-resampler>=0.8.3.1->pycaret)\n",
            "  Downloading dash_html_components-2.0.0-py3-none-any.whl (4.1 kB)\n",
            "Collecting dash-core-components==2.0.0 (from dash<3.0.0,>=2.11.0->plotly-resampler>=0.8.3.1->pycaret)\n",
            "  Downloading dash_core_components-2.0.0-py3-none-any.whl (3.8 kB)\n",
            "Collecting dash-table==5.0.0 (from dash<3.0.0,>=2.11.0->plotly-resampler>=0.8.3.1->pycaret)\n",
            "  Downloading dash_table-5.0.0-py3-none-any.whl (3.9 kB)\n",
            "Requirement already satisfied: typing-extensions>=4.1.1 in /usr/local/lib/python3.10/dist-packages (from dash<3.0.0,>=2.11.0->plotly-resampler>=0.8.3.1->pycaret) (4.5.0)\n",
            "Collecting retrying (from dash<3.0.0,>=2.11.0->plotly-resampler>=0.8.3.1->pycaret)\n",
            "  Downloading retrying-1.3.4-py3-none-any.whl (11 kB)\n",
            "Collecting ansi2html (from dash<3.0.0,>=2.11.0->plotly-resampler>=0.8.3.1->pycaret)\n",
            "  Downloading ansi2html-1.8.0-py3-none-any.whl (16 kB)\n",
            "Requirement already satisfied: nest-asyncio in /usr/local/lib/python3.10/dist-packages (from dash<3.0.0,>=2.11.0->plotly-resampler>=0.8.3.1->pycaret) (1.5.8)\n",
            "Requirement already satisfied: wrapt<2,>=1.10 in /usr/local/lib/python3.10/dist-packages (from deprecated>=1.2.13->sktime!=0.17.1,!=0.17.2,!=0.18.0,<0.22.0,>=0.16.1->pycaret) (1.14.1)\n",
            "Requirement already satisfied: jupyter-client in /usr/local/lib/python3.10/dist-packages (from ipykernel>=4.5.1->ipywidgets>=7.6.5->pycaret) (6.1.12)\n",
            "Requirement already satisfied: tornado>=4.2 in /usr/local/lib/python3.10/dist-packages (from ipykernel>=4.5.1->ipywidgets>=7.6.5->pycaret) (6.3.2)\n",
            "Requirement already satisfied: parso<0.9.0,>=0.8.3 in /usr/local/lib/python3.10/dist-packages (from jedi>=0.16->ipython>=5.5.0->pycaret) (0.8.3)\n",
            "Requirement already satisfied: attrs>=22.2.0 in /usr/local/lib/python3.10/dist-packages (from jsonschema>=2.6->nbformat>=4.2.0->pycaret) (23.1.0)\n",
            "Requirement already satisfied: jsonschema-specifications>=2023.03.6 in /usr/local/lib/python3.10/dist-packages (from jsonschema>=2.6->nbformat>=4.2.0->pycaret) (2023.7.1)\n",
            "Requirement already satisfied: referencing>=0.28.4 in /usr/local/lib/python3.10/dist-packages (from jsonschema>=2.6->nbformat>=4.2.0->pycaret) (0.30.2)\n",
            "Requirement already satisfied: rpds-py>=0.7.1 in /usr/local/lib/python3.10/dist-packages (from jsonschema>=2.6->nbformat>=4.2.0->pycaret) (0.12.0)\n",
            "Requirement already satisfied: ptyprocess>=0.5 in /usr/local/lib/python3.10/dist-packages (from pexpect>4.3->ipython>=5.5.0->pycaret) (0.7.0)\n",
            "Requirement already satisfied: wcwidth in /usr/local/lib/python3.10/dist-packages (from prompt-toolkit!=3.0.0,!=3.0.1,<3.1.0,>=2.0.0->ipython>=5.5.0->pycaret) (0.2.9)\n",
            "Requirement already satisfied: notebook>=4.4.1 in /usr/local/lib/python3.10/dist-packages (from widgetsnbextension~=3.6.0->ipywidgets>=7.6.5->pycaret) (6.5.5)\n",
            "Requirement already satisfied: platformdirs>=2.5 in /usr/local/lib/python3.10/dist-packages (from jupyter-core->nbformat>=4.2.0->pycaret) (3.11.0)\n",
            "Requirement already satisfied: itsdangerous>=2.0 in /usr/local/lib/python3.10/dist-packages (from Flask<3.1,>=1.0.4->dash<3.0.0,>=2.11.0->plotly-resampler>=0.8.3.1->pycaret) (2.1.2)\n",
            "Requirement already satisfied: click>=8.0 in /usr/local/lib/python3.10/dist-packages (from Flask<3.1,>=1.0.4->dash<3.0.0,>=2.11.0->plotly-resampler>=0.8.3.1->pycaret) (8.1.7)\n",
            "Requirement already satisfied: pyzmq<25,>=17 in /usr/local/lib/python3.10/dist-packages (from notebook>=4.4.1->widgetsnbextension~=3.6.0->ipywidgets>=7.6.5->pycaret) (23.2.1)\n",
            "Requirement already satisfied: argon2-cffi in /usr/local/lib/python3.10/dist-packages (from notebook>=4.4.1->widgetsnbextension~=3.6.0->ipywidgets>=7.6.5->pycaret) (23.1.0)\n",
            "Requirement already satisfied: nbconvert>=5 in /usr/local/lib/python3.10/dist-packages (from notebook>=4.4.1->widgetsnbextension~=3.6.0->ipywidgets>=7.6.5->pycaret) (6.5.4)\n",
            "Requirement already satisfied: Send2Trash>=1.8.0 in /usr/local/lib/python3.10/dist-packages (from notebook>=4.4.1->widgetsnbextension~=3.6.0->ipywidgets>=7.6.5->pycaret) (1.8.2)\n",
            "Requirement already satisfied: terminado>=0.8.3 in /usr/local/lib/python3.10/dist-packages (from notebook>=4.4.1->widgetsnbextension~=3.6.0->ipywidgets>=7.6.5->pycaret) (0.17.1)\n",
            "Requirement already satisfied: prometheus-client in /usr/local/lib/python3.10/dist-packages (from notebook>=4.4.1->widgetsnbextension~=3.6.0->ipywidgets>=7.6.5->pycaret) (0.18.0)\n",
            "Requirement already satisfied: nbclassic>=0.4.7 in /usr/local/lib/python3.10/dist-packages (from notebook>=4.4.1->widgetsnbextension~=3.6.0->ipywidgets>=7.6.5->pycaret) (1.0.0)\n",
            "Requirement already satisfied: jupyter-server>=1.8 in /usr/local/lib/python3.10/dist-packages (from nbclassic>=0.4.7->notebook>=4.4.1->widgetsnbextension~=3.6.0->ipywidgets>=7.6.5->pycaret) (1.24.0)\n",
            "Requirement already satisfied: notebook-shim>=0.2.3 in /usr/local/lib/python3.10/dist-packages (from nbclassic>=0.4.7->notebook>=4.4.1->widgetsnbextension~=3.6.0->ipywidgets>=7.6.5->pycaret) (0.2.3)\n",
            "Requirement already satisfied: lxml in /usr/local/lib/python3.10/dist-packages (from nbconvert>=5->notebook>=4.4.1->widgetsnbextension~=3.6.0->ipywidgets>=7.6.5->pycaret) (4.9.3)\n",
            "Requirement already satisfied: beautifulsoup4 in /usr/local/lib/python3.10/dist-packages (from nbconvert>=5->notebook>=4.4.1->widgetsnbextension~=3.6.0->ipywidgets>=7.6.5->pycaret) (4.11.2)\n",
            "Requirement already satisfied: bleach in /usr/local/lib/python3.10/dist-packages (from nbconvert>=5->notebook>=4.4.1->widgetsnbextension~=3.6.0->ipywidgets>=7.6.5->pycaret) (6.1.0)\n",
            "Requirement already satisfied: defusedxml in /usr/local/lib/python3.10/dist-packages (from nbconvert>=5->notebook>=4.4.1->widgetsnbextension~=3.6.0->ipywidgets>=7.6.5->pycaret) (0.7.1)\n",
            "Requirement already satisfied: entrypoints>=0.2.2 in /usr/local/lib/python3.10/dist-packages (from nbconvert>=5->notebook>=4.4.1->widgetsnbextension~=3.6.0->ipywidgets>=7.6.5->pycaret) (0.4)\n",
            "Requirement already satisfied: jupyterlab-pygments in /usr/local/lib/python3.10/dist-packages (from nbconvert>=5->notebook>=4.4.1->widgetsnbextension~=3.6.0->ipywidgets>=7.6.5->pycaret) (0.2.2)\n",
            "Requirement already satisfied: mistune<2,>=0.8.1 in /usr/local/lib/python3.10/dist-packages (from nbconvert>=5->notebook>=4.4.1->widgetsnbextension~=3.6.0->ipywidgets>=7.6.5->pycaret) (0.8.4)\n",
            "Requirement already satisfied: nbclient>=0.5.0 in /usr/local/lib/python3.10/dist-packages (from nbconvert>=5->notebook>=4.4.1->widgetsnbextension~=3.6.0->ipywidgets>=7.6.5->pycaret) (0.9.0)\n",
            "Requirement already satisfied: pandocfilters>=1.4.1 in /usr/local/lib/python3.10/dist-packages (from nbconvert>=5->notebook>=4.4.1->widgetsnbextension~=3.6.0->ipywidgets>=7.6.5->pycaret) (1.5.0)\n",
            "Requirement already satisfied: tinycss2 in /usr/local/lib/python3.10/dist-packages (from nbconvert>=5->notebook>=4.4.1->widgetsnbextension~=3.6.0->ipywidgets>=7.6.5->pycaret) (1.2.1)\n",
            "Requirement already satisfied: argon2-cffi-bindings in /usr/local/lib/python3.10/dist-packages (from argon2-cffi->notebook>=4.4.1->widgetsnbextension~=3.6.0->ipywidgets>=7.6.5->pycaret) (21.2.0)\n",
            "Requirement already satisfied: anyio<4,>=3.1.0 in /usr/local/lib/python3.10/dist-packages (from jupyter-server>=1.8->nbclassic>=0.4.7->notebook>=4.4.1->widgetsnbextension~=3.6.0->ipywidgets>=7.6.5->pycaret) (3.7.1)\n",
            "Requirement already satisfied: websocket-client in /usr/local/lib/python3.10/dist-packages (from jupyter-server>=1.8->nbclassic>=0.4.7->notebook>=4.4.1->widgetsnbextension~=3.6.0->ipywidgets>=7.6.5->pycaret) (1.6.4)\n",
            "Requirement already satisfied: cffi>=1.0.1 in /usr/local/lib/python3.10/dist-packages (from argon2-cffi-bindings->argon2-cffi->notebook>=4.4.1->widgetsnbextension~=3.6.0->ipywidgets>=7.6.5->pycaret) (1.16.0)\n",
            "Requirement already satisfied: soupsieve>1.2 in /usr/local/lib/python3.10/dist-packages (from beautifulsoup4->nbconvert>=5->notebook>=4.4.1->widgetsnbextension~=3.6.0->ipywidgets>=7.6.5->pycaret) (2.5)\n",
            "Requirement already satisfied: webencodings in /usr/local/lib/python3.10/dist-packages (from bleach->nbconvert>=5->notebook>=4.4.1->widgetsnbextension~=3.6.0->ipywidgets>=7.6.5->pycaret) (0.5.1)\n",
            "Requirement already satisfied: sniffio>=1.1 in /usr/local/lib/python3.10/dist-packages (from anyio<4,>=3.1.0->jupyter-server>=1.8->nbclassic>=0.4.7->notebook>=4.4.1->widgetsnbextension~=3.6.0->ipywidgets>=7.6.5->pycaret) (1.3.0)\n",
            "Requirement already satisfied: exceptiongroup in /usr/local/lib/python3.10/dist-packages (from anyio<4,>=3.1.0->jupyter-server>=1.8->nbclassic>=0.4.7->notebook>=4.4.1->widgetsnbextension~=3.6.0->ipywidgets>=7.6.5->pycaret) (1.1.3)\n",
            "Requirement already satisfied: pycparser in /usr/local/lib/python3.10/dist-packages (from cffi>=1.0.1->argon2-cffi-bindings->argon2-cffi->notebook>=4.4.1->widgetsnbextension~=3.6.0->ipywidgets>=7.6.5->pycaret) (2.21)\n",
            "Building wheels for collected packages: pyod\n",
            "  Building wheel for pyod (setup.py) ... \u001b[?25l\u001b[?25hdone\n",
            "  Created wheel for pyod: filename=pyod-1.1.1-py3-none-any.whl size=190074 sha256=6bb186012ab9c3b89401b8867ebb1be389b6cbcaff4d8414121160d86384930c\n",
            "  Stored in directory: /root/.cache/pip/wheels/a3/42/d7/48a53ffc1466bd63932f28583c64ebf442114db14a0bfa8c95\n",
            "Successfully built pyod\n",
            "Installing collected packages: trace-updater, kaleido, dash-table, dash-html-components, dash-core-components, wurlitzer, tsdownsample, scipy, scikit-base, schemdraw, retrying, orjson, jedi, deprecation, deprecated, ansi2html, matplotlib, sktime, scikit-plot, pyod, dash, pmdarima, plotly-resampler, category-encoders, tbats, pycaret\n",
            "  Attempting uninstall: scipy\n",
            "    Found existing installation: scipy 1.11.3\n",
            "    Uninstalling scipy-1.11.3:\n",
            "      Successfully uninstalled scipy-1.11.3\n",
            "  Attempting uninstall: matplotlib\n",
            "    Found existing installation: matplotlib 3.7.1\n",
            "    Uninstalling matplotlib-3.7.1:\n",
            "      Successfully uninstalled matplotlib-3.7.1\n",
            "\u001b[31mERROR: pip's dependency resolver does not currently take into account all the packages that are installed. This behaviour is the source of the following dependency conflicts.\n",
            "lida 0.0.10 requires fastapi, which is not installed.\n",
            "lida 0.0.10 requires python-multipart, which is not installed.\u001b[0m\u001b[31m\n",
            "\u001b[0mSuccessfully installed ansi2html-1.8.0 category-encoders-2.6.3 dash-2.14.1 dash-core-components-2.0.0 dash-html-components-2.0.0 dash-table-5.0.0 deprecated-1.2.14 deprecation-2.1.0 jedi-0.19.1 kaleido-0.2.1 matplotlib-3.6.0 orjson-3.9.10 plotly-resampler-0.9.1 pmdarima-2.0.4 pycaret-3.2.0 pyod-1.1.1 retrying-1.3.4 schemdraw-0.15 scikit-base-0.5.2 scikit-plot-0.3.7 scipy-1.10.1 sktime-0.21.1 tbats-1.1.3 trace-updater-0.0.9.1 tsdownsample-0.1.2 wurlitzer-3.0.3\n"
          ]
        },
        {
          "output_type": "display_data",
          "data": {
            "application/vnd.colab-display-data+json": {
              "pip_warning": {
                "packages": [
                  "matplotlib",
                  "mpl_toolkits"
                ]
              }
            }
          },
          "metadata": {}
        }
      ],
      "source": [
        "pip install pycaret"
      ]
    },
    {
      "cell_type": "code",
      "execution_count": 3,
      "metadata": {
        "id": "pN1dnRDQnjhd",
        "colab": {
          "base_uri": "https://localhost:8080/"
        },
        "outputId": "18e1aa29-4b72-4881-b965-7fbaa35c9154"
      },
      "outputs": [
        {
          "output_type": "stream",
          "name": "stdout",
          "text": [
            "Requirement already satisfied: threadpoolctl in /usr/local/lib/python3.10/dist-packages (3.2.0)\n"
          ]
        }
      ],
      "source": [
        "pip install --upgrade threadpoolctl"
      ]
    },
    {
      "cell_type": "code",
      "execution_count": 4,
      "metadata": {
        "id": "Fp227JXopTfi",
        "colab": {
          "base_uri": "https://localhost:8080/"
        },
        "outputId": "d56a52f3-c356-41d9-f1d3-5c0ddd9a4cd5"
      },
      "outputs": [
        {
          "output_type": "stream",
          "name": "stdout",
          "text": [
            "Requirement already satisfied: scikit-learn in /usr/local/lib/python3.10/dist-packages (1.2.2)\n",
            "Collecting scikit-learn\n",
            "  Downloading scikit_learn-1.3.2-cp310-cp310-manylinux_2_17_x86_64.manylinux2014_x86_64.whl (10.8 MB)\n",
            "\u001b[2K     \u001b[90m━━━━━━━━━━━━━━━━━━━━━━━━━━━━━━━━━━━━━━━━\u001b[0m \u001b[32m10.8/10.8 MB\u001b[0m \u001b[31m14.8 MB/s\u001b[0m eta \u001b[36m0:00:00\u001b[0m\n",
            "\u001b[?25hRequirement already satisfied: numpy<2.0,>=1.17.3 in /usr/local/lib/python3.10/dist-packages (from scikit-learn) (1.23.5)\n",
            "Requirement already satisfied: scipy>=1.5.0 in /usr/local/lib/python3.10/dist-packages (from scikit-learn) (1.10.1)\n",
            "Requirement already satisfied: joblib>=1.1.1 in /usr/local/lib/python3.10/dist-packages (from scikit-learn) (1.3.2)\n",
            "Requirement already satisfied: threadpoolctl>=2.0.0 in /usr/local/lib/python3.10/dist-packages (from scikit-learn) (3.2.0)\n",
            "Installing collected packages: scikit-learn\n",
            "  Attempting uninstall: scikit-learn\n",
            "    Found existing installation: scikit-learn 1.2.2\n",
            "    Uninstalling scikit-learn-1.2.2:\n",
            "      Successfully uninstalled scikit-learn-1.2.2\n",
            "\u001b[31mERROR: pip's dependency resolver does not currently take into account all the packages that are installed. This behaviour is the source of the following dependency conflicts.\n",
            "pycaret 3.2.0 requires scikit-learn<1.3.0,>=1.0, but you have scikit-learn 1.3.2 which is incompatible.\u001b[0m\u001b[31m\n",
            "\u001b[0mSuccessfully installed scikit-learn-1.3.2\n"
          ]
        }
      ],
      "source": [
        "pip install -U scikit-learn"
      ]
    },
    {
      "cell_type": "code",
      "execution_count": 5,
      "metadata": {
        "id": "dUxXGXxwiyx7",
        "colab": {
          "base_uri": "https://localhost:8080/"
        },
        "outputId": "961554a6-1ab0-49f0-a983-c3c30da017ce"
      },
      "outputs": [
        {
          "output_type": "stream",
          "name": "stdout",
          "text": [
            "Found existing installation: scipy 1.10.1\n",
            "Uninstalling scipy-1.10.1:\n",
            "  Would remove:\n",
            "    /usr/local/lib/python3.10/dist-packages/scipy-1.10.1.dist-info/*\n",
            "    /usr/local/lib/python3.10/dist-packages/scipy.libs/libgfortran-040039e1.so.5.0.0\n",
            "    /usr/local/lib/python3.10/dist-packages/scipy.libs/libopenblasp-r0-41284840.3.18.so\n",
            "    /usr/local/lib/python3.10/dist-packages/scipy.libs/libquadmath-96973f99.so.0.0.0\n",
            "    /usr/local/lib/python3.10/dist-packages/scipy/*\n",
            "Proceed (Y/n)? Y\n",
            "  Successfully uninstalled scipy-1.10.1\n"
          ]
        }
      ],
      "source": [
        "pip uninstall scipy"
      ]
    },
    {
      "cell_type": "code",
      "execution_count": 6,
      "metadata": {
        "id": "rtWxfJcKqsjM",
        "colab": {
          "base_uri": "https://localhost:8080/"
        },
        "outputId": "1fc70e40-1416-45f6-b82c-5c4aef25fa9e"
      },
      "outputs": [
        {
          "output_type": "stream",
          "name": "stdout",
          "text": [
            "Collecting scipy\n",
            "  Downloading scipy-1.11.3-cp310-cp310-manylinux_2_17_x86_64.manylinux2014_x86_64.whl (36.4 MB)\n",
            "\u001b[2K     \u001b[90m━━━━━━━━━━━━━━━━━━━━━━━━━━━━━━━━━━━━━━━━\u001b[0m \u001b[32m36.4/36.4 MB\u001b[0m \u001b[31m24.4 MB/s\u001b[0m eta \u001b[36m0:00:00\u001b[0m\n",
            "\u001b[?25hRequirement already satisfied: numpy<1.28.0,>=1.21.6 in /usr/local/lib/python3.10/dist-packages (from scipy) (1.23.5)\n",
            "Installing collected packages: scipy\n",
            "\u001b[31mERROR: pip's dependency resolver does not currently take into account all the packages that are installed. This behaviour is the source of the following dependency conflicts.\n",
            "lida 0.0.10 requires fastapi, which is not installed.\n",
            "lida 0.0.10 requires python-multipart, which is not installed.\n",
            "pycaret 3.2.0 requires scikit-learn<1.3.0,>=1.0, but you have scikit-learn 1.3.2 which is incompatible.\n",
            "pycaret 3.2.0 requires scipy~=1.10.1, but you have scipy 1.11.3 which is incompatible.\u001b[0m\u001b[31m\n",
            "\u001b[0mSuccessfully installed scipy-1.11.3\n"
          ]
        }
      ],
      "source": [
        "pip install scipy"
      ]
    },
    {
      "cell_type": "code",
      "execution_count": 7,
      "metadata": {
        "id": "hSdNp8HXi3TK",
        "colab": {
          "base_uri": "https://localhost:8080/"
        },
        "outputId": "6885479a-6d34-4879-e57f-a424838f3726"
      },
      "outputs": [
        {
          "output_type": "stream",
          "name": "stdout",
          "text": [
            "Collecting scikit-learn==1.2.2\n",
            "  Downloading scikit_learn-1.2.2-cp310-cp310-manylinux_2_17_x86_64.manylinux2014_x86_64.whl (9.6 MB)\n",
            "\u001b[2K     \u001b[90m━━━━━━━━━━━━━━━━━━━━━━━━━━━━━━━━━━━━━━━━\u001b[0m \u001b[32m9.6/9.6 MB\u001b[0m \u001b[31m19.4 MB/s\u001b[0m eta \u001b[36m0:00:00\u001b[0m\n",
            "\u001b[?25hRequirement already satisfied: numpy>=1.17.3 in /usr/local/lib/python3.10/dist-packages (from scikit-learn==1.2.2) (1.23.5)\n",
            "Requirement already satisfied: scipy>=1.3.2 in /usr/local/lib/python3.10/dist-packages (from scikit-learn==1.2.2) (1.11.3)\n",
            "Requirement already satisfied: joblib>=1.1.1 in /usr/local/lib/python3.10/dist-packages (from scikit-learn==1.2.2) (1.3.2)\n",
            "Requirement already satisfied: threadpoolctl>=2.0.0 in /usr/local/lib/python3.10/dist-packages (from scikit-learn==1.2.2) (3.2.0)\n",
            "Installing collected packages: scikit-learn\n",
            "  Attempting uninstall: scikit-learn\n",
            "    Found existing installation: scikit-learn 1.3.2\n",
            "    Uninstalling scikit-learn-1.3.2:\n",
            "      Successfully uninstalled scikit-learn-1.3.2\n",
            "\u001b[31mERROR: pip's dependency resolver does not currently take into account all the packages that are installed. This behaviour is the source of the following dependency conflicts.\n",
            "pycaret 3.2.0 requires scipy~=1.10.1, but you have scipy 1.11.3 which is incompatible.\u001b[0m\u001b[31m\n",
            "\u001b[0mSuccessfully installed scikit-learn-1.2.2\n"
          ]
        }
      ],
      "source": [
        "pip install scikit-learn==1.2.2"
      ]
    },
    {
      "cell_type": "markdown",
      "source": [
        "# Extracting data from website"
      ],
      "metadata": {
        "id": "6Z7X2soI1jEL"
      }
    },
    {
      "cell_type": "code",
      "execution_count": 8,
      "metadata": {
        "id": "KJTmZXzpK17I"
      },
      "outputs": [],
      "source": [
        "!wget -q https://archive.ics.uci.edu/static/public/186/wine+quality.zip -O wine.zip\n",
        "!unzip -q wine.zip"
      ]
    },
    {
      "cell_type": "markdown",
      "source": [
        "# Importing dataset into the notebook"
      ],
      "metadata": {
        "id": "F2jfPcUe1oWW"
      }
    },
    {
      "cell_type": "code",
      "execution_count": 9,
      "metadata": {
        "id": "WT4kJZOMLhCc",
        "colab": {
          "base_uri": "https://localhost:8080/",
          "height": 478
        },
        "outputId": "863315f7-881b-4f28-f201-cf82d8176cf4"
      },
      "outputs": [
        {
          "output_type": "execute_result",
          "data": {
            "text/plain": [
              "      fixed acidity  volatile acidity  citric acid  residual sugar  chlorides  \\\n",
              "0               7.4             0.700         0.00             1.9      0.076   \n",
              "1               7.8             0.880         0.00             2.6      0.098   \n",
              "2               7.8             0.760         0.04             2.3      0.092   \n",
              "3              11.2             0.280         0.56             1.9      0.075   \n",
              "4               7.4             0.700         0.00             1.9      0.076   \n",
              "...             ...               ...          ...             ...        ...   \n",
              "1594            6.2             0.600         0.08             2.0      0.090   \n",
              "1595            5.9             0.550         0.10             2.2      0.062   \n",
              "1596            6.3             0.510         0.13             2.3      0.076   \n",
              "1597            5.9             0.645         0.12             2.0      0.075   \n",
              "1598            6.0             0.310         0.47             3.6      0.067   \n",
              "\n",
              "      free sulfur dioxide  total sulfur dioxide  density    pH  sulphates  \\\n",
              "0                    11.0                  34.0  0.99780  3.51       0.56   \n",
              "1                    25.0                  67.0  0.99680  3.20       0.68   \n",
              "2                    15.0                  54.0  0.99700  3.26       0.65   \n",
              "3                    17.0                  60.0  0.99800  3.16       0.58   \n",
              "4                    11.0                  34.0  0.99780  3.51       0.56   \n",
              "...                   ...                   ...      ...   ...        ...   \n",
              "1594                 32.0                  44.0  0.99490  3.45       0.58   \n",
              "1595                 39.0                  51.0  0.99512  3.52       0.76   \n",
              "1596                 29.0                  40.0  0.99574  3.42       0.75   \n",
              "1597                 32.0                  44.0  0.99547  3.57       0.71   \n",
              "1598                 18.0                  42.0  0.99549  3.39       0.66   \n",
              "\n",
              "      alcohol  quality  \n",
              "0         9.4        5  \n",
              "1         9.8        5  \n",
              "2         9.8        5  \n",
              "3         9.8        6  \n",
              "4         9.4        5  \n",
              "...       ...      ...  \n",
              "1594     10.5        5  \n",
              "1595     11.2        6  \n",
              "1596     11.0        6  \n",
              "1597     10.2        5  \n",
              "1598     11.0        6  \n",
              "\n",
              "[1599 rows x 12 columns]"
            ],
            "text/html": [
              "\n",
              "  <div id=\"df-8b4b5d68-9a00-4728-bf53-169a0390dfd0\" class=\"colab-df-container\">\n",
              "    <div>\n",
              "<style scoped>\n",
              "    .dataframe tbody tr th:only-of-type {\n",
              "        vertical-align: middle;\n",
              "    }\n",
              "\n",
              "    .dataframe tbody tr th {\n",
              "        vertical-align: top;\n",
              "    }\n",
              "\n",
              "    .dataframe thead th {\n",
              "        text-align: right;\n",
              "    }\n",
              "</style>\n",
              "<table border=\"1\" class=\"dataframe\">\n",
              "  <thead>\n",
              "    <tr style=\"text-align: right;\">\n",
              "      <th></th>\n",
              "      <th>fixed acidity</th>\n",
              "      <th>volatile acidity</th>\n",
              "      <th>citric acid</th>\n",
              "      <th>residual sugar</th>\n",
              "      <th>chlorides</th>\n",
              "      <th>free sulfur dioxide</th>\n",
              "      <th>total sulfur dioxide</th>\n",
              "      <th>density</th>\n",
              "      <th>pH</th>\n",
              "      <th>sulphates</th>\n",
              "      <th>alcohol</th>\n",
              "      <th>quality</th>\n",
              "    </tr>\n",
              "  </thead>\n",
              "  <tbody>\n",
              "    <tr>\n",
              "      <th>0</th>\n",
              "      <td>7.4</td>\n",
              "      <td>0.700</td>\n",
              "      <td>0.00</td>\n",
              "      <td>1.9</td>\n",
              "      <td>0.076</td>\n",
              "      <td>11.0</td>\n",
              "      <td>34.0</td>\n",
              "      <td>0.99780</td>\n",
              "      <td>3.51</td>\n",
              "      <td>0.56</td>\n",
              "      <td>9.4</td>\n",
              "      <td>5</td>\n",
              "    </tr>\n",
              "    <tr>\n",
              "      <th>1</th>\n",
              "      <td>7.8</td>\n",
              "      <td>0.880</td>\n",
              "      <td>0.00</td>\n",
              "      <td>2.6</td>\n",
              "      <td>0.098</td>\n",
              "      <td>25.0</td>\n",
              "      <td>67.0</td>\n",
              "      <td>0.99680</td>\n",
              "      <td>3.20</td>\n",
              "      <td>0.68</td>\n",
              "      <td>9.8</td>\n",
              "      <td>5</td>\n",
              "    </tr>\n",
              "    <tr>\n",
              "      <th>2</th>\n",
              "      <td>7.8</td>\n",
              "      <td>0.760</td>\n",
              "      <td>0.04</td>\n",
              "      <td>2.3</td>\n",
              "      <td>0.092</td>\n",
              "      <td>15.0</td>\n",
              "      <td>54.0</td>\n",
              "      <td>0.99700</td>\n",
              "      <td>3.26</td>\n",
              "      <td>0.65</td>\n",
              "      <td>9.8</td>\n",
              "      <td>5</td>\n",
              "    </tr>\n",
              "    <tr>\n",
              "      <th>3</th>\n",
              "      <td>11.2</td>\n",
              "      <td>0.280</td>\n",
              "      <td>0.56</td>\n",
              "      <td>1.9</td>\n",
              "      <td>0.075</td>\n",
              "      <td>17.0</td>\n",
              "      <td>60.0</td>\n",
              "      <td>0.99800</td>\n",
              "      <td>3.16</td>\n",
              "      <td>0.58</td>\n",
              "      <td>9.8</td>\n",
              "      <td>6</td>\n",
              "    </tr>\n",
              "    <tr>\n",
              "      <th>4</th>\n",
              "      <td>7.4</td>\n",
              "      <td>0.700</td>\n",
              "      <td>0.00</td>\n",
              "      <td>1.9</td>\n",
              "      <td>0.076</td>\n",
              "      <td>11.0</td>\n",
              "      <td>34.0</td>\n",
              "      <td>0.99780</td>\n",
              "      <td>3.51</td>\n",
              "      <td>0.56</td>\n",
              "      <td>9.4</td>\n",
              "      <td>5</td>\n",
              "    </tr>\n",
              "    <tr>\n",
              "      <th>...</th>\n",
              "      <td>...</td>\n",
              "      <td>...</td>\n",
              "      <td>...</td>\n",
              "      <td>...</td>\n",
              "      <td>...</td>\n",
              "      <td>...</td>\n",
              "      <td>...</td>\n",
              "      <td>...</td>\n",
              "      <td>...</td>\n",
              "      <td>...</td>\n",
              "      <td>...</td>\n",
              "      <td>...</td>\n",
              "    </tr>\n",
              "    <tr>\n",
              "      <th>1594</th>\n",
              "      <td>6.2</td>\n",
              "      <td>0.600</td>\n",
              "      <td>0.08</td>\n",
              "      <td>2.0</td>\n",
              "      <td>0.090</td>\n",
              "      <td>32.0</td>\n",
              "      <td>44.0</td>\n",
              "      <td>0.99490</td>\n",
              "      <td>3.45</td>\n",
              "      <td>0.58</td>\n",
              "      <td>10.5</td>\n",
              "      <td>5</td>\n",
              "    </tr>\n",
              "    <tr>\n",
              "      <th>1595</th>\n",
              "      <td>5.9</td>\n",
              "      <td>0.550</td>\n",
              "      <td>0.10</td>\n",
              "      <td>2.2</td>\n",
              "      <td>0.062</td>\n",
              "      <td>39.0</td>\n",
              "      <td>51.0</td>\n",
              "      <td>0.99512</td>\n",
              "      <td>3.52</td>\n",
              "      <td>0.76</td>\n",
              "      <td>11.2</td>\n",
              "      <td>6</td>\n",
              "    </tr>\n",
              "    <tr>\n",
              "      <th>1596</th>\n",
              "      <td>6.3</td>\n",
              "      <td>0.510</td>\n",
              "      <td>0.13</td>\n",
              "      <td>2.3</td>\n",
              "      <td>0.076</td>\n",
              "      <td>29.0</td>\n",
              "      <td>40.0</td>\n",
              "      <td>0.99574</td>\n",
              "      <td>3.42</td>\n",
              "      <td>0.75</td>\n",
              "      <td>11.0</td>\n",
              "      <td>6</td>\n",
              "    </tr>\n",
              "    <tr>\n",
              "      <th>1597</th>\n",
              "      <td>5.9</td>\n",
              "      <td>0.645</td>\n",
              "      <td>0.12</td>\n",
              "      <td>2.0</td>\n",
              "      <td>0.075</td>\n",
              "      <td>32.0</td>\n",
              "      <td>44.0</td>\n",
              "      <td>0.99547</td>\n",
              "      <td>3.57</td>\n",
              "      <td>0.71</td>\n",
              "      <td>10.2</td>\n",
              "      <td>5</td>\n",
              "    </tr>\n",
              "    <tr>\n",
              "      <th>1598</th>\n",
              "      <td>6.0</td>\n",
              "      <td>0.310</td>\n",
              "      <td>0.47</td>\n",
              "      <td>3.6</td>\n",
              "      <td>0.067</td>\n",
              "      <td>18.0</td>\n",
              "      <td>42.0</td>\n",
              "      <td>0.99549</td>\n",
              "      <td>3.39</td>\n",
              "      <td>0.66</td>\n",
              "      <td>11.0</td>\n",
              "      <td>6</td>\n",
              "    </tr>\n",
              "  </tbody>\n",
              "</table>\n",
              "<p>1599 rows × 12 columns</p>\n",
              "</div>\n",
              "    <div class=\"colab-df-buttons\">\n",
              "\n",
              "  <div class=\"colab-df-container\">\n",
              "    <button class=\"colab-df-convert\" onclick=\"convertToInteractive('df-8b4b5d68-9a00-4728-bf53-169a0390dfd0')\"\n",
              "            title=\"Convert this dataframe to an interactive table.\"\n",
              "            style=\"display:none;\">\n",
              "\n",
              "  <svg xmlns=\"http://www.w3.org/2000/svg\" height=\"24px\" viewBox=\"0 -960 960 960\">\n",
              "    <path d=\"M120-120v-720h720v720H120Zm60-500h600v-160H180v160Zm220 220h160v-160H400v160Zm0 220h160v-160H400v160ZM180-400h160v-160H180v160Zm440 0h160v-160H620v160ZM180-180h160v-160H180v160Zm440 0h160v-160H620v160Z\"/>\n",
              "  </svg>\n",
              "    </button>\n",
              "\n",
              "  <style>\n",
              "    .colab-df-container {\n",
              "      display:flex;\n",
              "      gap: 12px;\n",
              "    }\n",
              "\n",
              "    .colab-df-convert {\n",
              "      background-color: #E8F0FE;\n",
              "      border: none;\n",
              "      border-radius: 50%;\n",
              "      cursor: pointer;\n",
              "      display: none;\n",
              "      fill: #1967D2;\n",
              "      height: 32px;\n",
              "      padding: 0 0 0 0;\n",
              "      width: 32px;\n",
              "    }\n",
              "\n",
              "    .colab-df-convert:hover {\n",
              "      background-color: #E2EBFA;\n",
              "      box-shadow: 0px 1px 2px rgba(60, 64, 67, 0.3), 0px 1px 3px 1px rgba(60, 64, 67, 0.15);\n",
              "      fill: #174EA6;\n",
              "    }\n",
              "\n",
              "    .colab-df-buttons div {\n",
              "      margin-bottom: 4px;\n",
              "    }\n",
              "\n",
              "    [theme=dark] .colab-df-convert {\n",
              "      background-color: #3B4455;\n",
              "      fill: #D2E3FC;\n",
              "    }\n",
              "\n",
              "    [theme=dark] .colab-df-convert:hover {\n",
              "      background-color: #434B5C;\n",
              "      box-shadow: 0px 1px 3px 1px rgba(0, 0, 0, 0.15);\n",
              "      filter: drop-shadow(0px 1px 2px rgba(0, 0, 0, 0.3));\n",
              "      fill: #FFFFFF;\n",
              "    }\n",
              "  </style>\n",
              "\n",
              "    <script>\n",
              "      const buttonEl =\n",
              "        document.querySelector('#df-8b4b5d68-9a00-4728-bf53-169a0390dfd0 button.colab-df-convert');\n",
              "      buttonEl.style.display =\n",
              "        google.colab.kernel.accessAllowed ? 'block' : 'none';\n",
              "\n",
              "      async function convertToInteractive(key) {\n",
              "        const element = document.querySelector('#df-8b4b5d68-9a00-4728-bf53-169a0390dfd0');\n",
              "        const dataTable =\n",
              "          await google.colab.kernel.invokeFunction('convertToInteractive',\n",
              "                                                    [key], {});\n",
              "        if (!dataTable) return;\n",
              "\n",
              "        const docLinkHtml = 'Like what you see? Visit the ' +\n",
              "          '<a target=\"_blank\" href=https://colab.research.google.com/notebooks/data_table.ipynb>data table notebook</a>'\n",
              "          + ' to learn more about interactive tables.';\n",
              "        element.innerHTML = '';\n",
              "        dataTable['output_type'] = 'display_data';\n",
              "        await google.colab.output.renderOutput(dataTable, element);\n",
              "        const docLink = document.createElement('div');\n",
              "        docLink.innerHTML = docLinkHtml;\n",
              "        element.appendChild(docLink);\n",
              "      }\n",
              "    </script>\n",
              "  </div>\n",
              "\n",
              "\n",
              "<div id=\"df-91cf0080-70cf-483a-ba5e-ece53382f05c\">\n",
              "  <button class=\"colab-df-quickchart\" onclick=\"quickchart('df-91cf0080-70cf-483a-ba5e-ece53382f05c')\"\n",
              "            title=\"Suggest charts\"\n",
              "            style=\"display:none;\">\n",
              "\n",
              "<svg xmlns=\"http://www.w3.org/2000/svg\" height=\"24px\"viewBox=\"0 0 24 24\"\n",
              "     width=\"24px\">\n",
              "    <g>\n",
              "        <path d=\"M19 3H5c-1.1 0-2 .9-2 2v14c0 1.1.9 2 2 2h14c1.1 0 2-.9 2-2V5c0-1.1-.9-2-2-2zM9 17H7v-7h2v7zm4 0h-2V7h2v10zm4 0h-2v-4h2v4z\"/>\n",
              "    </g>\n",
              "</svg>\n",
              "  </button>\n",
              "\n",
              "<style>\n",
              "  .colab-df-quickchart {\n",
              "      --bg-color: #E8F0FE;\n",
              "      --fill-color: #1967D2;\n",
              "      --hover-bg-color: #E2EBFA;\n",
              "      --hover-fill-color: #174EA6;\n",
              "      --disabled-fill-color: #AAA;\n",
              "      --disabled-bg-color: #DDD;\n",
              "  }\n",
              "\n",
              "  [theme=dark] .colab-df-quickchart {\n",
              "      --bg-color: #3B4455;\n",
              "      --fill-color: #D2E3FC;\n",
              "      --hover-bg-color: #434B5C;\n",
              "      --hover-fill-color: #FFFFFF;\n",
              "      --disabled-bg-color: #3B4455;\n",
              "      --disabled-fill-color: #666;\n",
              "  }\n",
              "\n",
              "  .colab-df-quickchart {\n",
              "    background-color: var(--bg-color);\n",
              "    border: none;\n",
              "    border-radius: 50%;\n",
              "    cursor: pointer;\n",
              "    display: none;\n",
              "    fill: var(--fill-color);\n",
              "    height: 32px;\n",
              "    padding: 0;\n",
              "    width: 32px;\n",
              "  }\n",
              "\n",
              "  .colab-df-quickchart:hover {\n",
              "    background-color: var(--hover-bg-color);\n",
              "    box-shadow: 0 1px 2px rgba(60, 64, 67, 0.3), 0 1px 3px 1px rgba(60, 64, 67, 0.15);\n",
              "    fill: var(--button-hover-fill-color);\n",
              "  }\n",
              "\n",
              "  .colab-df-quickchart-complete:disabled,\n",
              "  .colab-df-quickchart-complete:disabled:hover {\n",
              "    background-color: var(--disabled-bg-color);\n",
              "    fill: var(--disabled-fill-color);\n",
              "    box-shadow: none;\n",
              "  }\n",
              "\n",
              "  .colab-df-spinner {\n",
              "    border: 2px solid var(--fill-color);\n",
              "    border-color: transparent;\n",
              "    border-bottom-color: var(--fill-color);\n",
              "    animation:\n",
              "      spin 1s steps(1) infinite;\n",
              "  }\n",
              "\n",
              "  @keyframes spin {\n",
              "    0% {\n",
              "      border-color: transparent;\n",
              "      border-bottom-color: var(--fill-color);\n",
              "      border-left-color: var(--fill-color);\n",
              "    }\n",
              "    20% {\n",
              "      border-color: transparent;\n",
              "      border-left-color: var(--fill-color);\n",
              "      border-top-color: var(--fill-color);\n",
              "    }\n",
              "    30% {\n",
              "      border-color: transparent;\n",
              "      border-left-color: var(--fill-color);\n",
              "      border-top-color: var(--fill-color);\n",
              "      border-right-color: var(--fill-color);\n",
              "    }\n",
              "    40% {\n",
              "      border-color: transparent;\n",
              "      border-right-color: var(--fill-color);\n",
              "      border-top-color: var(--fill-color);\n",
              "    }\n",
              "    60% {\n",
              "      border-color: transparent;\n",
              "      border-right-color: var(--fill-color);\n",
              "    }\n",
              "    80% {\n",
              "      border-color: transparent;\n",
              "      border-right-color: var(--fill-color);\n",
              "      border-bottom-color: var(--fill-color);\n",
              "    }\n",
              "    90% {\n",
              "      border-color: transparent;\n",
              "      border-bottom-color: var(--fill-color);\n",
              "    }\n",
              "  }\n",
              "</style>\n",
              "\n",
              "  <script>\n",
              "    async function quickchart(key) {\n",
              "      const quickchartButtonEl =\n",
              "        document.querySelector('#' + key + ' button');\n",
              "      quickchartButtonEl.disabled = true;  // To prevent multiple clicks.\n",
              "      quickchartButtonEl.classList.add('colab-df-spinner');\n",
              "      try {\n",
              "        const charts = await google.colab.kernel.invokeFunction(\n",
              "            'suggestCharts', [key], {});\n",
              "      } catch (error) {\n",
              "        console.error('Error during call to suggestCharts:', error);\n",
              "      }\n",
              "      quickchartButtonEl.classList.remove('colab-df-spinner');\n",
              "      quickchartButtonEl.classList.add('colab-df-quickchart-complete');\n",
              "    }\n",
              "    (() => {\n",
              "      let quickchartButtonEl =\n",
              "        document.querySelector('#df-91cf0080-70cf-483a-ba5e-ece53382f05c button');\n",
              "      quickchartButtonEl.style.display =\n",
              "        google.colab.kernel.accessAllowed ? 'block' : 'none';\n",
              "    })();\n",
              "  </script>\n",
              "</div>\n",
              "    </div>\n",
              "  </div>\n"
            ]
          },
          "metadata": {},
          "execution_count": 9
        }
      ],
      "source": [
        "import pandas as pd\n",
        "import seaborn as sns\n",
        "import matplotlib.pyplot as plt\n",
        "redwine = pd.read_csv('winequality-red.csv' , delimiter=\";\")\n",
        "#redwine['target']=redwine['quality']\n",
        "redwine"
      ]
    },
    {
      "cell_type": "markdown",
      "source": [
        "# Checking Correlation and Distribution of Quality values"
      ],
      "metadata": {
        "id": "UVHQQ5uJlGgs"
      }
    },
    {
      "cell_type": "code",
      "source": [
        "correlations = redwine.iloc[:, :].corr(method='pearson')\n",
        "\n",
        "# Print the correlation matrix\n",
        "print(correlations)"
      ],
      "metadata": {
        "colab": {
          "base_uri": "https://localhost:8080/"
        },
        "id": "lKTDqnkPlFwA",
        "outputId": "21d183ff-5ca3-49be-a767-532c0596aaf6"
      },
      "execution_count": 10,
      "outputs": [
        {
          "output_type": "stream",
          "name": "stdout",
          "text": [
            "                      fixed acidity  volatile acidity  citric acid  \\\n",
            "fixed acidity              1.000000         -0.256131     0.671703   \n",
            "volatile acidity          -0.256131          1.000000    -0.552496   \n",
            "citric acid                0.671703         -0.552496     1.000000   \n",
            "residual sugar             0.114777          0.001918     0.143577   \n",
            "chlorides                  0.093705          0.061298     0.203823   \n",
            "free sulfur dioxide       -0.153794         -0.010504    -0.060978   \n",
            "total sulfur dioxide      -0.113181          0.076470     0.035533   \n",
            "density                    0.668047          0.022026     0.364947   \n",
            "pH                        -0.682978          0.234937    -0.541904   \n",
            "sulphates                  0.183006         -0.260987     0.312770   \n",
            "alcohol                   -0.061668         -0.202288     0.109903   \n",
            "quality                    0.124052         -0.390558     0.226373   \n",
            "\n",
            "                      residual sugar  chlorides  free sulfur dioxide  \\\n",
            "fixed acidity               0.114777   0.093705            -0.153794   \n",
            "volatile acidity            0.001918   0.061298            -0.010504   \n",
            "citric acid                 0.143577   0.203823            -0.060978   \n",
            "residual sugar              1.000000   0.055610             0.187049   \n",
            "chlorides                   0.055610   1.000000             0.005562   \n",
            "free sulfur dioxide         0.187049   0.005562             1.000000   \n",
            "total sulfur dioxide        0.203028   0.047400             0.667666   \n",
            "density                     0.355283   0.200632            -0.021946   \n",
            "pH                         -0.085652  -0.265026             0.070377   \n",
            "sulphates                   0.005527   0.371260             0.051658   \n",
            "alcohol                     0.042075  -0.221141            -0.069408   \n",
            "quality                     0.013732  -0.128907            -0.050656   \n",
            "\n",
            "                      total sulfur dioxide   density        pH  sulphates  \\\n",
            "fixed acidity                    -0.113181  0.668047 -0.682978   0.183006   \n",
            "volatile acidity                  0.076470  0.022026  0.234937  -0.260987   \n",
            "citric acid                       0.035533  0.364947 -0.541904   0.312770   \n",
            "residual sugar                    0.203028  0.355283 -0.085652   0.005527   \n",
            "chlorides                         0.047400  0.200632 -0.265026   0.371260   \n",
            "free sulfur dioxide               0.667666 -0.021946  0.070377   0.051658   \n",
            "total sulfur dioxide              1.000000  0.071269 -0.066495   0.042947   \n",
            "density                           0.071269  1.000000 -0.341699   0.148506   \n",
            "pH                               -0.066495 -0.341699  1.000000  -0.196648   \n",
            "sulphates                         0.042947  0.148506 -0.196648   1.000000   \n",
            "alcohol                          -0.205654 -0.496180  0.205633   0.093595   \n",
            "quality                          -0.185100 -0.174919 -0.057731   0.251397   \n",
            "\n",
            "                       alcohol   quality  \n",
            "fixed acidity        -0.061668  0.124052  \n",
            "volatile acidity     -0.202288 -0.390558  \n",
            "citric acid           0.109903  0.226373  \n",
            "residual sugar        0.042075  0.013732  \n",
            "chlorides            -0.221141 -0.128907  \n",
            "free sulfur dioxide  -0.069408 -0.050656  \n",
            "total sulfur dioxide -0.205654 -0.185100  \n",
            "density              -0.496180 -0.174919  \n",
            "pH                    0.205633 -0.057731  \n",
            "sulphates             0.093595  0.251397  \n",
            "alcohol               1.000000  0.476166  \n",
            "quality               0.476166  1.000000  \n"
          ]
        }
      ]
    },
    {
      "cell_type": "code",
      "execution_count": 11,
      "metadata": {
        "colab": {
          "base_uri": "https://localhost:8080/",
          "height": 143
        },
        "id": "jQVXAf_vsNnt",
        "outputId": "920f8f7e-f98a-44db-de79-1b8bc3d3bdae"
      },
      "outputs": [
        {
          "output_type": "execute_result",
          "data": {
            "text/plain": [
              "Text(0.5, 1.0, 'Barplot of quality')"
            ]
          },
          "metadata": {},
          "execution_count": 11
        },
        {
          "output_type": "display_data",
          "data": {
            "text/plain": [
              "<Figure size 640x480 with 1 Axes>"
            ],
            "image/png": "[encoded data removed]"
          },
          "metadata": {}
        }
      ],
      "source": [
        "sns.countplot(x = 'quality', data=redwine, palette ='Set1')\n",
        "plt.title(\"Barplot of quality\")"
      ]
    },
    {
      "cell_type": "code",
      "execution_count": 12,
      "metadata": {
        "colab": {
          "base_uri": "https://localhost:8080/",
          "height": 54
        },
        "id": "n22x-tQKj4xc",
        "outputId": "5ff1cdb3-f5e4-44b3-fb88-4e7141112983"
      },
      "outputs": [
        {
          "output_type": "display_data",
          "data": {
            "text/plain": [
              "<Figure size 640x480 with 2 Axes>"
            ],
            "image/png": "[encoded data removed]"
          },
          "metadata": {}
        }
      ],
      "source": [
        "scale = redwine['quality']\n",
        "\n",
        "plt.subplot(1, 2, 1)\n",
        "sns.countplot(x=scale)\n",
        "plt.xlabel(\"Wine Quality\")\n",
        "\n",
        "plt.subplot(1, 2, 2)\n",
        "value_counts = scale.value_counts().sort_index()\n",
        "labels = ['3', '4', '5', '6', '7', '8']\n",
        "plt.pie(value_counts, labels=labels, startangle=90, autopct=\"%.2f%%\", explode=[1.3, 0.3, 0, 0, 0, 0.6], textprops={'fontsize': 8})\n",
        "plt.xlabel(\"Percentage of Wine Quality\")\n",
        "\n",
        "plt.suptitle('Distribution of Wine Quality')\n",
        "sns.despine()\n",
        "\n",
        "plt.show()"
      ]
    },
    {
      "cell_type": "markdown",
      "source": [
        "# Converting quality to categorical data"
      ],
      "metadata": {
        "id": "2qzocvj914B0"
      }
    },
    {
      "cell_type": "code",
      "execution_count": 13,
      "metadata": {
        "colab": {
          "base_uri": "https://localhost:8080/"
        },
        "id": "Pid7m61N2mjz",
        "outputId": "65acdadf-1969-4514-ac3b-99c3c1723891"
      },
      "outputs": [
        {
          "output_type": "execute_result",
          "data": {
            "text/plain": [
              "fixed acidity            float64\n",
              "volatile acidity         float64\n",
              "citric acid              float64\n",
              "residual sugar           float64\n",
              "chlorides                float64\n",
              "free sulfur dioxide      float64\n",
              "total sulfur dioxide     float64\n",
              "density                  float64\n",
              "pH                       float64\n",
              "sulphates                float64\n",
              "alcohol                  float64\n",
              "quality                 category\n",
              "dtype: object"
            ]
          },
          "metadata": {},
          "execution_count": 13
        }
      ],
      "source": [
        "redwine['quality'] = redwine['quality'].astype('category')\n",
        "redwine.dtypes"
      ]
    },
    {
      "cell_type": "markdown",
      "metadata": {
        "id": "UptwzVWtd3S_"
      },
      "source": [
        "Since there is an imbalance in data, we can over sample the minority class using SMOTE."
      ]
    },
    {
      "cell_type": "code",
      "execution_count": 14,
      "metadata": {
        "id": "GHEk-KV7dkfX"
      },
      "outputs": [],
      "source": [
        "X = redwine.drop(['quality'], axis=1)\n",
        "y = redwine.quality"
      ]
    },
    {
      "cell_type": "code",
      "execution_count": 15,
      "metadata": {
        "id": "Eorjd22ddvvZ"
      },
      "outputs": [],
      "source": [
        "from imblearn.over_sampling import SMOTE\n",
        "smote = SMOTE()\n",
        "X_smote, y_smote = smote.fit_resample(X, y)"
      ]
    },
    {
      "cell_type": "code",
      "execution_count": 16,
      "metadata": {
        "colab": {
          "base_uri": "https://localhost:8080/",
          "height": 54
        },
        "id": "4lpiH4J0eHze",
        "outputId": "e62aef41-a5d1-433c-a2b4-7370980d24f4"
      },
      "outputs": [
        {
          "output_type": "display_data",
          "data": {
            "text/plain": [
              "<Figure size 1500x400 with 2 Axes>"
            ],
            "image/png": "[encoded data removed]"
          },
          "metadata": {}
        }
      ],
      "source": [
        "sns.set_style(\"white\")\n",
        "plt.figure(figsize=(15, 4))\n",
        "\n",
        "plt.subplot(1, 2, 1)\n",
        "sns.countplot(data=redwine, x='quality')\n",
        "plt.xlabel(\"\\nBefore sampling\")\n",
        "\n",
        "plt.subplot(1, 2, 2)\n",
        "sns.countplot(x=y_smote)\n",
        "labels = ['3', '4', '5', '6', '7', '8']\n",
        "plt.xlabel(\"\\nAfter sampling\")\n",
        "\n",
        "plt.suptitle('Over sampling \\n\\n\\n')\n",
        "\n",
        "sns.despine()\n",
        "\n",
        "plt.show()"
      ]
    },
    {
      "cell_type": "code",
      "execution_count": 17,
      "metadata": {
        "colab": {
          "base_uri": "https://localhost:8080/",
          "height": 90
        },
        "id": "Wz5HcDGyecVD",
        "outputId": "5b8b42c9-d895-48e8-f76c-29575071e3fe"
      },
      "outputs": [
        {
          "output_type": "stream",
          "name": "stderr",
          "text": [
            "<ipython-input-17-7139bd64783a>:3: FutureWarning: The default value of numeric_only in DataFrame.corr is deprecated. In a future version, it will default to False. Select only valid columns or specify the value of numeric_only to silence this warning.\n",
            "  sns.heatmap(redwine.corr(), annot=True, cmap=plt.cm.Spectral)\n"
          ]
        },
        {
          "output_type": "display_data",
          "data": {
            "text/plain": [
              "<Figure size 1200x900 with 2 Axes>"
            ],
            "image/png": "[encoded data removed]"
          },
          "metadata": {}
        }
      ],
      "source": [
        "#Visualize correlation after SMOTE\n",
        "plt.figure(figsize=(12, 9))\n",
        "sns.heatmap(redwine.corr(), annot=True, cmap=plt.cm.Spectral)\n",
        "plt.show()"
      ]
    },
    {
      "cell_type": "markdown",
      "source": [
        "# Using Pycaret for baseline models"
      ],
      "metadata": {
        "id": "5Rl45Ryz2-Ns"
      }
    },
    {
      "cell_type": "code",
      "execution_count": 18,
      "metadata": {
        "colab": {
          "base_uri": "https://localhost:8080/",
          "height": 993
        },
        "id": "ePDP_-C-MZpj",
        "outputId": "4098524d-c150-47bd-dfa1-7f0754727e15"
      },
      "outputs": [
        {
          "output_type": "display_data",
          "data": {
            "text/plain": [
              "<pandas.io.formats.style.Styler at 0x7fe18e2fe7a0>"
            ],
            "text/html": [
              "<style type=\"text/css\">\n",
              "#T_e0005_row9_col1 {\n",
              "  background-color: lightgreen;\n",
              "}\n",
              "</style>\n",
              "<table id=\"T_e0005\" class=\"dataframe\">\n",
              "  <thead>\n",
              "    <tr>\n",
              "      <th class=\"blank level0\" >&nbsp;</th>\n",
              "      <th id=\"T_e0005_level0_col0\" class=\"col_heading level0 col0\" >Description</th>\n",
              "      <th id=\"T_e0005_level0_col1\" class=\"col_heading level0 col1\" >Value</th>\n",
              "    </tr>\n",
              "  </thead>\n",
              "  <tbody>\n",
              "    <tr>\n",
              "      <th id=\"T_e0005_level0_row0\" class=\"row_heading level0 row0\" >0</th>\n",
              "      <td id=\"T_e0005_row0_col0\" class=\"data row0 col0\" >Session id</td>\n",
              "      <td id=\"T_e0005_row0_col1\" class=\"data row0 col1\" >123</td>\n",
              "    </tr>\n",
              "    <tr>\n",
              "      <th id=\"T_e0005_level0_row1\" class=\"row_heading level0 row1\" >1</th>\n",
              "      <td id=\"T_e0005_row1_col0\" class=\"data row1 col0\" >Target</td>\n",
              "      <td id=\"T_e0005_row1_col1\" class=\"data row1 col1\" >quality</td>\n",
              "    </tr>\n",
              "    <tr>\n",
              "      <th id=\"T_e0005_level0_row2\" class=\"row_heading level0 row2\" >2</th>\n",
              "      <td id=\"T_e0005_row2_col0\" class=\"data row2 col0\" >Target type</td>\n",
              "      <td id=\"T_e0005_row2_col1\" class=\"data row2 col1\" >Multiclass</td>\n",
              "    </tr>\n",
              "    <tr>\n",
              "      <th id=\"T_e0005_level0_row3\" class=\"row_heading level0 row3\" >3</th>\n",
              "      <td id=\"T_e0005_row3_col0\" class=\"data row3 col0\" >Target mapping</td>\n",
              "      <td id=\"T_e0005_row3_col1\" class=\"data row3 col1\" >3: 0, 4: 1, 5: 2, 6: 3, 7: 4, 8: 5</td>\n",
              "    </tr>\n",
              "    <tr>\n",
              "      <th id=\"T_e0005_level0_row4\" class=\"row_heading level0 row4\" >4</th>\n",
              "      <td id=\"T_e0005_row4_col0\" class=\"data row4 col0\" >Original data shape</td>\n",
              "      <td id=\"T_e0005_row4_col1\" class=\"data row4 col1\" >(1599, 12)</td>\n",
              "    </tr>\n",
              "    <tr>\n",
              "      <th id=\"T_e0005_level0_row5\" class=\"row_heading level0 row5\" >5</th>\n",
              "      <td id=\"T_e0005_row5_col0\" class=\"data row5 col0\" >Transformed data shape</td>\n",
              "      <td id=\"T_e0005_row5_col1\" class=\"data row5 col1\" >(1599, 12)</td>\n",
              "    </tr>\n",
              "    <tr>\n",
              "      <th id=\"T_e0005_level0_row6\" class=\"row_heading level0 row6\" >6</th>\n",
              "      <td id=\"T_e0005_row6_col0\" class=\"data row6 col0\" >Transformed train set shape</td>\n",
              "      <td id=\"T_e0005_row6_col1\" class=\"data row6 col1\" >(1119, 12)</td>\n",
              "    </tr>\n",
              "    <tr>\n",
              "      <th id=\"T_e0005_level0_row7\" class=\"row_heading level0 row7\" >7</th>\n",
              "      <td id=\"T_e0005_row7_col0\" class=\"data row7 col0\" >Transformed test set shape</td>\n",
              "      <td id=\"T_e0005_row7_col1\" class=\"data row7 col1\" >(480, 12)</td>\n",
              "    </tr>\n",
              "    <tr>\n",
              "      <th id=\"T_e0005_level0_row8\" class=\"row_heading level0 row8\" >8</th>\n",
              "      <td id=\"T_e0005_row8_col0\" class=\"data row8 col0\" >Numeric features</td>\n",
              "      <td id=\"T_e0005_row8_col1\" class=\"data row8 col1\" >11</td>\n",
              "    </tr>\n",
              "    <tr>\n",
              "      <th id=\"T_e0005_level0_row9\" class=\"row_heading level0 row9\" >9</th>\n",
              "      <td id=\"T_e0005_row9_col0\" class=\"data row9 col0\" >Preprocess</td>\n",
              "      <td id=\"T_e0005_row9_col1\" class=\"data row9 col1\" >True</td>\n",
              "    </tr>\n",
              "    <tr>\n",
              "      <th id=\"T_e0005_level0_row10\" class=\"row_heading level0 row10\" >10</th>\n",
              "      <td id=\"T_e0005_row10_col0\" class=\"data row10 col0\" >Imputation type</td>\n",
              "      <td id=\"T_e0005_row10_col1\" class=\"data row10 col1\" >simple</td>\n",
              "    </tr>\n",
              "    <tr>\n",
              "      <th id=\"T_e0005_level0_row11\" class=\"row_heading level0 row11\" >11</th>\n",
              "      <td id=\"T_e0005_row11_col0\" class=\"data row11 col0\" >Numeric imputation</td>\n",
              "      <td id=\"T_e0005_row11_col1\" class=\"data row11 col1\" >mean</td>\n",
              "    </tr>\n",
              "    <tr>\n",
              "      <th id=\"T_e0005_level0_row12\" class=\"row_heading level0 row12\" >12</th>\n",
              "      <td id=\"T_e0005_row12_col0\" class=\"data row12 col0\" >Categorical imputation</td>\n",
              "      <td id=\"T_e0005_row12_col1\" class=\"data row12 col1\" >mode</td>\n",
              "    </tr>\n",
              "    <tr>\n",
              "      <th id=\"T_e0005_level0_row13\" class=\"row_heading level0 row13\" >13</th>\n",
              "      <td id=\"T_e0005_row13_col0\" class=\"data row13 col0\" >Fold Generator</td>\n",
              "      <td id=\"T_e0005_row13_col1\" class=\"data row13 col1\" >StratifiedKFold</td>\n",
              "    </tr>\n",
              "    <tr>\n",
              "      <th id=\"T_e0005_level0_row14\" class=\"row_heading level0 row14\" >14</th>\n",
              "      <td id=\"T_e0005_row14_col0\" class=\"data row14 col0\" >Fold Number</td>\n",
              "      <td id=\"T_e0005_row14_col1\" class=\"data row14 col1\" >15</td>\n",
              "    </tr>\n",
              "    <tr>\n",
              "      <th id=\"T_e0005_level0_row15\" class=\"row_heading level0 row15\" >15</th>\n",
              "      <td id=\"T_e0005_row15_col0\" class=\"data row15 col0\" >CPU Jobs</td>\n",
              "      <td id=\"T_e0005_row15_col1\" class=\"data row15 col1\" >-1</td>\n",
              "    </tr>\n",
              "    <tr>\n",
              "      <th id=\"T_e0005_level0_row16\" class=\"row_heading level0 row16\" >16</th>\n",
              "      <td id=\"T_e0005_row16_col0\" class=\"data row16 col0\" >Use GPU</td>\n",
              "      <td id=\"T_e0005_row16_col1\" class=\"data row16 col1\" >False</td>\n",
              "    </tr>\n",
              "    <tr>\n",
              "      <th id=\"T_e0005_level0_row17\" class=\"row_heading level0 row17\" >17</th>\n",
              "      <td id=\"T_e0005_row17_col0\" class=\"data row17 col0\" >Log Experiment</td>\n",
              "      <td id=\"T_e0005_row17_col1\" class=\"data row17 col1\" >False</td>\n",
              "    </tr>\n",
              "    <tr>\n",
              "      <th id=\"T_e0005_level0_row18\" class=\"row_heading level0 row18\" >18</th>\n",
              "      <td id=\"T_e0005_row18_col0\" class=\"data row18 col0\" >Experiment Name</td>\n",
              "      <td id=\"T_e0005_row18_col1\" class=\"data row18 col1\" >clf-default-name</td>\n",
              "    </tr>\n",
              "    <tr>\n",
              "      <th id=\"T_e0005_level0_row19\" class=\"row_heading level0 row19\" >19</th>\n",
              "      <td id=\"T_e0005_row19_col0\" class=\"data row19 col0\" >USI</td>\n",
              "      <td id=\"T_e0005_row19_col1\" class=\"data row19 col1\" >feeb</td>\n",
              "    </tr>\n",
              "  </tbody>\n",
              "</table>\n"
            ]
          },
          "metadata": {}
        },
        {
          "output_type": "execute_result",
          "data": {
            "text/plain": [
              "<pycaret.classification.oop.ClassificationExperiment at 0x7fe1b7d44a30>"
            ]
          },
          "metadata": {},
          "execution_count": 18
        }
      ],
      "source": [
        "from pycaret.classification import ClassificationExperiment\n",
        "s = ClassificationExperiment()\n",
        "s.setup(redwine, target='quality', session_id=123, fix_imbalance=False, fold=15) #, polynomial_features = True"
      ]
    },
    {
      "cell_type": "code",
      "execution_count": 19,
      "metadata": {
        "id": "kizPaD5FPK1R",
        "colab": {
          "base_uri": "https://localhost:8080/",
          "height": 956,
          "referenced_widgets": [
            "77e6ddccc1c84766a4ecc957647e308c",
            "e293164f69bd4a72a1e9cf97f6b2e522",
            "0bbc70e063ed47aa8cac6e3d81023930",
            "0c11e7307cd540d5b15f018a35eac1a8",
            "ef0ff35d9c804c72a6e14d4a5ce812d5",
            "f2d801c02e324dcf998d747be046a88d",
            "d2118808fd614bf9984639efd8fa96b0",
            "09b40584a0c24c64994a3e985fb3a1e6",
            "5c104d5ab770408b81d74ffb305022f6",
            "6fbaafd2676e4a4ca42a3e9c7203a59d",
            "8294b2dd72994317b0a1abd78418aeda"
          ]
        },
        "outputId": "1e17557f-540f-415a-a8bd-a8d600481e86"
      },
      "outputs": [
        {
          "output_type": "display_data",
          "data": {
            "text/plain": [
              "<IPython.core.display.HTML object>"
            ],
            "text/html": []
          },
          "metadata": {}
        },
        {
          "output_type": "display_data",
          "data": {
            "text/plain": [
              "<pandas.io.formats.style.Styler at 0x7fe1a78e6680>"
            ],
            "text/html": [
              "<style type=\"text/css\">\n",
              "#T_8bae4 th {\n",
              "  text-align: left;\n",
              "}\n",
              "#T_8bae4_row0_col0, #T_8bae4_row0_col2, #T_8bae4_row1_col0, #T_8bae4_row1_col1, #T_8bae4_row1_col3, #T_8bae4_row1_col4, #T_8bae4_row1_col5, #T_8bae4_row1_col6, #T_8bae4_row1_col7, #T_8bae4_row2_col0, #T_8bae4_row2_col1, #T_8bae4_row2_col2, #T_8bae4_row2_col3, #T_8bae4_row2_col4, #T_8bae4_row2_col5, #T_8bae4_row2_col6, #T_8bae4_row2_col7, #T_8bae4_row3_col0, #T_8bae4_row3_col1, #T_8bae4_row3_col2, #T_8bae4_row3_col3, #T_8bae4_row3_col4, #T_8bae4_row3_col5, #T_8bae4_row3_col6, #T_8bae4_row3_col7, #T_8bae4_row4_col0, #T_8bae4_row4_col1, #T_8bae4_row4_col2, #T_8bae4_row4_col3, #T_8bae4_row4_col4, #T_8bae4_row4_col5, #T_8bae4_row4_col6, #T_8bae4_row4_col7, #T_8bae4_row5_col0, #T_8bae4_row5_col1, #T_8bae4_row5_col2, #T_8bae4_row5_col3, #T_8bae4_row5_col4, #T_8bae4_row5_col5, #T_8bae4_row5_col6, #T_8bae4_row5_col7, #T_8bae4_row6_col0, #T_8bae4_row6_col1, #T_8bae4_row6_col2, #T_8bae4_row6_col3, #T_8bae4_row6_col4, #T_8bae4_row6_col5, #T_8bae4_row6_col6, #T_8bae4_row6_col7, #T_8bae4_row7_col0, #T_8bae4_row7_col1, #T_8bae4_row7_col2, #T_8bae4_row7_col3, #T_8bae4_row7_col4, #T_8bae4_row7_col5, #T_8bae4_row7_col6, #T_8bae4_row7_col7, #T_8bae4_row8_col0, #T_8bae4_row8_col1, #T_8bae4_row8_col2, #T_8bae4_row8_col3, #T_8bae4_row8_col4, #T_8bae4_row8_col5, #T_8bae4_row8_col6, #T_8bae4_row8_col7, #T_8bae4_row9_col0, #T_8bae4_row9_col1, #T_8bae4_row9_col2, #T_8bae4_row9_col3, #T_8bae4_row9_col4, #T_8bae4_row9_col5, #T_8bae4_row9_col6, #T_8bae4_row9_col7, #T_8bae4_row10_col0, #T_8bae4_row10_col1, #T_8bae4_row10_col2, #T_8bae4_row10_col3, #T_8bae4_row10_col4, #T_8bae4_row10_col5, #T_8bae4_row10_col6, #T_8bae4_row10_col7, #T_8bae4_row11_col0, #T_8bae4_row11_col1, #T_8bae4_row11_col2, #T_8bae4_row11_col3, #T_8bae4_row11_col4, #T_8bae4_row11_col5, #T_8bae4_row11_col6, #T_8bae4_row11_col7, #T_8bae4_row12_col0, #T_8bae4_row12_col1, #T_8bae4_row12_col2, #T_8bae4_row12_col3, #T_8bae4_row12_col4, #T_8bae4_row12_col5, #T_8bae4_row12_col6, #T_8bae4_row12_col7, #T_8bae4_row13_col0, #T_8bae4_row13_col1, #T_8bae4_row13_col2, #T_8bae4_row13_col3, #T_8bae4_row13_col4, #T_8bae4_row13_col5, #T_8bae4_row13_col6, #T_8bae4_row13_col7, #T_8bae4_row14_col0, #T_8bae4_row14_col1, #T_8bae4_row14_col2, #T_8bae4_row14_col3, #T_8bae4_row14_col4, #T_8bae4_row14_col5, #T_8bae4_row14_col6, #T_8bae4_row14_col7 {\n",
              "  text-align: left;\n",
              "}\n",
              "#T_8bae4_row0_col1, #T_8bae4_row0_col3, #T_8bae4_row0_col4, #T_8bae4_row0_col5, #T_8bae4_row0_col6, #T_8bae4_row0_col7, #T_8bae4_row1_col2 {\n",
              "  text-align: left;\n",
              "  background-color: yellow;\n",
              "}\n",
              "#T_8bae4_row0_col8, #T_8bae4_row1_col8, #T_8bae4_row2_col8, #T_8bae4_row3_col8, #T_8bae4_row4_col8, #T_8bae4_row5_col8, #T_8bae4_row6_col8, #T_8bae4_row7_col8, #T_8bae4_row8_col8, #T_8bae4_row9_col8, #T_8bae4_row10_col8, #T_8bae4_row12_col8, #T_8bae4_row13_col8, #T_8bae4_row14_col8 {\n",
              "  text-align: left;\n",
              "  background-color: lightgrey;\n",
              "}\n",
              "#T_8bae4_row11_col8 {\n",
              "  text-align: left;\n",
              "  background-color: yellow;\n",
              "  background-color: lightgrey;\n",
              "}\n",
              "</style>\n",
              "<table id=\"T_8bae4\" class=\"dataframe\">\n",
              "  <thead>\n",
              "    <tr>\n",
              "      <th class=\"blank level0\" >&nbsp;</th>\n",
              "      <th id=\"T_8bae4_level0_col0\" class=\"col_heading level0 col0\" >Model</th>\n",
              "      <th id=\"T_8bae4_level0_col1\" class=\"col_heading level0 col1\" >Accuracy</th>\n",
              "      <th id=\"T_8bae4_level0_col2\" class=\"col_heading level0 col2\" >AUC</th>\n",
              "      <th id=\"T_8bae4_level0_col3\" class=\"col_heading level0 col3\" >Recall</th>\n",
              "      <th id=\"T_8bae4_level0_col4\" class=\"col_heading level0 col4\" >Prec.</th>\n",
              "      <th id=\"T_8bae4_level0_col5\" class=\"col_heading level0 col5\" >F1</th>\n",
              "      <th id=\"T_8bae4_level0_col6\" class=\"col_heading level0 col6\" >Kappa</th>\n",
              "      <th id=\"T_8bae4_level0_col7\" class=\"col_heading level0 col7\" >MCC</th>\n",
              "      <th id=\"T_8bae4_level0_col8\" class=\"col_heading level0 col8\" >TT (Sec)</th>\n",
              "    </tr>\n",
              "  </thead>\n",
              "  <tbody>\n",
              "    <tr>\n",
              "      <th id=\"T_8bae4_level0_row0\" class=\"row_heading level0 row0\" >et</th>\n",
              "      <td id=\"T_8bae4_row0_col0\" class=\"data row0 col0\" >Extra Trees Classifier</td>\n",
              "      <td id=\"T_8bae4_row0_col1\" class=\"data row0 col1\" >0.6747</td>\n",
              "      <td id=\"T_8bae4_row0_col2\" class=\"data row0 col2\" >0.2770</td>\n",
              "      <td id=\"T_8bae4_row0_col3\" class=\"data row0 col3\" >0.6747</td>\n",
              "      <td id=\"T_8bae4_row0_col4\" class=\"data row0 col4\" >0.6525</td>\n",
              "      <td id=\"T_8bae4_row0_col5\" class=\"data row0 col5\" >0.6532</td>\n",
              "      <td id=\"T_8bae4_row0_col6\" class=\"data row0 col6\" >0.4682</td>\n",
              "      <td id=\"T_8bae4_row0_col7\" class=\"data row0 col7\" >0.4739</td>\n",
              "      <td id=\"T_8bae4_row0_col8\" class=\"data row0 col8\" >0.4020</td>\n",
              "    </tr>\n",
              "    <tr>\n",
              "      <th id=\"T_8bae4_level0_row1\" class=\"row_heading level0 row1\" >rf</th>\n",
              "      <td id=\"T_8bae4_row1_col0\" class=\"data row1 col0\" >Random Forest Classifier</td>\n",
              "      <td id=\"T_8bae4_row1_col1\" class=\"data row1 col1\" >0.6630</td>\n",
              "      <td id=\"T_8bae4_row1_col2\" class=\"data row1 col2\" >0.2777</td>\n",
              "      <td id=\"T_8bae4_row1_col3\" class=\"data row1 col3\" >0.6630</td>\n",
              "      <td id=\"T_8bae4_row1_col4\" class=\"data row1 col4\" >0.6430</td>\n",
              "      <td id=\"T_8bae4_row1_col5\" class=\"data row1 col5\" >0.6430</td>\n",
              "      <td id=\"T_8bae4_row1_col6\" class=\"data row1 col6\" >0.4518</td>\n",
              "      <td id=\"T_8bae4_row1_col7\" class=\"data row1 col7\" >0.4567</td>\n",
              "      <td id=\"T_8bae4_row1_col8\" class=\"data row1 col8\" >0.5473</td>\n",
              "    </tr>\n",
              "    <tr>\n",
              "      <th id=\"T_8bae4_level0_row2\" class=\"row_heading level0 row2\" >lightgbm</th>\n",
              "      <td id=\"T_8bae4_row2_col0\" class=\"data row2 col0\" >Light Gradient Boosting Machine</td>\n",
              "      <td id=\"T_8bae4_row2_col1\" class=\"data row2 col1\" >0.6614</td>\n",
              "      <td id=\"T_8bae4_row2_col2\" class=\"data row2 col2\" >0.2711</td>\n",
              "      <td id=\"T_8bae4_row2_col3\" class=\"data row2 col3\" >0.6614</td>\n",
              "      <td id=\"T_8bae4_row2_col4\" class=\"data row2 col4\" >0.6371</td>\n",
              "      <td id=\"T_8bae4_row2_col5\" class=\"data row2 col5\" >0.6432</td>\n",
              "      <td id=\"T_8bae4_row2_col6\" class=\"data row2 col6\" >0.4531</td>\n",
              "      <td id=\"T_8bae4_row2_col7\" class=\"data row2 col7\" >0.4579</td>\n",
              "      <td id=\"T_8bae4_row2_col8\" class=\"data row2 col8\" >1.4447</td>\n",
              "    </tr>\n",
              "    <tr>\n",
              "      <th id=\"T_8bae4_level0_row3\" class=\"row_heading level0 row3\" >xgboost</th>\n",
              "      <td id=\"T_8bae4_row3_col0\" class=\"data row3 col0\" >Extreme Gradient Boosting</td>\n",
              "      <td id=\"T_8bae4_row3_col1\" class=\"data row3 col1\" >0.6560</td>\n",
              "      <td id=\"T_8bae4_row3_col2\" class=\"data row3 col2\" >0.2719</td>\n",
              "      <td id=\"T_8bae4_row3_col3\" class=\"data row3 col3\" >0.6560</td>\n",
              "      <td id=\"T_8bae4_row3_col4\" class=\"data row3 col4\" >0.6361</td>\n",
              "      <td id=\"T_8bae4_row3_col5\" class=\"data row3 col5\" >0.6409</td>\n",
              "      <td id=\"T_8bae4_row3_col6\" class=\"data row3 col6\" >0.4462</td>\n",
              "      <td id=\"T_8bae4_row3_col7\" class=\"data row3 col7\" >0.4498</td>\n",
              "      <td id=\"T_8bae4_row3_col8\" class=\"data row3 col8\" >0.3107</td>\n",
              "    </tr>\n",
              "    <tr>\n",
              "      <th id=\"T_8bae4_level0_row4\" class=\"row_heading level0 row4\" >gbc</th>\n",
              "      <td id=\"T_8bae4_row4_col0\" class=\"data row4 col0\" >Gradient Boosting Classifier</td>\n",
              "      <td id=\"T_8bae4_row4_col1\" class=\"data row4 col1\" >0.6417</td>\n",
              "      <td id=\"T_8bae4_row4_col2\" class=\"data row4 col2\" >0.2614</td>\n",
              "      <td id=\"T_8bae4_row4_col3\" class=\"data row4 col3\" >0.6417</td>\n",
              "      <td id=\"T_8bae4_row4_col4\" class=\"data row4 col4\" >0.6280</td>\n",
              "      <td id=\"T_8bae4_row4_col5\" class=\"data row4 col5\" >0.6294</td>\n",
              "      <td id=\"T_8bae4_row4_col6\" class=\"data row4 col6\" >0.4248</td>\n",
              "      <td id=\"T_8bae4_row4_col7\" class=\"data row4 col7\" >0.4275</td>\n",
              "      <td id=\"T_8bae4_row4_col8\" class=\"data row4 col8\" >1.8600</td>\n",
              "    </tr>\n",
              "    <tr>\n",
              "      <th id=\"T_8bae4_level0_row5\" class=\"row_heading level0 row5\" >lr</th>\n",
              "      <td id=\"T_8bae4_row5_col0\" class=\"data row5 col0\" >Logistic Regression</td>\n",
              "      <td id=\"T_8bae4_row5_col1\" class=\"data row5 col1\" >0.6005</td>\n",
              "      <td id=\"T_8bae4_row5_col2\" class=\"data row5 col2\" >0.2524</td>\n",
              "      <td id=\"T_8bae4_row5_col3\" class=\"data row5 col3\" >0.6005</td>\n",
              "      <td id=\"T_8bae4_row5_col4\" class=\"data row5 col4\" >0.5695</td>\n",
              "      <td id=\"T_8bae4_row5_col5\" class=\"data row5 col5\" >0.5702</td>\n",
              "      <td id=\"T_8bae4_row5_col6\" class=\"data row5 col6\" >0.3359</td>\n",
              "      <td id=\"T_8bae4_row5_col7\" class=\"data row5 col7\" >0.3428</td>\n",
              "      <td id=\"T_8bae4_row5_col8\" class=\"data row5 col8\" >2.0327</td>\n",
              "    </tr>\n",
              "    <tr>\n",
              "      <th id=\"T_8bae4_level0_row6\" class=\"row_heading level0 row6\" >lda</th>\n",
              "      <td id=\"T_8bae4_row6_col0\" class=\"data row6 col0\" >Linear Discriminant Analysis</td>\n",
              "      <td id=\"T_8bae4_row6_col1\" class=\"data row6 col1\" >0.5978</td>\n",
              "      <td id=\"T_8bae4_row6_col2\" class=\"data row6 col2\" >0.2534</td>\n",
              "      <td id=\"T_8bae4_row6_col3\" class=\"data row6 col3\" >0.5978</td>\n",
              "      <td id=\"T_8bae4_row6_col4\" class=\"data row6 col4\" >0.5822</td>\n",
              "      <td id=\"T_8bae4_row6_col5\" class=\"data row6 col5\" >0.5819</td>\n",
              "      <td id=\"T_8bae4_row6_col6\" class=\"data row6 col6\" >0.3542</td>\n",
              "      <td id=\"T_8bae4_row6_col7\" class=\"data row6 col7\" >0.3582</td>\n",
              "      <td id=\"T_8bae4_row6_col8\" class=\"data row6 col8\" >0.0627</td>\n",
              "    </tr>\n",
              "    <tr>\n",
              "      <th id=\"T_8bae4_level0_row7\" class=\"row_heading level0 row7\" >ridge</th>\n",
              "      <td id=\"T_8bae4_row7_col0\" class=\"data row7 col0\" >Ridge Classifier</td>\n",
              "      <td id=\"T_8bae4_row7_col1\" class=\"data row7 col1\" >0.5897</td>\n",
              "      <td id=\"T_8bae4_row7_col2\" class=\"data row7 col2\" >0.0000</td>\n",
              "      <td id=\"T_8bae4_row7_col3\" class=\"data row7 col3\" >0.5897</td>\n",
              "      <td id=\"T_8bae4_row7_col4\" class=\"data row7 col4\" >0.4900</td>\n",
              "      <td id=\"T_8bae4_row7_col5\" class=\"data row7 col5\" >0.5327</td>\n",
              "      <td id=\"T_8bae4_row7_col6\" class=\"data row7 col6\" >0.3016</td>\n",
              "      <td id=\"T_8bae4_row7_col7\" class=\"data row7 col7\" >0.3133</td>\n",
              "      <td id=\"T_8bae4_row7_col8\" class=\"data row7 col8\" >0.0547</td>\n",
              "    </tr>\n",
              "    <tr>\n",
              "      <th id=\"T_8bae4_level0_row8\" class=\"row_heading level0 row8\" >dt</th>\n",
              "      <td id=\"T_8bae4_row8_col0\" class=\"data row8 col0\" >Decision Tree Classifier</td>\n",
              "      <td id=\"T_8bae4_row8_col1\" class=\"data row8 col1\" >0.5809</td>\n",
              "      <td id=\"T_8bae4_row8_col2\" class=\"data row8 col2\" >0.2278</td>\n",
              "      <td id=\"T_8bae4_row8_col3\" class=\"data row8 col3\" >0.5809</td>\n",
              "      <td id=\"T_8bae4_row8_col4\" class=\"data row8 col4\" >0.5852</td>\n",
              "      <td id=\"T_8bae4_row8_col5\" class=\"data row8 col5\" >0.5788</td>\n",
              "      <td id=\"T_8bae4_row8_col6\" class=\"data row8 col6\" >0.3507</td>\n",
              "      <td id=\"T_8bae4_row8_col7\" class=\"data row8 col7\" >0.3528</td>\n",
              "      <td id=\"T_8bae4_row8_col8\" class=\"data row8 col8\" >0.0667</td>\n",
              "    </tr>\n",
              "    <tr>\n",
              "      <th id=\"T_8bae4_level0_row9\" class=\"row_heading level0 row9\" >nb</th>\n",
              "      <td id=\"T_8bae4_row9_col0\" class=\"data row9 col0\" >Naive Bayes</td>\n",
              "      <td id=\"T_8bae4_row9_col1\" class=\"data row9 col1\" >0.5576</td>\n",
              "      <td id=\"T_8bae4_row9_col2\" class=\"data row9 col2\" >0.2459</td>\n",
              "      <td id=\"T_8bae4_row9_col3\" class=\"data row9 col3\" >0.5576</td>\n",
              "      <td id=\"T_8bae4_row9_col4\" class=\"data row9 col4\" >0.5678</td>\n",
              "      <td id=\"T_8bae4_row9_col5\" class=\"data row9 col5\" >0.5578</td>\n",
              "      <td id=\"T_8bae4_row9_col6\" class=\"data row9 col6\" >0.3192</td>\n",
              "      <td id=\"T_8bae4_row9_col7\" class=\"data row9 col7\" >0.3220</td>\n",
              "      <td id=\"T_8bae4_row9_col8\" class=\"data row9 col8\" >0.0707</td>\n",
              "    </tr>\n",
              "    <tr>\n",
              "      <th id=\"T_8bae4_level0_row10\" class=\"row_heading level0 row10\" >ada</th>\n",
              "      <td id=\"T_8bae4_row10_col0\" class=\"data row10 col0\" >Ada Boost Classifier</td>\n",
              "      <td id=\"T_8bae4_row10_col1\" class=\"data row10 col1\" >0.5531</td>\n",
              "      <td id=\"T_8bae4_row10_col2\" class=\"data row10 col2\" >0.2050</td>\n",
              "      <td id=\"T_8bae4_row10_col3\" class=\"data row10 col3\" >0.5531</td>\n",
              "      <td id=\"T_8bae4_row10_col4\" class=\"data row10 col4\" >0.4598</td>\n",
              "      <td id=\"T_8bae4_row10_col5\" class=\"data row10 col5\" >0.4985</td>\n",
              "      <td id=\"T_8bae4_row10_col6\" class=\"data row10 col6\" >0.2426</td>\n",
              "      <td id=\"T_8bae4_row10_col7\" class=\"data row10 col7\" >0.2545</td>\n",
              "      <td id=\"T_8bae4_row10_col8\" class=\"data row10 col8\" >0.1600</td>\n",
              "    </tr>\n",
              "    <tr>\n",
              "      <th id=\"T_8bae4_level0_row11\" class=\"row_heading level0 row11\" >qda</th>\n",
              "      <td id=\"T_8bae4_row11_col0\" class=\"data row11 col0\" >Quadratic Discriminant Analysis</td>\n",
              "      <td id=\"T_8bae4_row11_col1\" class=\"data row11 col1\" >0.5504</td>\n",
              "      <td id=\"T_8bae4_row11_col2\" class=\"data row11 col2\" >0.2448</td>\n",
              "      <td id=\"T_8bae4_row11_col3\" class=\"data row11 col3\" >0.5504</td>\n",
              "      <td id=\"T_8bae4_row11_col4\" class=\"data row11 col4\" >0.5533</td>\n",
              "      <td id=\"T_8bae4_row11_col5\" class=\"data row11 col5\" >0.5432</td>\n",
              "      <td id=\"T_8bae4_row11_col6\" class=\"data row11 col6\" >0.2934</td>\n",
              "      <td id=\"T_8bae4_row11_col7\" class=\"data row11 col7\" >0.2976</td>\n",
              "      <td id=\"T_8bae4_row11_col8\" class=\"data row11 col8\" >0.0367</td>\n",
              "    </tr>\n",
              "    <tr>\n",
              "      <th id=\"T_8bae4_level0_row12\" class=\"row_heading level0 row12\" >knn</th>\n",
              "      <td id=\"T_8bae4_row12_col0\" class=\"data row12 col0\" >K Neighbors Classifier</td>\n",
              "      <td id=\"T_8bae4_row12_col1\" class=\"data row12 col1\" >0.4872</td>\n",
              "      <td id=\"T_8bae4_row12_col2\" class=\"data row12 col2\" >0.2206</td>\n",
              "      <td id=\"T_8bae4_row12_col3\" class=\"data row12 col3\" >0.4872</td>\n",
              "      <td id=\"T_8bae4_row12_col4\" class=\"data row12 col4\" >0.4618</td>\n",
              "      <td id=\"T_8bae4_row12_col5\" class=\"data row12 col5\" >0.4662</td>\n",
              "      <td id=\"T_8bae4_row12_col6\" class=\"data row12 col6\" >0.1590</td>\n",
              "      <td id=\"T_8bae4_row12_col7\" class=\"data row12 col7\" >0.1616</td>\n",
              "      <td id=\"T_8bae4_row12_col8\" class=\"data row12 col8\" >0.1167</td>\n",
              "    </tr>\n",
              "    <tr>\n",
              "      <th id=\"T_8bae4_level0_row13\" class=\"row_heading level0 row13\" >svm</th>\n",
              "      <td id=\"T_8bae4_row13_col0\" class=\"data row13 col0\" >SVM - Linear Kernel</td>\n",
              "      <td id=\"T_8bae4_row13_col1\" class=\"data row13 col1\" >0.4611</td>\n",
              "      <td id=\"T_8bae4_row13_col2\" class=\"data row13 col2\" >0.0000</td>\n",
              "      <td id=\"T_8bae4_row13_col3\" class=\"data row13 col3\" >0.4611</td>\n",
              "      <td id=\"T_8bae4_row13_col4\" class=\"data row13 col4\" >0.4087</td>\n",
              "      <td id=\"T_8bae4_row13_col5\" class=\"data row13 col5\" >0.3884</td>\n",
              "      <td id=\"T_8bae4_row13_col6\" class=\"data row13 col6\" >0.1682</td>\n",
              "      <td id=\"T_8bae4_row13_col7\" class=\"data row13 col7\" >0.2049</td>\n",
              "      <td id=\"T_8bae4_row13_col8\" class=\"data row13 col8\" >0.1033</td>\n",
              "    </tr>\n",
              "    <tr>\n",
              "      <th id=\"T_8bae4_level0_row14\" class=\"row_heading level0 row14\" >dummy</th>\n",
              "      <td id=\"T_8bae4_row14_col0\" class=\"data row14 col0\" >Dummy Classifier</td>\n",
              "      <td id=\"T_8bae4_row14_col1\" class=\"data row14 col1\" >0.4263</td>\n",
              "      <td id=\"T_8bae4_row14_col2\" class=\"data row14 col2\" >0.1667</td>\n",
              "      <td id=\"T_8bae4_row14_col3\" class=\"data row14 col3\" >0.4263</td>\n",
              "      <td id=\"T_8bae4_row14_col4\" class=\"data row14 col4\" >0.1817</td>\n",
              "      <td id=\"T_8bae4_row14_col5\" class=\"data row14 col5\" >0.2548</td>\n",
              "      <td id=\"T_8bae4_row14_col6\" class=\"data row14 col6\" >0.0000</td>\n",
              "      <td id=\"T_8bae4_row14_col7\" class=\"data row14 col7\" >0.0000</td>\n",
              "      <td id=\"T_8bae4_row14_col8\" class=\"data row14 col8\" >0.0467</td>\n",
              "    </tr>\n",
              "  </tbody>\n",
              "</table>\n"
            ]
          },
          "metadata": {}
        },
        {
          "output_type": "display_data",
          "data": {
            "text/plain": [
              "Processing:   0%|          | 0/65 [00:00<?, ?it/s]"
            ],
            "application/vnd.jupyter.widget-view+json": {
              "version_major": 2,
              "version_minor": 0,
              "model_id": "77e6ddccc1c84766a4ecc957647e308c"
            }
          },
          "metadata": {
            "application/vnd.jupyter.widget-view+json": {
              "colab": {
                "custom_widget_manager": {
                  "url": "https://ssl.gstatic.com/colaboratory-static/widgets/colab-cdn-widget-manager/b3e629b1971e1542/manager.min.js"
                }
              }
            }
          }
        },
        {
          "output_type": "display_data",
          "data": {
            "text/plain": [
              "<IPython.core.display.HTML object>"
            ],
            "text/html": []
          },
          "metadata": {}
        }
      ],
      "source": [
        "best_redwine_model = s.compare_models()"
      ]
    },
    {
      "cell_type": "code",
      "execution_count": 20,
      "metadata": {
        "colab": {
          "base_uri": "https://localhost:8080/",
          "height": 678,
          "referenced_widgets": [
            "6faa9bab2a2b4a73814024fb49f0e703",
            "d6f380aa08a5430f9d8b453fd2462635",
            "e89ad7f7d8e5431dbb41b885eeefdc9f",
            "384e1caef79d4583b9f3e7bc1e104a04",
            "2f755982dfe54f8fb88e9f0452f9a492",
            "5d3e38d3c09b468987f63599a6ab9851",
            "fc4fd48dd0ec4ef8a6dbb5214d116249"
          ]
        },
        "id": "v3FkZTVsPt4E",
        "outputId": "eab6aad6-25b6-442d-ab6b-276801099622"
      },
      "outputs": [
        {
          "output_type": "display_data",
          "data": {
            "text/plain": [
              "interactive(children=(ToggleButtons(description='Plot Type:', icons=('',), options=(('Pipeline Plot', 'pipelin…"
            ],
            "application/vnd.jupyter.widget-view+json": {
              "version_major": 2,
              "version_minor": 0,
              "model_id": "6faa9bab2a2b4a73814024fb49f0e703"
            }
          },
          "metadata": {
            "application/vnd.jupyter.widget-view+json": {
              "colab": {
                "custom_widget_manager": {
                  "url": "https://ssl.gstatic.com/colaboratory-static/widgets/colab-cdn-widget-manager/b3e629b1971e1542/manager.min.js"
                }
              }
            }
          }
        }
      ],
      "source": [
        "s.evaluate_model(best_redwine_model)"
      ]
    },
    {
      "cell_type": "markdown",
      "metadata": {
        "id": "lpgkCfIitfd4"
      },
      "source": [
        "# Preprocessing: Feature Scaling"
      ]
    },
    {
      "cell_type": "code",
      "execution_count": 21,
      "metadata": {
        "id": "2Z9MP8M4tjhd"
      },
      "outputs": [],
      "source": [
        "from sklearn.preprocessing import StandardScaler\n",
        "scaler = StandardScaler()\n",
        "X_scaled = scaler.fit_transform(X_smote)"
      ]
    },
    {
      "cell_type": "code",
      "execution_count": 22,
      "metadata": {
        "id": "ejZ0m6Fqt3Uz"
      },
      "outputs": [],
      "source": [
        "from sklearn.model_selection import train_test_split\n",
        "X_train, X_test, y_train, y_test = train_test_split(X_smote, y_smote, test_size=0.25, random_state=42)"
      ]
    },
    {
      "cell_type": "code",
      "source": [
        "y_test"
      ],
      "metadata": {
        "colab": {
          "base_uri": "https://localhost:8080/"
        },
        "id": "mET1UTfZYBzs",
        "outputId": "9e9f1f6c-115e-4106-c706-c9335663758b"
      },
      "execution_count": 23,
      "outputs": [
        {
          "output_type": "execute_result",
          "data": {
            "text/plain": [
              "599     6\n",
              "752     5\n",
              "3148    7\n",
              "1001    7\n",
              "2515    4\n",
              "       ..\n",
              "1941    3\n",
              "1350    5\n",
              "927     4\n",
              "612     6\n",
              "1498    6\n",
              "Name: quality, Length: 1022, dtype: category\n",
              "Categories (6, int64): [3, 4, 5, 6, 7, 8]"
            ]
          },
          "metadata": {},
          "execution_count": 23
        }
      ]
    },
    {
      "cell_type": "code",
      "source": [
        "X_test"
      ],
      "metadata": {
        "colab": {
          "base_uri": "https://localhost:8080/",
          "height": 478
        },
        "id": "j6GMCmq0X4wI",
        "outputId": "4483f412-0af2-4fa6-e876-8f42846bf7db"
      },
      "execution_count": 24,
      "outputs": [
        {
          "output_type": "execute_result",
          "data": {
            "text/plain": [
              "      fixed acidity  volatile acidity  citric acid  residual sugar  chlorides  \\\n",
              "599       12.700000          0.590000     0.450000        2.300000   0.082000   \n",
              "752        7.600000          0.540000     0.130000        2.500000   0.097000   \n",
              "3148      13.272616          0.291933     0.746617        2.779060   0.084177   \n",
              "1001       9.900000          0.350000     0.380000        1.500000   0.058000   \n",
              "2515       7.003130          0.688867     0.000000        3.733979   0.064547   \n",
              "...             ...               ...          ...             ...        ...   \n",
              "1941       9.159109          0.656155     0.271894        1.740172   0.111376   \n",
              "1350       9.000000          0.600000     0.290000        2.000000   0.069000   \n",
              "927        8.400000          0.670000     0.190000        2.200000   0.093000   \n",
              "612        7.500000          0.640000     0.000000        2.400000   0.077000   \n",
              "1498       6.600000          0.895000     0.040000        2.300000   0.068000   \n",
              "\n",
              "      free sulfur dioxide  total sulfur dioxide   density        pH  \\\n",
              "599             11.000000             22.000000  1.000000  3.000000   \n",
              "752             24.000000             66.000000  0.997850  3.390000   \n",
              "3148            22.983892             42.967784  0.998580  3.039678   \n",
              "1001            31.000000             47.000000  0.996760  3.260000   \n",
              "2515            11.314456             21.257825  0.995855  3.427988   \n",
              "...                   ...                   ...       ...       ...   \n",
              "1941            28.395976             48.400287  0.997812  3.351980   \n",
              "1350            32.000000             73.000000  0.996540  3.340000   \n",
              "927             11.000000             75.000000  0.997360  3.200000   \n",
              "612             18.000000             29.000000  0.996500  3.320000   \n",
              "1498             7.000000             13.000000  0.995820  3.530000   \n",
              "\n",
              "      sulphates    alcohol  \n",
              "599    0.700000   9.300000  \n",
              "752    0.610000   9.400000  \n",
              "3148   0.681289  11.375838  \n",
              "1001   0.820000  10.600000  \n",
              "2515   0.528554  11.108196  \n",
              "...         ...        ...  \n",
              "1941   0.735911   9.819943  \n",
              "1350   0.570000  10.000000  \n",
              "927    0.590000   9.200000  \n",
              "612    0.600000  10.000000  \n",
              "1498   0.580000  10.800000  \n",
              "\n",
              "[1022 rows x 11 columns]"
            ],
            "text/html": [
              "\n",
              "  <div id=\"df-cbc11b56-d332-43de-9d40-f972ad922242\" class=\"colab-df-container\">\n",
              "    <div>\n",
              "<style scoped>\n",
              "    .dataframe tbody tr th:only-of-type {\n",
              "        vertical-align: middle;\n",
              "    }\n",
              "\n",
              "    .dataframe tbody tr th {\n",
              "        vertical-align: top;\n",
              "    }\n",
              "\n",
              "    .dataframe thead th {\n",
              "        text-align: right;\n",
              "    }\n",
              "</style>\n",
              "<table border=\"1\" class=\"dataframe\">\n",
              "  <thead>\n",
              "    <tr style=\"text-align: right;\">\n",
              "      <th></th>\n",
              "      <th>fixed acidity</th>\n",
              "      <th>volatile acidity</th>\n",
              "      <th>citric acid</th>\n",
              "      <th>residual sugar</th>\n",
              "      <th>chlorides</th>\n",
              "      <th>free sulfur dioxide</th>\n",
              "      <th>total sulfur dioxide</th>\n",
              "      <th>density</th>\n",
              "      <th>pH</th>\n",
              "      <th>sulphates</th>\n",
              "      <th>alcohol</th>\n",
              "    </tr>\n",
              "  </thead>\n",
              "  <tbody>\n",
              "    <tr>\n",
              "      <th>599</th>\n",
              "      <td>12.700000</td>\n",
              "      <td>0.590000</td>\n",
              "      <td>0.450000</td>\n",
              "      <td>2.300000</td>\n",
              "      <td>0.082000</td>\n",
              "      <td>11.000000</td>\n",
              "      <td>22.000000</td>\n",
              "      <td>1.000000</td>\n",
              "      <td>3.000000</td>\n",
              "      <td>0.700000</td>\n",
              "      <td>9.300000</td>\n",
              "    </tr>\n",
              "    <tr>\n",
              "      <th>752</th>\n",
              "      <td>7.600000</td>\n",
              "      <td>0.540000</td>\n",
              "      <td>0.130000</td>\n",
              "      <td>2.500000</td>\n",
              "      <td>0.097000</td>\n",
              "      <td>24.000000</td>\n",
              "      <td>66.000000</td>\n",
              "      <td>0.997850</td>\n",
              "      <td>3.390000</td>\n",
              "      <td>0.610000</td>\n",
              "      <td>9.400000</td>\n",
              "    </tr>\n",
              "    <tr>\n",
              "      <th>3148</th>\n",
              "      <td>13.272616</td>\n",
              "      <td>0.291933</td>\n",
              "      <td>0.746617</td>\n",
              "      <td>2.779060</td>\n",
              "      <td>0.084177</td>\n",
              "      <td>22.983892</td>\n",
              "      <td>42.967784</td>\n",
              "      <td>0.998580</td>\n",
              "      <td>3.039678</td>\n",
              "      <td>0.681289</td>\n",
              "      <td>11.375838</td>\n",
              "    </tr>\n",
              "    <tr>\n",
              "      <th>1001</th>\n",
              "      <td>9.900000</td>\n",
              "      <td>0.350000</td>\n",
              "      <td>0.380000</td>\n",
              "      <td>1.500000</td>\n",
              "      <td>0.058000</td>\n",
              "      <td>31.000000</td>\n",
              "      <td>47.000000</td>\n",
              "      <td>0.996760</td>\n",
              "      <td>3.260000</td>\n",
              "      <td>0.820000</td>\n",
              "      <td>10.600000</td>\n",
              "    </tr>\n",
              "    <tr>\n",
              "      <th>2515</th>\n",
              "      <td>7.003130</td>\n",
              "      <td>0.688867</td>\n",
              "      <td>0.000000</td>\n",
              "      <td>3.733979</td>\n",
              "      <td>0.064547</td>\n",
              "      <td>11.314456</td>\n",
              "      <td>21.257825</td>\n",
              "      <td>0.995855</td>\n",
              "      <td>3.427988</td>\n",
              "      <td>0.528554</td>\n",
              "      <td>11.108196</td>\n",
              "    </tr>\n",
              "    <tr>\n",
              "      <th>...</th>\n",
              "      <td>...</td>\n",
              "      <td>...</td>\n",
              "      <td>...</td>\n",
              "      <td>...</td>\n",
              "      <td>...</td>\n",
              "      <td>...</td>\n",
              "      <td>...</td>\n",
              "      <td>...</td>\n",
              "      <td>...</td>\n",
              "      <td>...</td>\n",
              "      <td>...</td>\n",
              "    </tr>\n",
              "    <tr>\n",
              "      <th>1941</th>\n",
              "      <td>9.159109</td>\n",
              "      <td>0.656155</td>\n",
              "      <td>0.271894</td>\n",
              "      <td>1.740172</td>\n",
              "      <td>0.111376</td>\n",
              "      <td>28.395976</td>\n",
              "      <td>48.400287</td>\n",
              "      <td>0.997812</td>\n",
              "      <td>3.351980</td>\n",
              "      <td>0.735911</td>\n",
              "      <td>9.819943</td>\n",
              "    </tr>\n",
              "    <tr>\n",
              "      <th>1350</th>\n",
              "      <td>9.000000</td>\n",
              "      <td>0.600000</td>\n",
              "      <td>0.290000</td>\n",
              "      <td>2.000000</td>\n",
              "      <td>0.069000</td>\n",
              "      <td>32.000000</td>\n",
              "      <td>73.000000</td>\n",
              "      <td>0.996540</td>\n",
              "      <td>3.340000</td>\n",
              "      <td>0.570000</td>\n",
              "      <td>10.000000</td>\n",
              "    </tr>\n",
              "    <tr>\n",
              "      <th>927</th>\n",
              "      <td>8.400000</td>\n",
              "      <td>0.670000</td>\n",
              "      <td>0.190000</td>\n",
              "      <td>2.200000</td>\n",
              "      <td>0.093000</td>\n",
              "      <td>11.000000</td>\n",
              "      <td>75.000000</td>\n",
              "      <td>0.997360</td>\n",
              "      <td>3.200000</td>\n",
              "      <td>0.590000</td>\n",
              "      <td>9.200000</td>\n",
              "    </tr>\n",
              "    <tr>\n",
              "      <th>612</th>\n",
              "      <td>7.500000</td>\n",
              "      <td>0.640000</td>\n",
              "      <td>0.000000</td>\n",
              "      <td>2.400000</td>\n",
              "      <td>0.077000</td>\n",
              "      <td>18.000000</td>\n",
              "      <td>29.000000</td>\n",
              "      <td>0.996500</td>\n",
              "      <td>3.320000</td>\n",
              "      <td>0.600000</td>\n",
              "      <td>10.000000</td>\n",
              "    </tr>\n",
              "    <tr>\n",
              "      <th>1498</th>\n",
              "      <td>6.600000</td>\n",
              "      <td>0.895000</td>\n",
              "      <td>0.040000</td>\n",
              "      <td>2.300000</td>\n",
              "      <td>0.068000</td>\n",
              "      <td>7.000000</td>\n",
              "      <td>13.000000</td>\n",
              "      <td>0.995820</td>\n",
              "      <td>3.530000</td>\n",
              "      <td>0.580000</td>\n",
              "      <td>10.800000</td>\n",
              "    </tr>\n",
              "  </tbody>\n",
              "</table>\n",
              "<p>1022 rows × 11 columns</p>\n",
              "</div>\n",
              "    <div class=\"colab-df-buttons\">\n",
              "\n",
              "  <div class=\"colab-df-container\">\n",
              "    <button class=\"colab-df-convert\" onclick=\"convertToInteractive('df-cbc11b56-d332-43de-9d40-f972ad922242')\"\n",
              "            title=\"Convert this dataframe to an interactive table.\"\n",
              "            style=\"display:none;\">\n",
              "\n",
              "  <svg xmlns=\"http://www.w3.org/2000/svg\" height=\"24px\" viewBox=\"0 -960 960 960\">\n",
              "    <path d=\"M120-120v-720h720v720H120Zm60-500h600v-160H180v160Zm220 220h160v-160H400v160Zm0 220h160v-160H400v160ZM180-400h160v-160H180v160Zm440 0h160v-160H620v160ZM180-180h160v-160H180v160Zm440 0h160v-160H620v160Z\"/>\n",
              "  </svg>\n",
              "    </button>\n",
              "\n",
              "  <style>\n",
              "    .colab-df-container {\n",
              "      display:flex;\n",
              "      gap: 12px;\n",
              "    }\n",
              "\n",
              "    .colab-df-convert {\n",
              "      background-color: #E8F0FE;\n",
              "      border: none;\n",
              "      border-radius: 50%;\n",
              "      cursor: pointer;\n",
              "      display: none;\n",
              "      fill: #1967D2;\n",
              "      height: 32px;\n",
              "      padding: 0 0 0 0;\n",
              "      width: 32px;\n",
              "    }\n",
              "\n",
              "    .colab-df-convert:hover {\n",
              "      background-color: #E2EBFA;\n",
              "      box-shadow: 0px 1px 2px rgba(60, 64, 67, 0.3), 0px 1px 3px 1px rgba(60, 64, 67, 0.15);\n",
              "      fill: #174EA6;\n",
              "    }\n",
              "\n",
              "    .colab-df-buttons div {\n",
              "      margin-bottom: 4px;\n",
              "    }\n",
              "\n",
              "    [theme=dark] .colab-df-convert {\n",
              "      background-color: #3B4455;\n",
              "      fill: #D2E3FC;\n",
              "    }\n",
              "\n",
              "    [theme=dark] .colab-df-convert:hover {\n",
              "      background-color: #434B5C;\n",
              "      box-shadow: 0px 1px 3px 1px rgba(0, 0, 0, 0.15);\n",
              "      filter: drop-shadow(0px 1px 2px rgba(0, 0, 0, 0.3));\n",
              "      fill: #FFFFFF;\n",
              "    }\n",
              "  </style>\n",
              "\n",
              "    <script>\n",
              "      const buttonEl =\n",
              "        document.querySelector('#df-cbc11b56-d332-43de-9d40-f972ad922242 button.colab-df-convert');\n",
              "      buttonEl.style.display =\n",
              "        google.colab.kernel.accessAllowed ? 'block' : 'none';\n",
              "\n",
              "      async function convertToInteractive(key) {\n",
              "        const element = document.querySelector('#df-cbc11b56-d332-43de-9d40-f972ad922242');\n",
              "        const dataTable =\n",
              "          await google.colab.kernel.invokeFunction('convertToInteractive',\n",
              "                                                    [key], {});\n",
              "        if (!dataTable) return;\n",
              "\n",
              "        const docLinkHtml = 'Like what you see? Visit the ' +\n",
              "          '<a target=\"_blank\" href=https://colab.research.google.com/notebooks/data_table.ipynb>data table notebook</a>'\n",
              "          + ' to learn more about interactive tables.';\n",
              "        element.innerHTML = '';\n",
              "        dataTable['output_type'] = 'display_data';\n",
              "        await google.colab.output.renderOutput(dataTable, element);\n",
              "        const docLink = document.createElement('div');\n",
              "        docLink.innerHTML = docLinkHtml;\n",
              "        element.appendChild(docLink);\n",
              "      }\n",
              "    </script>\n",
              "  </div>\n",
              "\n",
              "\n",
              "<div id=\"df-c9f49993-5bc9-409d-9cef-132d4e61836d\">\n",
              "  <button class=\"colab-df-quickchart\" onclick=\"quickchart('df-c9f49993-5bc9-409d-9cef-132d4e61836d')\"\n",
              "            title=\"Suggest charts\"\n",
              "            style=\"display:none;\">\n",
              "\n",
              "<svg xmlns=\"http://www.w3.org/2000/svg\" height=\"24px\"viewBox=\"0 0 24 24\"\n",
              "     width=\"24px\">\n",
              "    <g>\n",
              "        <path d=\"M19 3H5c-1.1 0-2 .9-2 2v14c0 1.1.9 2 2 2h14c1.1 0 2-.9 2-2V5c0-1.1-.9-2-2-2zM9 17H7v-7h2v7zm4 0h-2V7h2v10zm4 0h-2v-4h2v4z\"/>\n",
              "    </g>\n",
              "</svg>\n",
              "  </button>\n",
              "\n",
              "<style>\n",
              "  .colab-df-quickchart {\n",
              "      --bg-color: #E8F0FE;\n",
              "      --fill-color: #1967D2;\n",
              "      --hover-bg-color: #E2EBFA;\n",
              "      --hover-fill-color: #174EA6;\n",
              "      --disabled-fill-color: #AAA;\n",
              "      --disabled-bg-color: #DDD;\n",
              "  }\n",
              "\n",
              "  [theme=dark] .colab-df-quickchart {\n",
              "      --bg-color: #3B4455;\n",
              "      --fill-color: #D2E3FC;\n",
              "      --hover-bg-color: #434B5C;\n",
              "      --hover-fill-color: #FFFFFF;\n",
              "      --disabled-bg-color: #3B4455;\n",
              "      --disabled-fill-color: #666;\n",
              "  }\n",
              "\n",
              "  .colab-df-quickchart {\n",
              "    background-color: var(--bg-color);\n",
              "    border: none;\n",
              "    border-radius: 50%;\n",
              "    cursor: pointer;\n",
              "    display: none;\n",
              "    fill: var(--fill-color);\n",
              "    height: 32px;\n",
              "    padding: 0;\n",
              "    width: 32px;\n",
              "  }\n",
              "\n",
              "  .colab-df-quickchart:hover {\n",
              "    background-color: var(--hover-bg-color);\n",
              "    box-shadow: 0 1px 2px rgba(60, 64, 67, 0.3), 0 1px 3px 1px rgba(60, 64, 67, 0.15);\n",
              "    fill: var(--button-hover-fill-color);\n",
              "  }\n",
              "\n",
              "  .colab-df-quickchart-complete:disabled,\n",
              "  .colab-df-quickchart-complete:disabled:hover {\n",
              "    background-color: var(--disabled-bg-color);\n",
              "    fill: var(--disabled-fill-color);\n",
              "    box-shadow: none;\n",
              "  }\n",
              "\n",
              "  .colab-df-spinner {\n",
              "    border: 2px solid var(--fill-color);\n",
              "    border-color: transparent;\n",
              "    border-bottom-color: var(--fill-color);\n",
              "    animation:\n",
              "      spin 1s steps(1) infinite;\n",
              "  }\n",
              "\n",
              "  @keyframes spin {\n",
              "    0% {\n",
              "      border-color: transparent;\n",
              "      border-bottom-color: var(--fill-color);\n",
              "      border-left-color: var(--fill-color);\n",
              "    }\n",
              "    20% {\n",
              "      border-color: transparent;\n",
              "      border-left-color: var(--fill-color);\n",
              "      border-top-color: var(--fill-color);\n",
              "    }\n",
              "    30% {\n",
              "      border-color: transparent;\n",
              "      border-left-color: var(--fill-color);\n",
              "      border-top-color: var(--fill-color);\n",
              "      border-right-color: var(--fill-color);\n",
              "    }\n",
              "    40% {\n",
              "      border-color: transparent;\n",
              "      border-right-color: var(--fill-color);\n",
              "      border-top-color: var(--fill-color);\n",
              "    }\n",
              "    60% {\n",
              "      border-color: transparent;\n",
              "      border-right-color: var(--fill-color);\n",
              "    }\n",
              "    80% {\n",
              "      border-color: transparent;\n",
              "      border-right-color: var(--fill-color);\n",
              "      border-bottom-color: var(--fill-color);\n",
              "    }\n",
              "    90% {\n",
              "      border-color: transparent;\n",
              "      border-bottom-color: var(--fill-color);\n",
              "    }\n",
              "  }\n",
              "</style>\n",
              "\n",
              "  <script>\n",
              "    async function quickchart(key) {\n",
              "      const quickchartButtonEl =\n",
              "        document.querySelector('#' + key + ' button');\n",
              "      quickchartButtonEl.disabled = true;  // To prevent multiple clicks.\n",
              "      quickchartButtonEl.classList.add('colab-df-spinner');\n",
              "      try {\n",
              "        const charts = await google.colab.kernel.invokeFunction(\n",
              "            'suggestCharts', [key], {});\n",
              "      } catch (error) {\n",
              "        console.error('Error during call to suggestCharts:', error);\n",
              "      }\n",
              "      quickchartButtonEl.classList.remove('colab-df-spinner');\n",
              "      quickchartButtonEl.classList.add('colab-df-quickchart-complete');\n",
              "    }\n",
              "    (() => {\n",
              "      let quickchartButtonEl =\n",
              "        document.querySelector('#df-c9f49993-5bc9-409d-9cef-132d4e61836d button');\n",
              "      quickchartButtonEl.style.display =\n",
              "        google.colab.kernel.accessAllowed ? 'block' : 'none';\n",
              "    })();\n",
              "  </script>\n",
              "</div>\n",
              "    </div>\n",
              "  </div>\n"
            ]
          },
          "metadata": {},
          "execution_count": 24
        }
      ]
    },
    {
      "cell_type": "markdown",
      "metadata": {
        "id": "FACK_GD7thqe"
      },
      "source": [
        "# Decision Tree Model"
      ]
    },
    {
      "cell_type": "code",
      "execution_count": 25,
      "metadata": {
        "id": "a5A9F63ht4fG",
        "colab": {
          "base_uri": "https://localhost:8080/",
          "height": 164
        },
        "outputId": "74eef3ec-6602-4315-c409-e65a54173ff8"
      },
      "outputs": [
        {
          "output_type": "execute_result",
          "data": {
            "text/plain": [
              "DecisionTreeClassifier(ccp_alpha=0.0, class_weight=None, criterion='gini',\n",
              "                       max_depth=None, max_features=None, max_leaf_nodes=None,\n",
              "                       min_impurity_decrease=0.0, min_samples_leaf=1,\n",
              "                       min_samples_split=2, min_weight_fraction_leaf=0.0,\n",
              "                       random_state=None, splitter='best')"
            ],
            "text/html": [
              "<style>#sk-container-id-1 {color: black;background-color: white;}#sk-container-id-1 pre{padding: 0;}#sk-container-id-1 div.sk-toggleable {background-color: white;}#sk-container-id-1 label.sk-toggleable__label {cursor: pointer;display: block;width: 100%;margin-bottom: 0;padding: 0.3em;box-sizing: border-box;text-align: center;}#sk-container-id-1 label.sk-toggleable__label-arrow:before {content: \"▸\";float: left;margin-right: 0.25em;color: #696969;}#sk-container-id-1 label.sk-toggleable__label-arrow:hover:before {color: black;}#sk-container-id-1 div.sk-estimator:hover label.sk-toggleable__label-arrow:before {color: black;}#sk-container-id-1 div.sk-toggleable__content {max-height: 0;max-width: 0;overflow: hidden;text-align: left;background-color: #f0f8ff;}#sk-container-id-1 div.sk-toggleable__content pre {margin: 0.2em;color: black;border-radius: 0.25em;background-color: #f0f8ff;}#sk-container-id-1 input.sk-toggleable__control:checked~div.sk-toggleable__content {max-height: 200px;max-width: 100%;overflow: auto;}#sk-container-id-1 input.sk-toggleable__control:checked~label.sk-toggleable__label-arrow:before {content: \"▾\";}#sk-container-id-1 div.sk-estimator input.sk-toggleable__control:checked~label.sk-toggleable__label {background-color: #d4ebff;}#sk-container-id-1 div.sk-label input.sk-toggleable__control:checked~label.sk-toggleable__label {background-color: #d4ebff;}#sk-container-id-1 input.sk-hidden--visually {border: 0;clip: rect(1px 1px 1px 1px);clip: rect(1px, 1px, 1px, 1px);height: 1px;margin: -1px;overflow: hidden;padding: 0;position: absolute;width: 1px;}#sk-container-id-1 div.sk-estimator {font-family: monospace;background-color: #f0f8ff;border: 1px dotted black;border-radius: 0.25em;box-sizing: border-box;margin-bottom: 0.5em;}#sk-container-id-1 div.sk-estimator:hover {background-color: #d4ebff;}#sk-container-id-1 div.sk-parallel-item::after {content: \"\";width: 100%;border-bottom: 1px solid gray;flex-grow: 1;}#sk-container-id-1 div.sk-label:hover label.sk-toggleable__label {background-color: #d4ebff;}#sk-container-id-1 div.sk-serial::before {content: \"\";position: absolute;border-left: 1px solid gray;box-sizing: border-box;top: 0;bottom: 0;left: 50%;z-index: 0;}#sk-container-id-1 div.sk-serial {display: flex;flex-direction: column;align-items: center;background-color: white;padding-right: 0.2em;padding-left: 0.2em;position: relative;}#sk-container-id-1 div.sk-item {position: relative;z-index: 1;}#sk-container-id-1 div.sk-parallel {display: flex;align-items: stretch;justify-content: center;background-color: white;position: relative;}#sk-container-id-1 div.sk-item::before, #sk-container-id-1 div.sk-parallel-item::before {content: \"\";position: absolute;border-left: 1px solid gray;box-sizing: border-box;top: 0;bottom: 0;left: 50%;z-index: -1;}#sk-container-id-1 div.sk-parallel-item {display: flex;flex-direction: column;z-index: 1;position: relative;background-color: white;}#sk-container-id-1 div.sk-parallel-item:first-child::after {align-self: flex-end;width: 50%;}#sk-container-id-1 div.sk-parallel-item:last-child::after {align-self: flex-start;width: 50%;}#sk-container-id-1 div.sk-parallel-item:only-child::after {width: 0;}#sk-container-id-1 div.sk-dashed-wrapped {border: 1px dashed gray;margin: 0 0.4em 0.5em 0.4em;box-sizing: border-box;padding-bottom: 0.4em;background-color: white;}#sk-container-id-1 div.sk-label label {font-family: monospace;font-weight: bold;display: inline-block;line-height: 1.2em;}#sk-container-id-1 div.sk-label-container {text-align: center;}#sk-container-id-1 div.sk-container {/* jupyter's `normalize.less` sets `[hidden] { display: none; }` but bootstrap.min.css set `[hidden] { display: none !important; }` so we also need the `!important` here to be able to override the default hidden behavior on the sphinx rendered scikit-learn.org. See: https://github.com/scikit-learn/scikit-learn/issues/21755 */display: inline-block !important;position: relative;}#sk-container-id-1 div.sk-text-repr-fallback {display: none;}</style><div id=\"sk-container-id-1\" class=\"sk-top-container\"><div class=\"sk-text-repr-fallback\"><pre>DecisionTreeClassifier(ccp_alpha=0.0, class_weight=None, criterion=&#x27;gini&#x27;,\n",
              "                       max_depth=None, max_features=None, max_leaf_nodes=None,\n",
              "                       min_impurity_decrease=0.0, min_samples_leaf=1,\n",
              "                       min_samples_split=2, min_weight_fraction_leaf=0.0,\n",
              "                       random_state=None, splitter=&#x27;best&#x27;)</pre><b>In a Jupyter environment, please rerun this cell to show the HTML representation or trust the notebook. <br />On GitHub, the HTML representation is unable to render, please try loading this page with nbviewer.org.</b></div><div class=\"sk-container\" hidden><div class=\"sk-item\"><div class=\"sk-estimator sk-toggleable\"><input class=\"sk-toggleable__control sk-hidden--visually\" id=\"sk-estimator-id-1\" type=\"checkbox\" checked><label for=\"sk-estimator-id-1\" class=\"sk-toggleable__label sk-toggleable__label-arrow\">DecisionTreeClassifier</label><div class=\"sk-toggleable__content\"><pre>DecisionTreeClassifier(ccp_alpha=0.0, class_weight=None, criterion=&#x27;gini&#x27;,\n",
              "                       max_depth=None, max_features=None, max_leaf_nodes=None,\n",
              "                       min_impurity_decrease=0.0, min_samples_leaf=1,\n",
              "                       min_samples_split=2, min_weight_fraction_leaf=0.0,\n",
              "                       random_state=None, splitter=&#x27;best&#x27;)</pre></div></div></div></div></div>"
            ]
          },
          "metadata": {},
          "execution_count": 25
        }
      ],
      "source": [
        "from sklearn.tree import DecisionTreeClassifier\n",
        "DT_classifer = DecisionTreeClassifier()\n",
        "DT_classifer.fit(X_train, y_train)"
      ]
    },
    {
      "cell_type": "code",
      "execution_count": 26,
      "metadata": {
        "id": "LIj_jpfNuAAc"
      },
      "outputs": [],
      "source": [
        "DT_y_pred = DT_classifer.predict(X_test)"
      ]
    },
    {
      "cell_type": "code",
      "execution_count": 27,
      "metadata": {
        "colab": {
          "base_uri": "https://localhost:8080/"
        },
        "id": "Hb1vwaP9uBDi",
        "outputId": "5b101afd-da71-4d4a-e0cf-528f1b09a565"
      },
      "outputs": [
        {
          "output_type": "stream",
          "name": "stdout",
          "text": [
            "Model accuracy score with criterion entropy: 79.55%\n"
          ]
        }
      ],
      "source": [
        "from sklearn.metrics import accuracy_score\n",
        "print('Model accuracy score with criterion entropy: {:0.2%}'. format(accuracy_score(y_test, DT_y_pred)))"
      ]
    },
    {
      "cell_type": "code",
      "execution_count": 28,
      "metadata": {
        "id": "Sn7iJ532uERc"
      },
      "outputs": [],
      "source": [
        "from sklearn.metrics import confusion_matrix\n",
        "cm = confusion_matrix(y_test, DT_y_pred)"
      ]
    },
    {
      "cell_type": "code",
      "execution_count": 29,
      "metadata": {
        "colab": {
          "base_uri": "https://localhost:8080/",
          "height": 54
        },
        "id": "KNSlaqOuuIlP",
        "outputId": "74704b88-d0bc-4e86-8d97-1893e1e9b31d"
      },
      "outputs": [
        {
          "output_type": "display_data",
          "data": {
            "text/plain": [
              "<Figure size 800x550 with 2 Axes>"
            ],
            "image/png": "[encoded data removed]"
          },
          "metadata": {}
        }
      ],
      "source": [
        "sns.heatmap(cm, annot=True, fmt='d')\n",
        "plt.xlabel(\"Predicted\")\n",
        "plt.ylabel(\"Actual\")\n",
        "plt.show()"
      ]
    },
    {
      "cell_type": "markdown",
      "source": [
        "**Evaluation Metrics - Decision Trees**"
      ],
      "metadata": {
        "id": "yJukXeQrvfjS"
      }
    },
    {
      "cell_type": "code",
      "source": [
        "from sklearn.metrics import *\n",
        "#import numpy as np\n",
        "\n",
        "precision = precision_score(y_test, DT_y_pred, average='weighted')\n",
        "print('Precision: {:0.2%}'.format(precision))\n",
        "\n",
        "recall = recall_score(y_test, DT_y_pred, average='weighted')\n",
        "print('Recall: {:0.2%}'.format(recall))\n",
        "\n",
        "f1 = f1_score(y_test, DT_y_pred, average='weighted')\n",
        "print('F1 Score: {:0.2%}'.format(f1))\n",
        "\n",
        "#fpr, tpr, thresholds = roc_auc_score(np.ravel(y_test), np.ravel(DT_y_pred), multi_class='ovo')\n",
        "#roc_auc = auc(fpr, tpr)\n",
        "#print('ROC AUC: {:0.2%}'.format(roc_auc))"
      ],
      "metadata": {
        "colab": {
          "base_uri": "https://localhost:8080/"
        },
        "id": "mG7CurEvvfVs",
        "outputId": "b3ac6a33-0214-4bed-f8a6-c8d941b91051"
      },
      "execution_count": 30,
      "outputs": [
        {
          "output_type": "stream",
          "name": "stdout",
          "text": [
            "Precision: 78.86%\n",
            "Recall: 79.55%\n",
            "F1 Score: 78.99%\n"
          ]
        }
      ]
    },
    {
      "cell_type": "markdown",
      "metadata": {
        "id": "wRsOrylMuUp8"
      },
      "source": [
        "# Random Forest"
      ]
    },
    {
      "cell_type": "code",
      "execution_count": 31,
      "metadata": {
        "colab": {
          "base_uri": "https://localhost:8080/",
          "height": 198
        },
        "id": "oVZaRjmbuX-n",
        "outputId": "1396855d-5516-47e0-d48e-8386d02b2efd"
      },
      "outputs": [
        {
          "output_type": "execute_result",
          "data": {
            "text/plain": [
              "RandomForestClassifier(bootstrap=True, ccp_alpha=0.0, class_weight=None,\n",
              "                       criterion='gini', max_depth=None, max_features='sqrt',\n",
              "                       max_leaf_nodes=None, max_samples=None,\n",
              "                       min_impurity_decrease=0.0, min_samples_leaf=1,\n",
              "                       min_samples_split=2, min_weight_fraction_leaf=0.0,\n",
              "                       n_estimators=100, n_jobs=None, oob_score=False,\n",
              "                       random_state=None, verbose=0, warm_start=False)"
            ],
            "text/html": [
              "<style>#sk-container-id-2 {color: black;background-color: white;}#sk-container-id-2 pre{padding: 0;}#sk-container-id-2 div.sk-toggleable {background-color: white;}#sk-container-id-2 label.sk-toggleable__label {cursor: pointer;display: block;width: 100%;margin-bottom: 0;padding: 0.3em;box-sizing: border-box;text-align: center;}#sk-container-id-2 label.sk-toggleable__label-arrow:before {content: \"▸\";float: left;margin-right: 0.25em;color: #696969;}#sk-container-id-2 label.sk-toggleable__label-arrow:hover:before {color: black;}#sk-container-id-2 div.sk-estimator:hover label.sk-toggleable__label-arrow:before {color: black;}#sk-container-id-2 div.sk-toggleable__content {max-height: 0;max-width: 0;overflow: hidden;text-align: left;background-color: #f0f8ff;}#sk-container-id-2 div.sk-toggleable__content pre {margin: 0.2em;color: black;border-radius: 0.25em;background-color: #f0f8ff;}#sk-container-id-2 input.sk-toggleable__control:checked~div.sk-toggleable__content {max-height: 200px;max-width: 100%;overflow: auto;}#sk-container-id-2 input.sk-toggleable__control:checked~label.sk-toggleable__label-arrow:before {content: \"▾\";}#sk-container-id-2 div.sk-estimator input.sk-toggleable__control:checked~label.sk-toggleable__label {background-color: #d4ebff;}#sk-container-id-2 div.sk-label input.sk-toggleable__control:checked~label.sk-toggleable__label {background-color: #d4ebff;}#sk-container-id-2 input.sk-hidden--visually {border: 0;clip: rect(1px 1px 1px 1px);clip: rect(1px, 1px, 1px, 1px);height: 1px;margin: -1px;overflow: hidden;padding: 0;position: absolute;width: 1px;}#sk-container-id-2 div.sk-estimator {font-family: monospace;background-color: #f0f8ff;border: 1px dotted black;border-radius: 0.25em;box-sizing: border-box;margin-bottom: 0.5em;}#sk-container-id-2 div.sk-estimator:hover {background-color: #d4ebff;}#sk-container-id-2 div.sk-parallel-item::after {content: \"\";width: 100%;border-bottom: 1px solid gray;flex-grow: 1;}#sk-container-id-2 div.sk-label:hover label.sk-toggleable__label {background-color: #d4ebff;}#sk-container-id-2 div.sk-serial::before {content: \"\";position: absolute;border-left: 1px solid gray;box-sizing: border-box;top: 0;bottom: 0;left: 50%;z-index: 0;}#sk-container-id-2 div.sk-serial {display: flex;flex-direction: column;align-items: center;background-color: white;padding-right: 0.2em;padding-left: 0.2em;position: relative;}#sk-container-id-2 div.sk-item {position: relative;z-index: 1;}#sk-container-id-2 div.sk-parallel {display: flex;align-items: stretch;justify-content: center;background-color: white;position: relative;}#sk-container-id-2 div.sk-item::before, #sk-container-id-2 div.sk-parallel-item::before {content: \"\";position: absolute;border-left: 1px solid gray;box-sizing: border-box;top: 0;bottom: 0;left: 50%;z-index: -1;}#sk-container-id-2 div.sk-parallel-item {display: flex;flex-direction: column;z-index: 1;position: relative;background-color: white;}#sk-container-id-2 div.sk-parallel-item:first-child::after {align-self: flex-end;width: 50%;}#sk-container-id-2 div.sk-parallel-item:last-child::after {align-self: flex-start;width: 50%;}#sk-container-id-2 div.sk-parallel-item:only-child::after {width: 0;}#sk-container-id-2 div.sk-dashed-wrapped {border: 1px dashed gray;margin: 0 0.4em 0.5em 0.4em;box-sizing: border-box;padding-bottom: 0.4em;background-color: white;}#sk-container-id-2 div.sk-label label {font-family: monospace;font-weight: bold;display: inline-block;line-height: 1.2em;}#sk-container-id-2 div.sk-label-container {text-align: center;}#sk-container-id-2 div.sk-container {/* jupyter's `normalize.less` sets `[hidden] { display: none; }` but bootstrap.min.css set `[hidden] { display: none !important; }` so we also need the `!important` here to be able to override the default hidden behavior on the sphinx rendered scikit-learn.org. See: https://github.com/scikit-learn/scikit-learn/issues/21755 */display: inline-block !important;position: relative;}#sk-container-id-2 div.sk-text-repr-fallback {display: none;}</style><div id=\"sk-container-id-2\" class=\"sk-top-container\"><div class=\"sk-text-repr-fallback\"><pre>RandomForestClassifier(bootstrap=True, ccp_alpha=0.0, class_weight=None,\n",
              "                       criterion=&#x27;gini&#x27;, max_depth=None, max_features=&#x27;sqrt&#x27;,\n",
              "                       max_leaf_nodes=None, max_samples=None,\n",
              "                       min_impurity_decrease=0.0, min_samples_leaf=1,\n",
              "                       min_samples_split=2, min_weight_fraction_leaf=0.0,\n",
              "                       n_estimators=100, n_jobs=None, oob_score=False,\n",
              "                       random_state=None, verbose=0, warm_start=False)</pre><b>In a Jupyter environment, please rerun this cell to show the HTML representation or trust the notebook. <br />On GitHub, the HTML representation is unable to render, please try loading this page with nbviewer.org.</b></div><div class=\"sk-container\" hidden><div class=\"sk-item\"><div class=\"sk-estimator sk-toggleable\"><input class=\"sk-toggleable__control sk-hidden--visually\" id=\"sk-estimator-id-2\" type=\"checkbox\" checked><label for=\"sk-estimator-id-2\" class=\"sk-toggleable__label sk-toggleable__label-arrow\">RandomForestClassifier</label><div class=\"sk-toggleable__content\"><pre>RandomForestClassifier(bootstrap=True, ccp_alpha=0.0, class_weight=None,\n",
              "                       criterion=&#x27;gini&#x27;, max_depth=None, max_features=&#x27;sqrt&#x27;,\n",
              "                       max_leaf_nodes=None, max_samples=None,\n",
              "                       min_impurity_decrease=0.0, min_samples_leaf=1,\n",
              "                       min_samples_split=2, min_weight_fraction_leaf=0.0,\n",
              "                       n_estimators=100, n_jobs=None, oob_score=False,\n",
              "                       random_state=None, verbose=0, warm_start=False)</pre></div></div></div></div></div>"
            ]
          },
          "metadata": {},
          "execution_count": 31
        }
      ],
      "source": [
        "from sklearn.ensemble import RandomForestClassifier\n",
        "rf = RandomForestClassifier()\n",
        "rf.fit(X_train, y_train)"
      ]
    },
    {
      "cell_type": "code",
      "execution_count": 32,
      "metadata": {
        "id": "tuTXQSmkubnu"
      },
      "outputs": [],
      "source": [
        "rf_y_pred = rf.predict(X_test)"
      ]
    },
    {
      "cell_type": "code",
      "execution_count": 33,
      "metadata": {
        "colab": {
          "base_uri": "https://localhost:8080/"
        },
        "id": "-Kt2fWcuueWp",
        "outputId": "a0bf88a8-8c36-492d-f025-518cf0039b7d"
      },
      "outputs": [
        {
          "output_type": "stream",
          "name": "stdout",
          "text": [
            "Model accuracy score with criterion entropy: 84.93%\n"
          ]
        }
      ],
      "source": [
        "from sklearn.metrics import *\n",
        "\n",
        "# acc = format(accuracy_score(y_test, y_pred)\n",
        "print('Model accuracy score with criterion entropy: {:0.2%}'. format(accuracy_score(y_test, rf_y_pred)))"
      ]
    },
    {
      "cell_type": "code",
      "source": [
        "import matplotlib.pyplot as plt\n",
        "\n",
        "# Get the feature importances\n",
        "feature_importances = rf.feature_importances_\n",
        "\n",
        "# Normalize the feature importances\n",
        "normalized_importances = feature_importances / sum(feature_importances)\n",
        "\n",
        "# Get the feature names from the training data\n",
        "feature_names = X_train.columns\n",
        "\n",
        "# Create a bar chart of the normalized feature importances\n",
        "plt.xticks(rotation=45)\n",
        "plt.bar(feature_names, normalized_importances)\n",
        "plt.xlabel(\"Feature Name\")\n",
        "plt.ylabel(\"Normalized Importance\")\n",
        "plt.title(\"Feature Importance Graph\")\n",
        "plt.show()"
      ],
      "metadata": {
        "colab": {
          "base_uri": "https://localhost:8080/",
          "height": 54
        },
        "id": "-AtXr9NucUdR",
        "outputId": "4dc3e1dd-f0b7-4d3e-a637-4dfa88f702c6"
      },
      "execution_count": 34,
      "outputs": [
        {
          "output_type": "display_data",
          "data": {
            "text/plain": [
              "<Figure size 800x550 with 1 Axes>"
            ],
            "image/png": "[encoded data removed]"
          },
          "metadata": {}
        }
      ]
    },
    {
      "cell_type": "markdown",
      "source": [
        "**Evaluation Metrics - Random Forest**"
      ],
      "metadata": {
        "id": "3hE8OzeDperX"
      }
    },
    {
      "cell_type": "code",
      "source": [
        "precision = precision_score(y_test, rf_y_pred, average='weighted')\n",
        "print('Precision: {:0.2%}'.format(precision))\n",
        "\n",
        "recall = recall_score(y_test, rf_y_pred, average='weighted')\n",
        "print('Recall: {:0.2%}'.format(recall))\n",
        "\n",
        "f1 = f1_score(y_test, rf_y_pred, average='weighted')\n",
        "print('F1 Score: {:0.2%}'.format(f1))"
      ],
      "metadata": {
        "colab": {
          "base_uri": "https://localhost:8080/"
        },
        "id": "ACZFayQE-qi2",
        "outputId": "66ea08b2-08bf-41e8-873d-c7dda5bf91a6"
      },
      "execution_count": 35,
      "outputs": [
        {
          "output_type": "stream",
          "name": "stdout",
          "text": [
            "Precision: 84.30%\n",
            "Recall: 84.93%\n",
            "F1 Score: 84.08%\n"
          ]
        }
      ]
    },
    {
      "cell_type": "markdown",
      "source": [
        "# XGBoost"
      ],
      "metadata": {
        "id": "qtU3x2kV4UtI"
      }
    },
    {
      "cell_type": "code",
      "source": [
        "from xgboost import XGBClassifier\n",
        "from sklearn.preprocessing import LabelEncoder\n",
        "from sklearn.metrics import accuracy_score, precision_score, recall_score, f1_score\n",
        "import pandas as pd\n",
        "\n",
        "label_encoder = LabelEncoder()\n",
        "y_train_encoded = label_encoder.fit_transform(y_train)\n",
        "\n",
        "xgb = XGBClassifier(random_state=1)\n",
        "xgb.fit(X_train, y_train_encoded)\n",
        "\n",
        "y_train_pred = xgb.predict(X_train)\n",
        "y_test_pred = xgb.predict(X_test)\n",
        "\n",
        "accuracy_test = accuracy_score(y_test.astype('int') - 3, y_test_pred)\n",
        "precision_test = precision_score(y_test.astype('int') - 3, y_test_pred, average='weighted', zero_division=1)\n",
        "recall_test = recall_score(y_test.astype('int') - 3, y_test_pred, average='weighted', zero_division=1)\n",
        "f1_test = f1_score(y_test.astype('int') - 3, y_test_pred, average='weighted', zero_division=1)\n",
        "print('Accuracy:', accuracy_test)\n",
        "print('Precision:', precision_test)\n",
        "print('Recall:', recall_test)\n",
        "print('F1 Score:', f1_test)"
      ],
      "metadata": {
        "colab": {
          "base_uri": "https://localhost:8080/"
        },
        "id": "IkLtuTfG4WKQ",
        "outputId": "dc124c25-9340-4f27-8fd2-173b564f7526"
      },
      "execution_count": 36,
      "outputs": [
        {
          "output_type": "stream",
          "name": "stdout",
          "text": [
            "Accuracy: 0.8424657534246576\n",
            "Precision: 0.8339284390231176\n",
            "Recall: 0.8424657534246576\n",
            "F1 Score: 0.8349157773919582\n"
          ]
        }
      ]
    },
    {
      "cell_type": "code",
      "source": [
        "import matplotlib.pyplot as plt\n",
        "\n",
        "# Get the feature importances\n",
        "feature_importances = xgb.feature_importances_\n",
        "\n",
        "# Normalize the feature importances\n",
        "normalized_importances = feature_importances / sum(feature_importances)\n",
        "\n",
        "# Get the feature names from the training data\n",
        "feature_names = X_train.columns\n",
        "\n",
        "# Create a bar chart of the normalized feature importances\n",
        "plt.xticks(rotation=45)\n",
        "plt.bar(feature_names, normalized_importances)\n",
        "plt.xlabel(\"Feature Name\")\n",
        "plt.ylabel(\"Normalized Importance\")\n",
        "plt.title(\"Feature Importance Graph\")\n",
        "plt.show()"
      ],
      "metadata": {
        "id": "_uVJscjc5Hoa",
        "colab": {
          "base_uri": "https://localhost:8080/",
          "height": 54
        },
        "outputId": "62caa51d-a61a-49e1-b274-7a78116bbb63"
      },
      "execution_count": 37,
      "outputs": [
        {
          "output_type": "display_data",
          "data": {
            "text/plain": [
              "<Figure size 800x550 with 1 Axes>"
            ],
            "image/png": "[encoded data removed]"
          },
          "metadata": {}
        }
      ]
    },
    {
      "cell_type": "markdown",
      "metadata": {
        "id": "LMelZA2YvSD8"
      },
      "source": [
        "# **Using Cross Validation to see impact on Accuracy:**"
      ]
    },
    {
      "cell_type": "code",
      "execution_count": 38,
      "metadata": {
        "id": "cxPDy02WwahE"
      },
      "outputs": [],
      "source": [
        "from sklearn.model_selection import cross_val_score\n",
        "model_names, cv_score, cv_k = [], [], []"
      ]
    },
    {
      "cell_type": "markdown",
      "metadata": {
        "id": "VliO0dEIwOIY"
      },
      "source": [
        "# Logistic Regression with CV"
      ]
    },
    {
      "cell_type": "code",
      "execution_count": 39,
      "metadata": {
        "colab": {
          "base_uri": "https://localhost:8080/"
        },
        "id": "m9c-yD0WwN7O",
        "outputId": "59a90a81-ce78-4d90-df1f-567e7deca899"
      },
      "outputs": [
        {
          "output_type": "stream",
          "name": "stdout",
          "text": [
            "Logistic Regression Cross Validation Accuracy score: 58.23%\n"
          ]
        }
      ],
      "source": [
        "from sklearn.linear_model import LogisticRegression\n",
        "lr = LogisticRegression(max_iter = 50000)\n",
        "cv = cross_val_score(lr,X_train,y_train,cv=5)\n",
        "\n",
        "model_names.append(\"Logistic Regression\")\n",
        "cv_score.append(str(round(cv.mean()*100, 2)) + \" %\")\n",
        "cv_k.append(5)\n",
        "print('Logistic Regression Cross Validation Accuracy score: {:0.2%}'. format(cv.mean()))"
      ]
    },
    {
      "cell_type": "markdown",
      "metadata": {
        "id": "GvEuPNAIwqR0"
      },
      "source": [
        "Logistic classiffication gives low score because Sigmoid function cannot be used for multiclass classification."
      ]
    },
    {
      "cell_type": "markdown",
      "metadata": {
        "id": "m9WBckgfwzEW"
      },
      "source": [
        "# Decision Tree with CV"
      ]
    },
    {
      "cell_type": "code",
      "execution_count": 40,
      "metadata": {
        "colab": {
          "base_uri": "https://localhost:8080/"
        },
        "id": "GtqfJn82wN5a",
        "outputId": "b1809252-c0f2-497f-d7ab-0c207b1c98bd"
      },
      "outputs": [
        {
          "output_type": "stream",
          "name": "stdout",
          "text": [
            "Decision Tree Classifier Cross Validation Accuracy score: 76.73%\n"
          ]
        }
      ],
      "source": [
        "dt = DecisionTreeClassifier(random_state = 1)\n",
        "cv = cross_val_score(dt,X_train,y_train,cv=5)\n",
        "model_names.append(\"Decision Tree Classifier\")\n",
        "cv_score.append(str(round(cv.mean()*100, 2)) + \" %\")\n",
        "cv_k.append(5)\n",
        "print('Decision Tree Classifier Cross Validation Accuracy score: {:0.2%}'. format(cv.mean()))"
      ]
    },
    {
      "cell_type": "markdown",
      "metadata": {
        "id": "oXfdpo6H3lGV"
      },
      "source": [
        "# Random Forest and XGBagging with CV"
      ]
    },
    {
      "cell_type": "code",
      "execution_count": 41,
      "metadata": {
        "colab": {
          "base_uri": "https://localhost:8080/"
        },
        "id": "Tok-uSXi3lR1",
        "outputId": "7bc65ae3-e47a-4063-c50e-149c22d86ad8"
      },
      "outputs": [
        {
          "output_type": "stream",
          "name": "stdout",
          "text": [
            "Random Forest Classifier Cross Validation Accuracy score: 85.05%\n",
            "Bagging Classifier Cross Validation Accuracy score: 83.68%\n"
          ]
        }
      ],
      "source": [
        "from sklearn.ensemble import RandomForestClassifier, BaggingClassifier\n",
        "from sklearn.model_selection import cross_val_score\n",
        "from sklearn.preprocessing import LabelEncoder\n",
        "from xgboost import XGBClassifier\n",
        "import pandas as pd\n",
        "\n",
        "# Map the target variable categories to start from 0\n",
        "label_encoder = LabelEncoder()\n",
        "y_train_encoded = label_encoder.fit_transform(y_train)\n",
        "\n",
        "# Create a Random Forest Classifier\n",
        "random_forest = RandomForestClassifier(random_state=1)\n",
        "\n",
        "cv = cross_val_score(random_forest, X_train, y_train_encoded, cv=5)\n",
        "\n",
        "# Store the results for Random Forest\n",
        "model_names.append(\"Random Forest Classifier\")\n",
        "cv_score.append(str(round(cv.mean() * 100, 2)) + \" %\")\n",
        "cv_k.append(5)\n",
        "print('Random Forest Classifier Cross Validation Accuracy score: {:.2%}'.format(cv.mean()))\n",
        "\n",
        "original_categories = label_encoder.inverse_transform(y_train_encoded)\n",
        "\n",
        "# Create base and bagging classifier\n",
        "base_classifier = XGBClassifier(random_state=1)\n",
        "bagging_classifier = BaggingClassifier(base_classifier, n_estimators=10, random_state=1)\n",
        "\n",
        "cv = cross_val_score(bagging_classifier, X_train, y_train_encoded, cv=5)\n",
        "\n",
        "# Store the results for BaggingClassifier\n",
        "model_names.append(\"Bagging Classifier\")\n",
        "cv_score.append(str(round(cv.mean() * 100, 2)) + \" %\")\n",
        "cv_k.append(5)\n",
        "print('Bagging Classifier Cross Validation Accuracy score: {:.2%}'.format(cv.mean()))"
      ]
    },
    {
      "cell_type": "markdown",
      "metadata": {
        "id": "OTEztZ-C2jm0"
      },
      "source": [
        "# ADABoost with CV"
      ]
    },
    {
      "cell_type": "code",
      "execution_count": 42,
      "metadata": {
        "colab": {
          "base_uri": "https://localhost:8080/"
        },
        "id": "tzjpYZED2l8Q",
        "outputId": "17ea010d-a702-4c05-df54-345ba2088573"
      },
      "outputs": [
        {
          "output_type": "stream",
          "name": "stdout",
          "text": [
            "AdaBoost Classifier Cross Validation Accuracy score: 35.18%\n"
          ]
        }
      ],
      "source": [
        "from sklearn.ensemble import AdaBoostClassifier\n",
        "from sklearn.model_selection import cross_val_score\n",
        "from sklearn.preprocessing import LabelEncoder\n",
        "import pandas as pd\n",
        "\n",
        "# Map the target variable categories to start from 0\n",
        "label_encoder = LabelEncoder()\n",
        "y_train_encoded = label_encoder.fit_transform(y_train)\n",
        "\n",
        "# Create an AdaBoostClassifier\n",
        "adaboost = AdaBoostClassifier(random_state=1)\n",
        "\n",
        "# Perform cross-validation with the encoded target variable\n",
        "cv = cross_val_score(adaboost, X_train, y_train_encoded, cv=5)\n",
        "\n",
        "# Store the results\n",
        "model_names.append(\"AdaBoost Classifier\")\n",
        "cv_score.append(str(round(cv.mean() * 100, 2)) + \" %\")\n",
        "cv_k.append(5)\n",
        "print('AdaBoost Classifier Cross Validation Accuracy score: {:.2%}'.format(cv.mean()))\n",
        "\n",
        "# To get original categories\n",
        "original_categories = label_encoder.inverse_transform(y_train_encoded)"
      ]
    },
    {
      "cell_type": "markdown",
      "metadata": {
        "id": "yYwJ4BkkxsKi"
      },
      "source": [
        "# XGBoost with CV"
      ]
    },
    {
      "cell_type": "code",
      "source": [
        "from xgboost import XGBClassifier\n",
        "from sklearn.model_selection import cross_val_score\n",
        "from sklearn.preprocessing import LabelEncoder\n",
        "from sklearn.metrics import *\n",
        "import pandas as pd\n",
        "\n",
        "label_encoder = LabelEncoder()\n",
        "y_train_encoded = label_encoder.fit_transform(y_train)\n",
        "xgb = XGBClassifier(random_state=1)\n",
        "\n",
        "xgb.fit(X_train, y_train_encoded)\n",
        "\n",
        "cv = cross_val_score(xgb, X_train, y_train_encoded, cv=5)\n",
        "\n",
        "model_names.append(\"Xgboost Classifier\")\n",
        "cv_score.append(str(round(cv.mean() * 100, 2)) + \" %\")\n",
        "cv_k.append(5)\n",
        "print('Xgboost Classifier Cross Validation (k=5) Accuracy score: {:.2%}'.format(cv.mean()))\n",
        "\n",
        "# To get original categories\n",
        "original_categories = label_encoder.inverse_transform(y_train_encoded)\n",
        "\n",
        "y_train_encoded = label_encoder.fit_transform(y_train.astype('int') - 3)  # Convert to int and then subtract 3, since Classes are from 0 and Categories start from 3\n",
        "xgb = XGBClassifier(random_state=1)\n",
        "\n",
        "xgb.fit(X_train, y_train_encoded)\n",
        "\n",
        "# Make predictions on the training set\n",
        "y_train_pred = xgb.predict(X_train)\n",
        "\n",
        "# Make predictions on the test set\n",
        "y_test_pred = xgb.predict(X_test)\n",
        "\n",
        "# Calculate accuracy, precision, recall, and F1 score on the test set\n",
        "accuracy_test = accuracy_score(y_test.astype('int') - 3, y_test_pred)\n",
        "precision_test = precision_score(y_test.astype('int') - 3, y_test_pred, average='weighted', zero_division=1)\n",
        "recall_test = recall_score(y_test.astype('int') - 3, y_test_pred, average='weighted', zero_division=1)\n",
        "f1_test = f1_score(y_test.astype('int') - 3, y_test_pred, average='weighted', zero_division=1)\n",
        "\n",
        "print('\\nXgboost Classifier Test Set Metrics:')\n",
        "print('Accuracy:', accuracy_test)\n",
        "print('Precision:', precision_test)\n",
        "print('Recall:', recall_test)\n",
        "print('F1 Score:', f1_test)"
      ],
      "metadata": {
        "colab": {
          "base_uri": "https://localhost:8080/"
        },
        "id": "1n-DMjDqdhLy",
        "outputId": "63354729-70f7-4103-98cf-9e7875985ff9"
      },
      "execution_count": 43,
      "outputs": [
        {
          "output_type": "stream",
          "name": "stdout",
          "text": [
            "Xgboost Classifier Cross Validation (k=5) Accuracy score: 84.66%\n",
            "\n",
            "Xgboost Classifier Test Set Metrics:\n",
            "Accuracy: 0.8424657534246576\n",
            "Precision: 0.8339284390231176\n",
            "Recall: 0.8424657534246576\n",
            "F1 Score: 0.8349157773919582\n"
          ]
        }
      ]
    },
    {
      "cell_type": "markdown",
      "metadata": {
        "id": "jz9rhXEwADXR"
      },
      "source": [
        "**After cross validation: Top models are XGBoost, Random Forest and Gradient Boosting. Bagging has a negetive effect of on Random Forest, and is ignored for CV testing with varying folds.**"
      ]
    },
    {
      "cell_type": "markdown",
      "source": [
        "# Using k-folds in range of 5 to 40 folds"
      ],
      "metadata": {
        "id": "dyF96_btp4G2"
      }
    },
    {
      "cell_type": "markdown",
      "metadata": {
        "id": "7uXIzP8mAqC5"
      },
      "source": [
        "XGBoost with CV, 10<=k<=40"
      ]
    },
    {
      "cell_type": "code",
      "execution_count": 44,
      "metadata": {
        "colab": {
          "base_uri": "https://localhost:8080/"
        },
        "id": "DDrUqIWFApmC",
        "outputId": "f10290d6-4787-4155-b218-2b9dbbfed4d9"
      },
      "outputs": [
        {
          "output_type": "stream",
          "name": "stdout",
          "text": [
            "Xgboost Classifier Cross Validation k= 10 Accuracy score: 85.31%\n",
            "Xgboost Classifier Cross Validation k= 15 Accuracy score: 85.70%\n",
            "Xgboost Classifier Cross Validation k= 20 Accuracy score: 86.23%\n",
            "Xgboost Classifier Cross Validation k= 25 Accuracy score: 85.61%\n",
            "Xgboost Classifier Cross Validation k= 30 Accuracy score: 86.42%\n",
            "Xgboost Classifier Cross Validation k= 35 Accuracy score: 85.93%\n",
            "Xgboost Classifier Cross Validation k= 40 Accuracy score: 86.00%\n"
          ]
        }
      ],
      "source": [
        "from xgboost import XGBClassifier\n",
        "from sklearn.model_selection import cross_val_score\n",
        "from sklearn.preprocessing import LabelEncoder\n",
        "import pandas as pd\n",
        "\n",
        "# For XGBoost, mapping categories to start from 0\n",
        "label_encoder = LabelEncoder()\n",
        "y_train_encoded = label_encoder.fit_transform(y_train)\n",
        "xgb = XGBClassifier(random_state=1)\n",
        "for k in range (10, 41, 5):\n",
        "  cv = cross_val_score(xgb, X_train, y_train_encoded, cv=k)\n",
        "  model_names.append(\"Xgboost Classifier\")\n",
        "  cv_score.append(str(round(cv.mean() * 100, 2)) + \" %\")\n",
        "  cv_k.append(k)\n",
        "  print('Xgboost Classifier Cross Validation k=',k,'Accuracy score: {:.2%}'.format(cv.mean()))\n",
        "\n",
        "  original_categories = label_encoder.inverse_transform(y_train_encoded)"
      ]
    },
    {
      "cell_type": "markdown",
      "metadata": {
        "id": "02dw7973DjV9"
      },
      "source": [
        "Random Forest with CV, 10<=k<=40"
      ]
    },
    {
      "cell_type": "code",
      "execution_count": 51,
      "metadata": {
        "id": "Vz-4-4j3Dqyn",
        "colab": {
          "base_uri": "https://localhost:8080/"
        },
        "outputId": "c84276f4-30f0-4aa3-805f-03749dca103b"
      },
      "outputs": [
        {
          "output_type": "stream",
          "name": "stdout",
          "text": [
            "Random Forest Classifier Cross Validation k =  10 Accuracy score: 86.33%\n",
            "Random Forest Classifier Cross Validation k =  15 Accuracy score: 86.19%\n",
            "Random Forest Classifier Cross Validation k =  20 Accuracy score: 86.00%\n",
            "Random Forest Classifier Cross Validation k =  25 Accuracy score: 86.81%\n",
            "Random Forest Classifier Cross Validation k =  30 Accuracy score: 86.55%\n",
            "Random Forest Classifier Cross Validation k =  35 Accuracy score: 86.81%\n",
            "Random Forest Classifier Cross Validation k =  40 Accuracy score: 86.45%\n"
          ]
        }
      ],
      "source": [
        "from sklearn.ensemble import RandomForestClassifier, BaggingClassifier\n",
        "from sklearn.model_selection import cross_val_score\n",
        "from sklearn.preprocessing import LabelEncoder\n",
        "import pandas as pd\n",
        "\n",
        "label_encoder = LabelEncoder()\n",
        "y_train_encoded = label_encoder.fit_transform(y_train)\n",
        "random_forest = RandomForestClassifier(random_state=1)\n",
        "\n",
        "# For XGBoost, mapping categories to start from 0\n",
        "label_encoder = LabelEncoder()\n",
        "y_train_encoded = label_encoder.fit_transform(y_train)\n",
        "xgb = XGBClassifier(random_state=1)\n",
        "for k in range (10, 41, 5):\n",
        "   cv = cross_val_score(random_forest, X_train, y_train_encoded, cv=k)\n",
        "   model_names.append(\"Random Forest Classifier\")\n",
        "   cv_score.append(str(round(cv.mean() * 100, 2)) + \" %\")\n",
        "   cv_k.append(k)\n",
        "   print('Random Forest Classifier Cross Validation k = ',k,'Accuracy score: {:.2%}'.format(cv.mean()))\n",
        "\n",
        "original_categories = label_encoder.inverse_transform(y_train_encoded)"
      ]
    },
    {
      "cell_type": "markdown",
      "metadata": {
        "id": "tLlCkONIUax1"
      },
      "source": [
        "Gradient Boosting with CV 10<=k<=40"
      ]
    },
    {
      "cell_type": "code",
      "execution_count": 52,
      "metadata": {
        "id": "cuok5jRmSKs-",
        "colab": {
          "base_uri": "https://localhost:8080/"
        },
        "outputId": "5120df49-bf4a-4581-a5ce-5f90c5b7ba0f"
      },
      "outputs": [
        {
          "output_type": "stream",
          "name": "stdout",
          "text": [
            "Gradient Boosting Classifier Cross Validation k =  10 Accuracy score: 79.77%\n",
            "Gradient Boosting Classifier Cross Validation k =  15 Accuracy score: 79.77%\n",
            "Gradient Boosting Classifier Cross Validation k =  20 Accuracy score: 79.77%\n",
            "Gradient Boosting Classifier Cross Validation k =  25 Accuracy score: 79.77%\n",
            "Gradient Boosting Classifier Cross Validation k =  30 Accuracy score: 79.77%\n",
            "Gradient Boosting Classifier Cross Validation k =  35 Accuracy score: 79.77%\n",
            "Gradient Boosting Classifier Cross Validation k =  40 Accuracy score: 79.77%\n"
          ]
        }
      ],
      "source": [
        "from sklearn.ensemble import GradientBoostingClassifier\n",
        "from sklearn.model_selection import cross_val_score\n",
        "from sklearn.preprocessing import LabelEncoder\n",
        "import pandas as pd\n",
        "\n",
        "label_encoder = LabelEncoder()\n",
        "y_train_encoded = label_encoder.fit_transform(y_train)\n",
        "gradient_boosting = GradientBoostingClassifier(random_state=1)\n",
        "for k in range (10, 41, 5):\n",
        "   cv = cross_val_score(gradient_boosting, X_train, y_train_encoded, cv=5)\n",
        "   model_names.append(\"Gradient Boosting Classifier\")\n",
        "   cv_score.append(str(round(cv.mean() * 100, 2)) + \" %\")\n",
        "   cv_k.append(k)\n",
        "   print('Gradient Boosting Classifier Cross Validation k = ',k,'Accuracy score: {:.2%}'.format(cv.mean()))\n",
        "\n",
        "original_categories = label_encoder.inverse_transform(y_train_encoded)"
      ]
    },
    {
      "cell_type": "markdown",
      "metadata": {
        "id": "wQEyRgaLRsjU"
      },
      "source": [
        "# **Voting Classification**"
      ]
    },
    {
      "cell_type": "markdown",
      "source": [
        "**Voting Classification - Logistic Regression, Decision Trees, Random Forest, XGBoost**"
      ],
      "metadata": {
        "id": "D7fwm0f1qMBe"
      }
    },
    {
      "cell_type": "code",
      "execution_count": 53,
      "metadata": {
        "id": "W_RCP9OdcSiB"
      },
      "outputs": [],
      "source": [
        "from sklearn.ensemble import VotingClassifier\n",
        "voting_clf = VotingClassifier(estimators = [('lr',lr), ('dt',dt), ('rf',rf), ('xgb',xgb)], voting = 'soft')"
      ]
    },
    {
      "cell_type": "code",
      "execution_count": 54,
      "metadata": {
        "id": "KKpJ6tmxcZ4e"
      },
      "outputs": [],
      "source": [
        "voting_clf2 = voting_clf.fit(X_train, y_train)"
      ]
    },
    {
      "cell_type": "code",
      "source": [
        "import pickle\n",
        "pickle.dump(voting_clf2, open('voting_clf2.pkl', 'wb'))"
      ],
      "metadata": {
        "id": "CpVZiL1q7J33"
      },
      "execution_count": 55,
      "outputs": []
    },
    {
      "cell_type": "code",
      "source": [
        "test = pickle.load(open('voting_clf2.pkl', 'rb'))\n",
        "test.predict([[7.4, 0.70, 0.00, 1.9, 0.076, 11.0, 34.0, 0.9978, 3.51, 0.56, 9.4]])"
      ],
      "metadata": {
        "colab": {
          "base_uri": "https://localhost:8080/"
        },
        "id": "1P51pAYr7yTO",
        "outputId": "da0dc13b-ce2a-494e-8d0b-a9bf75554e7f"
      },
      "execution_count": 56,
      "outputs": [
        {
          "output_type": "execute_result",
          "data": {
            "text/plain": [
              "array([5])"
            ]
          },
          "metadata": {},
          "execution_count": 56
        }
      ]
    },
    {
      "cell_type": "code",
      "source": [
        "cv = cross_val_score(voting_clf, X_train, y_train, cv=5)\n",
        "print('Voting Classifier Cross Validation Accuracy score: {:0.2%}'. format(cv.mean()))"
      ],
      "metadata": {
        "colab": {
          "base_uri": "https://localhost:8080/"
        },
        "id": "ZUj1BH2Mh4Y4",
        "outputId": "b71f25d8-2f5f-49be-f18b-fae4a20fb1e9"
      },
      "execution_count": 57,
      "outputs": [
        {
          "output_type": "stream",
          "name": "stdout",
          "text": [
            "Voting Classifier Cross Validation Accuracy score: 82.87%\n"
          ]
        }
      ]
    },
    {
      "cell_type": "code",
      "source": [
        "\n",
        "# Fit the model on the training set\n",
        "voting_clf.fit(X_train, y_train_encoded)\n",
        "\n",
        "# Make predictions on the test set\n",
        "y_test_pred = voting_clf.predict(X_test)\n",
        "\n",
        "# Calculate accuracy, precision, recall, and F1 score on the test set\n",
        "precision_test = precision_score(y_test.astype('int') - 3, y_test_pred, average='weighted', zero_division=1)\n",
        "recall_test = recall_score(y_test.astype('int') - 3, y_test_pred, average='weighted', zero_division=1)\n",
        "f1_test = f1_score(y_test.astype('int') - 3, y_test_pred, average='weighted', zero_division=1)\n",
        "\n",
        "print('\\nVoting Classifier Test Set Metrics:')\n",
        "print('Precision:', precision_test)\n",
        "print('Recall:', recall_test)\n",
        "print('F1 Score:', f1_test)"
      ],
      "metadata": {
        "colab": {
          "base_uri": "https://localhost:8080/"
        },
        "id": "JrP0epzIiplT",
        "outputId": "185f10bc-91b6-44fa-aae6-a3dce49dc448"
      },
      "execution_count": 58,
      "outputs": [
        {
          "output_type": "stream",
          "name": "stdout",
          "text": [
            "\n",
            "Voting Classifier Test Set Metrics:\n",
            "Precision: 0.8273916605620011\n",
            "Recall: 0.8326810176125244\n",
            "F1 Score: 0.8233068595212616\n"
          ]
        }
      ]
    },
    {
      "cell_type": "code",
      "execution_count": 59,
      "metadata": {
        "id": "MgLyftmzcgEL",
        "colab": {
          "base_uri": "https://localhost:8080/"
        },
        "outputId": "96290cc4-3cce-4b38-fe57-efc6d1d75275"
      },
      "outputs": [
        {
          "output_type": "stream",
          "name": "stdout",
          "text": [
            "Voting Classifier Cross Validation k =  5 Accuracy score: 83.06%\n",
            "Voting Classifier Cross Validation k =  10 Accuracy score: 84.14%\n",
            "Voting Classifier Cross Validation k =  15 Accuracy score: 84.33%\n",
            "Voting Classifier Cross Validation k =  20 Accuracy score: 85.28%\n",
            "Voting Classifier Cross Validation k =  25 Accuracy score: 84.27%\n",
            "Voting Classifier Cross Validation k =  30 Accuracy score: 84.82%\n",
            "Voting Classifier Cross Validation k =  35 Accuracy score: 84.89%\n",
            "Voting Classifier Cross Validation k =  40 Accuracy score: 84.53%\n"
          ]
        }
      ],
      "source": [
        "for k in range (5,41,5):\n",
        "  cv = cross_val_score(voting_clf, X_train, y_train, cv=k)\n",
        "  print('Voting Classifier Cross Validation k = ',k,'Accuracy score: {:0.2%}'. format(cv.mean()))"
      ]
    },
    {
      "cell_type": "markdown",
      "source": [
        "**Voting Classifier - Random Forest, XGBoost**"
      ],
      "metadata": {
        "id": "d6HOKPU7y4Ud"
      }
    },
    {
      "cell_type": "code",
      "execution_count": 60,
      "metadata": {
        "id": "I8ZqzkT7dUge"
      },
      "outputs": [],
      "source": [
        "from sklearn.ensemble import VotingClassifier\n",
        "voting_clf2 = VotingClassifier(estimators = [('rf',rf), ('xgb',xgb)], voting = 'soft')"
      ]
    },
    {
      "cell_type": "code",
      "execution_count": 61,
      "metadata": {
        "id": "qOZWyTZ7rygA",
        "colab": {
          "base_uri": "https://localhost:8080/"
        },
        "outputId": "208773cc-8c76-4d80-882c-87f2d8f27f92"
      },
      "outputs": [
        {
          "output_type": "stream",
          "name": "stdout",
          "text": [
            "Voting Classifier Cross Validation Accuracy score: 86.49%\n"
          ]
        }
      ],
      "source": [
        "cv = cross_val_score(voting_clf2, X_train, y_train, cv=25)\n",
        "print('Voting Classifier Cross Validation Accuracy score: {:0.2%}'. format(cv.mean()))"
      ]
    },
    {
      "cell_type": "code",
      "source": [
        "# Fit the model on the training set\n",
        "voting_clf.fit(X_train, y_train_encoded)\n",
        "\n",
        "# Make predictions on the test set\n",
        "y_test_pred = voting_clf.predict(X_test)\n",
        "\n",
        "# Calculate accuracy, precision, recall, and F1 score on the test set\n",
        "precision_test = precision_score(y_test.astype('int') - 3, y_test_pred, average='weighted', zero_division=1)\n",
        "recall_test = recall_score(y_test.astype('int') - 3, y_test_pred, average='weighted', zero_division=1)\n",
        "f1_test = f1_score(y_test.astype('int') - 3, y_test_pred, average='weighted', zero_division=1)\n",
        "\n",
        "print('\\nVoting Classifier Test Set Metrics:')\n",
        "print('Precision:', precision_test)\n",
        "print('Recall:', recall_test)\n",
        "print('F1 Score:', f1_test)"
      ],
      "metadata": {
        "colab": {
          "base_uri": "https://localhost:8080/"
        },
        "id": "2NpNeOe2zCr_",
        "outputId": "4dfb02a4-1b7b-4a7c-ba4a-4526e70889f5"
      },
      "execution_count": 62,
      "outputs": [
        {
          "output_type": "stream",
          "name": "stdout",
          "text": [
            "\n",
            "Voting Classifier Test Set Metrics:\n",
            "Precision: 0.8303141897880731\n",
            "Recall: 0.8346379647749511\n",
            "F1 Score: 0.8255891848067431\n"
          ]
        }
      ]
    },
    {
      "cell_type": "code",
      "source": [
        "import pickle\n",
        "pickle.dump(cv, open('model_cv.pkl', 'wb'))"
      ],
      "metadata": {
        "id": "mXDDSE4422i6"
      },
      "execution_count": 63,
      "outputs": []
    },
    {
      "cell_type": "code",
      "source": [
        "tp = pickle.load(open('model_cv.pkl', 'rb'))"
      ],
      "metadata": {
        "id": "stQkIWVS5LiK"
      },
      "execution_count": 64,
      "outputs": []
    },
    {
      "cell_type": "code",
      "source": [
        "tp.predict([7.4, 0.70, 0.00, 1.9, 0.076, 11.0, 34.0, 0.9978, 3.51, 0.56, 9.4])"
      ],
      "metadata": {
        "id": "209USjtCPL0B",
        "colab": {
          "base_uri": "https://localhost:8080/",
          "height": 179
        },
        "outputId": "20af1053-ecbb-47f4-b7f4-a160fb834cea"
      },
      "execution_count": 66,
      "outputs": [
        {
          "output_type": "error",
          "ename": "AttributeError",
          "evalue": "ignored",
          "traceback": [
            "\u001b[0;31m---------------------------------------------------------------------------\u001b[0m",
            "\u001b[0;31mAttributeError\u001b[0m                            Traceback (most recent call last)",
            "\u001b[0;32m<ipython-input-66-4e6cfd82f057>\u001b[0m in \u001b[0;36m<cell line: 1>\u001b[0;34m()\u001b[0m\n\u001b[0;32m----> 1\u001b[0;31m \u001b[0mtp\u001b[0m\u001b[0;34m.\u001b[0m\u001b[0mpredict\u001b[0m\u001b[0;34m(\u001b[0m\u001b[0;34m[\u001b[0m\u001b[0;36m7.4\u001b[0m\u001b[0;34m,\u001b[0m \u001b[0;36m0.70\u001b[0m\u001b[0;34m,\u001b[0m \u001b[0;36m0.00\u001b[0m\u001b[0;34m,\u001b[0m \u001b[0;36m1.9\u001b[0m\u001b[0;34m,\u001b[0m \u001b[0;36m0.076\u001b[0m\u001b[0;34m,\u001b[0m \u001b[0;36m11.0\u001b[0m\u001b[0;34m,\u001b[0m \u001b[0;36m34.0\u001b[0m\u001b[0;34m,\u001b[0m \u001b[0;36m0.9978\u001b[0m\u001b[0;34m,\u001b[0m \u001b[0;36m3.51\u001b[0m\u001b[0;34m,\u001b[0m \u001b[0;36m0.56\u001b[0m\u001b[0;34m,\u001b[0m \u001b[0;36m9.4\u001b[0m\u001b[0;34m]\u001b[0m\u001b[0;34m)\u001b[0m\u001b[0;34m\u001b[0m\u001b[0;34m\u001b[0m\u001b[0m\n\u001b[0m",
            "\u001b[0;31mAttributeError\u001b[0m: 'numpy.ndarray' object has no attribute 'predict'"
          ]
        }
      ]
    },
    {
      "cell_type": "code",
      "source": [
        "pip freeze > requirements.txt"
      ],
      "metadata": {
        "id": "u16FPzBJ5a51"
      },
      "execution_count": 67,
      "outputs": []
    },
    {
      "cell_type": "code",
      "source": [
        "import os\n",
        "os.getcwd()"
      ],
      "metadata": {
        "id": "eZ_6E24C40je",
        "colab": {
          "base_uri": "https://localhost:8080/",
          "height": 35
        },
        "outputId": "17dfd2de-b6f0-4739-9863-da46d522f5f3"
      },
      "execution_count": 68,
      "outputs": [
        {
          "output_type": "execute_result",
          "data": {
            "text/plain": [
              "'/content'"
            ],
            "application/vnd.google.colaboratory.intrinsic+json": {
              "type": "string"
            }
          },
          "metadata": {},
          "execution_count": 68
        }
      ]
    },
    {
      "cell_type": "code",
      "execution_count": 69,
      "metadata": {
        "id": "OX3rqXs-dpKH",
        "colab": {
          "base_uri": "https://localhost:8080/"
        },
        "outputId": "503e2fcf-f12b-424c-edaf-2bdc92518764"
      },
      "outputs": [
        {
          "output_type": "stream",
          "name": "stdout",
          "text": [
            "Voting Classifier Cross Validation k =  5 Accuracy score: 85.12%\n",
            "Voting Classifier Cross Validation k =  10 Accuracy score: 85.71%\n",
            "Voting Classifier Cross Validation k =  15 Accuracy score: 86.45%\n",
            "Voting Classifier Cross Validation k =  20 Accuracy score: 86.88%\n",
            "Voting Classifier Cross Validation k =  25 Accuracy score: 86.62%\n",
            "Voting Classifier Cross Validation k =  30 Accuracy score: 86.88%\n",
            "Voting Classifier Cross Validation k =  35 Accuracy score: 86.58%\n",
            "Voting Classifier Cross Validation k =  40 Accuracy score: 86.69%\n"
          ]
        }
      ],
      "source": [
        "#FINAL MODEL IS VotingClassfier (Random Forest+XGB) k=25\n",
        "for k in range (5,41,5):\n",
        "  cv = cross_val_score(voting_clf2, X_train, y_train, cv=k)\n",
        "  print('Voting Classifier Cross Validation k = ',k,'Accuracy score: {:0.2%}'. format(cv.mean()))"
      ]
    },
    {
      "cell_type": "markdown",
      "metadata": {
        "id": "tOd0Zl4TpP6C"
      },
      "source": [
        "# **Grid Search Cross Validation**"
      ]
    },
    {
      "cell_type": "code",
      "source": [
        "from sklearn.model_selection import GridSearchCV\n",
        "\n",
        "def clf_performance(classifier, model_name):\n",
        "    print(model_name)\n",
        "    print('Best Score: ' + str(classifier.best_score_))\n",
        "    print('Best Parameters: ' + str(classifier.best_params_))"
      ],
      "metadata": {
        "id": "dYoKi4InYoaY"
      },
      "execution_count": 70,
      "outputs": []
    },
    {
      "cell_type": "markdown",
      "source": [
        "**XGBoost CV Grid Search**"
      ],
      "metadata": {
        "id": "xCSP9K6UZHwk"
      }
    },
    {
      "cell_type": "code",
      "source": [
        "from sklearn.model_selection import cross_val_score, GridSearchCV\n",
        "from sklearn.preprocessing import LabelEncoder\n",
        "from xgboost import XGBClassifier\n",
        "import pandas as pd\n",
        "\n",
        "# Map the target variable classes to start from 0\n",
        "label_encoder = LabelEncoder()\n",
        "y_train_encoded = label_encoder.fit_transform(y_train)\n",
        "\n",
        "xgb = XGBClassifier(random_state=1)\n",
        "\n",
        "param_grid = {\n",
        "    'n_estimators': [450, 500, 550],\n",
        "    'colsample_bytree': [0.75, 0.8, 0.85],\n",
        "    'max_depth': [None],\n",
        "    'reg_alpha': [1],\n",
        "    'reg_lambda': [2, 5, 10],\n",
        "    'subsample': [0.55, 0.6, 0.65],\n",
        "    'learning_rate': [0.5],\n",
        "    'gamma': [0.5, 1, 2],\n",
        "    'min_child_weight': [0.01],\n",
        "    'sampling_method': ['uniform']\n",
        "}\n",
        "\n",
        "clf_xgb = GridSearchCV(xgb, param_grid=param_grid, cv=5, verbose=True, n_jobs=-1)\n",
        "best_clf_xgb = clf_xgb.fit(X_train, y_train_encoded)  # Use the mapped target variable\n",
        "clf_performance(best_clf_xgb, 'XGB')"
      ],
      "metadata": {
        "colab": {
          "base_uri": "https://localhost:8080/"
        },
        "id": "xrVm4ktkY2lB",
        "outputId": "9015a388-87fb-41c8-c92d-bebf027a0360"
      },
      "execution_count": 71,
      "outputs": [
        {
          "output_type": "stream",
          "name": "stdout",
          "text": [
            "Fitting 5 folds for each of 243 candidates, totalling 1215 fits\n",
            "XGB\n",
            "Best Score: 0.8280102144174689\n",
            "Best Parameters: {'colsample_bytree': 0.85, 'gamma': 0.5, 'learning_rate': 0.5, 'max_depth': None, 'min_child_weight': 0.01, 'n_estimators': 550, 'reg_alpha': 1, 'reg_lambda': 5, 'sampling_method': 'uniform', 'subsample': 0.6}\n"
          ]
        }
      ]
    },
    {
      "cell_type": "code",
      "source": [
        "from sklearn.model_selection import GridSearchCV\n",
        "from sklearn.metrics import make_scorer, precision_score, recall_score, f1_score\n",
        "from sklearn.preprocessing import LabelEncoder\n",
        "from xgboost import XGBClassifier\n",
        "import pandas as pd\n",
        "\n",
        "# Define a custom scoring function for precision, recall, and F1\n",
        "scoring = {\n",
        "    'precision_weighted': make_scorer(precision_score, average='weighted'),\n",
        "    'recall_weighted': make_scorer(recall_score, average='weighted'),\n",
        "    'f1_weighted': make_scorer(f1_score, average='weighted')\n",
        "}\n",
        "\n",
        "# Map the target variable classes to start from 0\n",
        "label_encoder = LabelEncoder()\n",
        "y_train_encoded = label_encoder.fit_transform(y_train)\n",
        "\n",
        "xgb = XGBClassifier(random_state=1)\n",
        "\n",
        "param_grid = {\n",
        "    'n_estimators': [450, 500, 550],\n",
        "    'colsample_bytree': [0.75, 0.8, 0.85],\n",
        "    'max_depth': [None],\n",
        "    'reg_alpha': [1],\n",
        "    'reg_lambda': [2, 5, 10],\n",
        "    'subsample': [0.55, 0.6, 0.65],\n",
        "    'learning_rate': [0.5],\n",
        "    'gamma': [0.5, 1, 2],\n",
        "    'min_child_weight': [0.01],\n",
        "    'sampling_method': ['uniform']\n",
        "}\n",
        "\n",
        "# Create GridSearchCV object with custom scoring\n",
        "clf_xgb = GridSearchCV(xgb, param_grid=param_grid, cv=5, verbose=True, n_jobs=-1, scoring=scoring, refit='f1_weighted')\n",
        "best_clf_xgb = clf_xgb.fit(X_train, y_train_encoded)  # Use the mapped target variable\n",
        "\n",
        "# Print best parameters\n",
        "print(\"Best Parameters:\", best_clf_xgb.best_params_)\n",
        "\n",
        "# Access the scores for each metric\n",
        "precision_best = best_clf_xgb.cv_results_['mean_test_precision_weighted'][best_clf_xgb.best_index_]\n",
        "recall_best = best_clf_xgb.cv_results_['mean_test_recall_weighted'][best_clf_xgb.best_index_]\n",
        "f1_best = best_clf_xgb.cv_results_['mean_test_f1_weighted'][best_clf_xgb.best_index_]\n",
        "\n",
        "# Do something with the scores, e.g., print them\n",
        "print(\"Precision:\", precision_best)\n",
        "print(\"Recall:\", recall_best)\n",
        "print(\"F1 Score:\", f1_best)"
      ],
      "metadata": {
        "id": "sU6FrM-O5-Iw",
        "colab": {
          "base_uri": "https://localhost:8080/"
        },
        "outputId": "e47b3400-a4bb-4c2b-d11a-27c2de01cd5a"
      },
      "execution_count": 72,
      "outputs": [
        {
          "output_type": "stream",
          "name": "stdout",
          "text": [
            "Fitting 5 folds for each of 243 candidates, totalling 1215 fits\n",
            "Best Parameters: {'colsample_bytree': 0.85, 'gamma': 0.5, 'learning_rate': 0.5, 'max_depth': None, 'min_child_weight': 0.01, 'n_estimators': 550, 'reg_alpha': 1, 'reg_lambda': 2, 'sampling_method': 'uniform', 'subsample': 0.6}\n",
            "Precision: 0.8223590051047104\n",
            "Recall: 0.8280080819712333\n",
            "F1 Score: 0.8241953230561497\n"
          ]
        }
      ]
    },
    {
      "cell_type": "markdown",
      "source": [
        "**Random Forest Grid Search CV**"
      ],
      "metadata": {
        "id": "k0qlPIkjZObe"
      }
    },
    {
      "cell_type": "code",
      "source": [
        "from sklearn.ensemble import RandomForestClassifier, BaggingClassifier\n",
        "from sklearn.model_selection import cross_val_score\n",
        "from sklearn.preprocessing import LabelEncoder\n",
        "import pandas as pd\n",
        "\n",
        "rf = RandomForestClassifier(random_state = 1)\n",
        "param_grid =  {'n_estimators': [400,450,500,550],\n",
        "               'criterion':['gini','entropy'],\n",
        "                                  'bootstrap': [True],\n",
        "                                  'max_depth': [15, 20, 25],\n",
        "                                  'max_features': ['auto','sqrt', 10],\n",
        "                                  'min_samples_leaf': [2,3],\n",
        "                                  'min_samples_split': [2,3]}\n",
        "\n",
        "clf_rf = GridSearchCV(rf, param_grid = param_grid, verbose = True, cv = 5, n_jobs = -1)\n",
        "best_clf_rf = clf_rf.fit(X_train,y_train)\n",
        "clf_performance(best_clf_rf,'Random Forest')"
      ],
      "metadata": {
        "colab": {
          "base_uri": "https://localhost:8080/"
        },
        "id": "Trl-p2k4Yr9R",
        "outputId": "2790c651-0fe9-4039-e9a1-de6f8cd869d7"
      },
      "execution_count": null,
      "outputs": [
        {
          "output_type": "stream",
          "name": "stdout",
          "text": [
            "Fitting 5 folds for each of 288 candidates, totalling 1440 fits\n"
          ]
        }
      ]
    },
    {
      "cell_type": "code",
      "source": [
        "from sklearn.ensemble import RandomForestClassifier\n",
        "from sklearn.model_selection import GridSearchCV\n",
        "from sklearn.metrics import make_scorer, precision_score, recall_score, f1_score\n",
        "from sklearn.preprocessing import LabelEncoder\n",
        "import pandas as pd\n",
        "\n",
        "# Define a custom scoring function for precision, recall, and F1\n",
        "scoring = {\n",
        "    'precision_weighted': make_scorer(precision_score, average='weighted'),\n",
        "    'recall_weighted': make_scorer(recall_score, average='weighted'),\n",
        "    'f1_weighted': make_scorer(f1_score, average='weighted')\n",
        "}\n",
        "\n",
        "# Map the target variable classes to start from 0\n",
        "label_encoder = LabelEncoder()\n",
        "y_train_encoded = label_encoder.fit_transform(y_train)\n",
        "\n",
        "rf = RandomForestClassifier(random_state=1)\n",
        "param_grid = {\n",
        "    'n_estimators': [400, 450, 500, 550],\n",
        "    'criterion': ['gini', 'entropy'],\n",
        "    'bootstrap': [True],\n",
        "    'max_depth': [15, 20, 25],\n",
        "    'max_features': ['auto', 'sqrt', 10],\n",
        "    'min_samples_leaf': [2, 3],\n",
        "    'min_samples_split': [2, 3]\n",
        "}\n",
        "\n",
        "# Create GridSearchCV object with custom scoring\n",
        "clf_rf = GridSearchCV(rf, param_grid=param_grid, verbose=True, cv=5, n_jobs=-1, scoring=scoring, refit='f1_weighted')\n",
        "best_clf_rf = clf_rf.fit(X_train, y_train_encoded)  # Use the mapped target variable\n",
        "\n",
        "# Print best parameters\n",
        "print(\"Best Parameters:\", best_clf_rf.best_params_)\n",
        "\n",
        "# Access the scores for each metric for the best parameters\n",
        "precision_best = best_clf_rf.cv_results_['mean_test_precision_weighted'][best_clf_rf.best_index_]\n",
        "recall_best = best_clf_rf.cv_results_['mean_test_recall_weighted'][best_clf_rf.best_index_]\n",
        "f1_best = best_clf_rf.cv_results_['mean_test_f1_weighted'][best_clf_rf.best_index_]\n",
        "\n",
        "# Print precision, recall, and F1 score for the best parameters\n",
        "print(\"Precision (Best):\", precision_best)\n",
        "print(\"Recall (Best):\", recall_best)\n",
        "print(\"F1 Score (Best):\", f1_best)"
      ],
      "metadata": {
        "id": "CYyAklTnFQhN"
      },
      "execution_count": null,
      "outputs": []
    }
  ],
  "metadata": {
    "colab": {
      "provenance": [],
      "collapsed_sections": [
        "L0tZyFz91bCY",
        "6Z7X2soI1jEL",
        "F2jfPcUe1oWW",
        "UVHQQ5uJlGgs",
        "2qzocvj914B0",
        "5Rl45Ryz2-Ns",
        "lpgkCfIitfd4",
        "FACK_GD7thqe",
        "LMelZA2YvSD8",
        "VliO0dEIwOIY",
        "m9WBckgfwzEW",
        "oXfdpo6H3lGV",
        "OTEztZ-C2jm0",
        "yYwJ4BkkxsKi",
        "dyF96_btp4G2",
        "wQEyRgaLRsjU",
        "tOd0Zl4TpP6C"
      ]
    },
    "kernelspec": {
      "display_name": "Python 3",
      "name": "python3"
    },
    "language_info": {
      "name": "python"
    },
    "widgets": {
      "application/vnd.jupyter.widget-state+json": {
        "77e6ddccc1c84766a4ecc957647e308c": {
          "model_module": "@jupyter-widgets/controls",
          "model_name": "HBoxModel",
          "model_module_version": "1.5.0",
          "state": {
            "_dom_classes": [],
            "_model_module": "@jupyter-widgets/controls",
            "_model_module_version": "1.5.0",
            "_model_name": "HBoxModel",
            "_view_count": null,
            "_view_module": "@jupyter-widgets/controls",
            "_view_module_version": "1.5.0",
            "_view_name": "HBoxView",
            "box_style": "",
            "children": [
              "IPY_MODEL_e293164f69bd4a72a1e9cf97f6b2e522",
              "IPY_MODEL_0bbc70e063ed47aa8cac6e3d81023930",
              "IPY_MODEL_0c11e7307cd540d5b15f018a35eac1a8"
            ],
            "layout": "IPY_MODEL_ef0ff35d9c804c72a6e14d4a5ce812d5"
          }
        },
        "e293164f69bd4a72a1e9cf97f6b2e522": {
          "model_module": "@jupyter-widgets/controls",
          "model_name": "HTMLModel",
          "model_module_version": "1.5.0",
          "state": {
            "_dom_classes": [],
            "_model_module": "@jupyter-widgets/controls",
            "_model_module_version": "1.5.0",
            "_model_name": "HTMLModel",
            "_view_count": null,
            "_view_module": "@jupyter-widgets/controls",
            "_view_module_version": "1.5.0",
            "_view_name": "HTMLView",
            "description": "",
            "description_tooltip": null,
            "layout": "IPY_MODEL_f2d801c02e324dcf998d747be046a88d",
            "placeholder": "​",
            "style": "IPY_MODEL_d2118808fd614bf9984639efd8fa96b0",
            "value": "Processing: 100%"
          }
        },
        "0bbc70e063ed47aa8cac6e3d81023930": {
          "model_module": "@jupyter-widgets/controls",
          "model_name": "FloatProgressModel",
          "model_module_version": "1.5.0",
          "state": {
            "_dom_classes": [],
            "_model_module": "@jupyter-widgets/controls",
            "_model_module_version": "1.5.0",
            "_model_name": "FloatProgressModel",
            "_view_count": null,
            "_view_module": "@jupyter-widgets/controls",
            "_view_module_version": "1.5.0",
            "_view_name": "ProgressView",
            "bar_style": "",
            "description": "",
            "description_tooltip": null,
            "layout": "IPY_MODEL_09b40584a0c24c64994a3e985fb3a1e6",
            "max": 65,
            "min": 0,
            "orientation": "horizontal",
            "style": "IPY_MODEL_5c104d5ab770408b81d74ffb305022f6",
            "value": 65
          }
        },
        "0c11e7307cd540d5b15f018a35eac1a8": {
          "model_module": "@jupyter-widgets/controls",
          "model_name": "HTMLModel",
          "model_module_version": "1.5.0",
          "state": {
            "_dom_classes": [],
            "_model_module": "@jupyter-widgets/controls",
            "_model_module_version": "1.5.0",
            "_model_name": "HTMLModel",
            "_view_count": null,
            "_view_module": "@jupyter-widgets/controls",
            "_view_module_version": "1.5.0",
            "_view_name": "HTMLView",
            "description": "",
            "description_tooltip": null,
            "layout": "IPY_MODEL_6fbaafd2676e4a4ca42a3e9c7203a59d",
            "placeholder": "​",
            "style": "IPY_MODEL_8294b2dd72994317b0a1abd78418aeda",
            "value": " 65/65 [01:55&lt;00:00,  1.20s/it]"
          }
        },
        "ef0ff35d9c804c72a6e14d4a5ce812d5": {
          "model_module": "@jupyter-widgets/base",
          "model_name": "LayoutModel",
          "model_module_version": "1.2.0",
          "state": {
            "_model_module": "@jupyter-widgets/base",
            "_model_module_version": "1.2.0",
            "_model_name": "LayoutModel",
            "_view_count": null,
            "_view_module": "@jupyter-widgets/base",
            "_view_module_version": "1.2.0",
            "_view_name": "LayoutView",
            "align_content": null,
            "align_items": null,
            "align_self": null,
            "border": null,
            "bottom": null,
            "display": null,
            "flex": null,
            "flex_flow": null,
            "grid_area": null,
            "grid_auto_columns": null,
            "grid_auto_flow": null,
            "grid_auto_rows": null,
            "grid_column": null,
            "grid_gap": null,
            "grid_row": null,
            "grid_template_areas": null,
            "grid_template_columns": null,
            "grid_template_rows": null,
            "height": null,
            "justify_content": null,
            "justify_items": null,
            "left": null,
            "margin": null,
            "max_height": null,
            "max_width": null,
            "min_height": null,
            "min_width": null,
            "object_fit": null,
            "object_position": null,
            "order": null,
            "overflow": null,
            "overflow_x": null,
            "overflow_y": null,
            "padding": null,
            "right": null,
            "top": null,
            "visibility": "hidden",
            "width": null
          }
        },
        "f2d801c02e324dcf998d747be046a88d": {
          "model_module": "@jupyter-widgets/base",
          "model_name": "LayoutModel",
          "model_module_version": "1.2.0",
          "state": {
            "_model_module": "@jupyter-widgets/base",
            "_model_module_version": "1.2.0",
            "_model_name": "LayoutModel",
            "_view_count": null,
            "_view_module": "@jupyter-widgets/base",
            "_view_module_version": "1.2.0",
            "_view_name": "LayoutView",
            "align_content": null,
            "align_items": null,
            "align_self": null,
            "border": null,
            "bottom": null,
            "display": null,
            "flex": null,
            "flex_flow": null,
            "grid_area": null,
            "grid_auto_columns": null,
            "grid_auto_flow": null,
            "grid_auto_rows": null,
            "grid_column": null,
            "grid_gap": null,
            "grid_row": null,
            "grid_template_areas": null,
            "grid_template_columns": null,
            "grid_template_rows": null,
            "height": null,
            "justify_content": null,
            "justify_items": null,
            "left": null,
            "margin": null,
            "max_height": null,
            "max_width": null,
            "min_height": null,
            "min_width": null,
            "object_fit": null,
            "object_position": null,
            "order": null,
            "overflow": null,
            "overflow_x": null,
            "overflow_y": null,
            "padding": null,
            "right": null,
            "top": null,
            "visibility": null,
            "width": null
          }
        },
        "d2118808fd614bf9984639efd8fa96b0": {
          "model_module": "@jupyter-widgets/controls",
          "model_name": "DescriptionStyleModel",
          "model_module_version": "1.5.0",
          "state": {
            "_model_module": "@jupyter-widgets/controls",
            "_model_module_version": "1.5.0",
            "_model_name": "DescriptionStyleModel",
            "_view_count": null,
            "_view_module": "@jupyter-widgets/base",
            "_view_module_version": "1.2.0",
            "_view_name": "StyleView",
            "description_width": ""
          }
        },
        "09b40584a0c24c64994a3e985fb3a1e6": {
          "model_module": "@jupyter-widgets/base",
          "model_name": "LayoutModel",
          "model_module_version": "1.2.0",
          "state": {
            "_model_module": "@jupyter-widgets/base",
            "_model_module_version": "1.2.0",
            "_model_name": "LayoutModel",
            "_view_count": null,
            "_view_module": "@jupyter-widgets/base",
            "_view_module_version": "1.2.0",
            "_view_name": "LayoutView",
            "align_content": null,
            "align_items": null,
            "align_self": null,
            "border": null,
            "bottom": null,
            "display": null,
            "flex": null,
            "flex_flow": null,
            "grid_area": null,
            "grid_auto_columns": null,
            "grid_auto_flow": null,
            "grid_auto_rows": null,
            "grid_column": null,
            "grid_gap": null,
            "grid_row": null,
            "grid_template_areas": null,
            "grid_template_columns": null,
            "grid_template_rows": null,
            "height": null,
            "justify_content": null,
            "justify_items": null,
            "left": null,
            "margin": null,
            "max_height": null,
            "max_width": null,
            "min_height": null,
            "min_width": null,
            "object_fit": null,
            "object_position": null,
            "order": null,
            "overflow": null,
            "overflow_x": null,
            "overflow_y": null,
            "padding": null,
            "right": null,
            "top": null,
            "visibility": null,
            "width": null
          }
        },
        "5c104d5ab770408b81d74ffb305022f6": {
          "model_module": "@jupyter-widgets/controls",
          "model_name": "ProgressStyleModel",
          "model_module_version": "1.5.0",
          "state": {
            "_model_module": "@jupyter-widgets/controls",
            "_model_module_version": "1.5.0",
            "_model_name": "ProgressStyleModel",
            "_view_count": null,
            "_view_module": "@jupyter-widgets/base",
            "_view_module_version": "1.2.0",
            "_view_name": "StyleView",
            "bar_color": null,
            "description_width": ""
          }
        },
        "6fbaafd2676e4a4ca42a3e9c7203a59d": {
          "model_module": "@jupyter-widgets/base",
          "model_name": "LayoutModel",
          "model_module_version": "1.2.0",
          "state": {
            "_model_module": "@jupyter-widgets/base",
            "_model_module_version": "1.2.0",
            "_model_name": "LayoutModel",
            "_view_count": null,
            "_view_module": "@jupyter-widgets/base",
            "_view_module_version": "1.2.0",
            "_view_name": "LayoutView",
            "align_content": null,
            "align_items": null,
            "align_self": null,
            "border": null,
            "bottom": null,
            "display": null,
            "flex": null,
            "flex_flow": null,
            "grid_area": null,
            "grid_auto_columns": null,
            "grid_auto_flow": null,
            "grid_auto_rows": null,
            "grid_column": null,
            "grid_gap": null,
            "grid_row": null,
            "grid_template_areas": null,
            "grid_template_columns": null,
            "grid_template_rows": null,
            "height": null,
            "justify_content": null,
            "justify_items": null,
            "left": null,
            "margin": null,
            "max_height": null,
            "max_width": null,
            "min_height": null,
            "min_width": null,
            "object_fit": null,
            "object_position": null,
            "order": null,
            "overflow": null,
            "overflow_x": null,
            "overflow_y": null,
            "padding": null,
            "right": null,
            "top": null,
            "visibility": null,
            "width": null
          }
        },
        "8294b2dd72994317b0a1abd78418aeda": {
          "model_module": "@jupyter-widgets/controls",
          "model_name": "DescriptionStyleModel",
          "model_module_version": "1.5.0",
          "state": {
            "_model_module": "@jupyter-widgets/controls",
            "_model_module_version": "1.5.0",
            "_model_name": "DescriptionStyleModel",
            "_view_count": null,
            "_view_module": "@jupyter-widgets/base",
            "_view_module_version": "1.2.0",
            "_view_name": "StyleView",
            "description_width": ""
          }
        },
        "6faa9bab2a2b4a73814024fb49f0e703": {
          "model_module": "@jupyter-widgets/controls",
          "model_name": "VBoxModel",
          "model_module_version": "1.5.0",
          "state": {
            "_dom_classes": [
              "widget-interact"
            ],
            "_model_module": "@jupyter-widgets/controls",
            "_model_module_version": "1.5.0",
            "_model_name": "VBoxModel",
            "_view_count": null,
            "_view_module": "@jupyter-widgets/controls",
            "_view_module_version": "1.5.0",
            "_view_name": "VBoxView",
            "box_style": "",
            "children": [
              "IPY_MODEL_d6f380aa08a5430f9d8b453fd2462635",
              "IPY_MODEL_e89ad7f7d8e5431dbb41b885eeefdc9f"
            ],
            "layout": "IPY_MODEL_384e1caef79d4583b9f3e7bc1e104a04"
          }
        },
        "d6f380aa08a5430f9d8b453fd2462635": {
          "model_module": "@jupyter-widgets/controls",
          "model_name": "ToggleButtonsModel",
          "model_module_version": "1.5.0",
          "state": {
            "_dom_classes": [],
            "_model_module": "@jupyter-widgets/controls",
            "_model_module_version": "1.5.0",
            "_model_name": "ToggleButtonsModel",
            "_options_labels": [
              "Pipeline Plot",
              "Hyperparameters",
              "AUC",
              "Confusion Matrix",
              "Threshold",
              "Precision Recall",
              "Prediction Error",
              "Class Report",
              "Feature Selection",
              "Learning Curve",
              "Manifold Learning",
              "Calibration Curve",
              "Validation Curve",
              "Dimensions",
              "Feature Importance",
              "Feature Importance (All)",
              "Decision Boundary",
              "Lift Chart",
              "Gain Chart",
              "Decision Tree",
              "KS Statistic Plot"
            ],
            "_view_count": null,
            "_view_module": "@jupyter-widgets/controls",
            "_view_module_version": "1.5.0",
            "_view_name": "ToggleButtonsView",
            "button_style": "",
            "description": "Plot Type:",
            "description_tooltip": null,
            "disabled": false,
            "icons": [
              ""
            ],
            "index": 0,
            "layout": "IPY_MODEL_2f755982dfe54f8fb88e9f0452f9a492",
            "style": "IPY_MODEL_5d3e38d3c09b468987f63599a6ab9851",
            "tooltips": []
          }
        },
        "e89ad7f7d8e5431dbb41b885eeefdc9f": {
          "model_module": "@jupyter-widgets/output",
          "model_name": "OutputModel",
          "model_module_version": "1.0.0",
          "state": {
            "_dom_classes": [],
            "_model_module": "@jupyter-widgets/output",
            "_model_module_version": "1.0.0",
            "_model_name": "OutputModel",
            "_view_count": null,
            "_view_module": "@jupyter-widgets/output",
            "_view_module_version": "1.0.0",
            "_view_name": "OutputView",
            "layout": "IPY_MODEL_fc4fd48dd0ec4ef8a6dbb5214d116249",
            "msg_id": "",
            "outputs": [
              {
                "output_type": "display_data",
                "data": {
                  "text/plain": "<Figure size 2200x600 with 1 Axes>",
                  "image/png": "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\n"
                },
                "metadata": {}
              }
            ]
          }
        },
        "384e1caef79d4583b9f3e7bc1e104a04": {
          "model_module": "@jupyter-widgets/base",
          "model_name": "LayoutModel",
          "model_module_version": "1.2.0",
          "state": {
            "_model_module": "@jupyter-widgets/base",
            "_model_module_version": "1.2.0",
            "_model_name": "LayoutModel",
            "_view_count": null,
            "_view_module": "@jupyter-widgets/base",
            "_view_module_version": "1.2.0",
            "_view_name": "LayoutView",
            "align_content": null,
            "align_items": null,
            "align_self": null,
            "border": null,
            "bottom": null,
            "display": null,
            "flex": null,
            "flex_flow": null,
            "grid_area": null,
            "grid_auto_columns": null,
            "grid_auto_flow": null,
            "grid_auto_rows": null,
            "grid_column": null,
            "grid_gap": null,
            "grid_row": null,
            "grid_template_areas": null,
            "grid_template_columns": null,
            "grid_template_rows": null,
            "height": null,
            "justify_content": null,
            "justify_items": null,
            "left": null,
            "margin": null,
            "max_height": null,
            "max_width": null,
            "min_height": null,
            "min_width": null,
            "object_fit": null,
            "object_position": null,
            "order": null,
            "overflow": null,
            "overflow_x": null,
            "overflow_y": null,
            "padding": null,
            "right": null,
            "top": null,
            "visibility": null,
            "width": null
          }
        },
        "2f755982dfe54f8fb88e9f0452f9a492": {
          "model_module": "@jupyter-widgets/base",
          "model_name": "LayoutModel",
          "model_module_version": "1.2.0",
          "state": {
            "_model_module": "@jupyter-widgets/base",
            "_model_module_version": "1.2.0",
            "_model_name": "LayoutModel",
            "_view_count": null,
            "_view_module": "@jupyter-widgets/base",
            "_view_module_version": "1.2.0",
            "_view_name": "LayoutView",
            "align_content": null,
            "align_items": null,
            "align_self": null,
            "border": null,
            "bottom": null,
            "display": null,
            "flex": null,
            "flex_flow": null,
            "grid_area": null,
            "grid_auto_columns": null,
            "grid_auto_flow": null,
            "grid_auto_rows": null,
            "grid_column": null,
            "grid_gap": null,
            "grid_row": null,
            "grid_template_areas": null,
            "grid_template_columns": null,
            "grid_template_rows": null,
            "height": null,
            "justify_content": null,
            "justify_items": null,
            "left": null,
            "margin": null,
            "max_height": null,
            "max_width": null,
            "min_height": null,
            "min_width": null,
            "object_fit": null,
            "object_position": null,
            "order": null,
            "overflow": null,
            "overflow_x": null,
            "overflow_y": null,
            "padding": null,
            "right": null,
            "top": null,
            "visibility": null,
            "width": null
          }
        },
        "5d3e38d3c09b468987f63599a6ab9851": {
          "model_module": "@jupyter-widgets/controls",
          "model_name": "ToggleButtonsStyleModel",
          "model_module_version": "1.5.0",
          "state": {
            "_model_module": "@jupyter-widgets/controls",
            "_model_module_version": "1.5.0",
            "_model_name": "ToggleButtonsStyleModel",
            "_view_count": null,
            "_view_module": "@jupyter-widgets/base",
            "_view_module_version": "1.2.0",
            "_view_name": "StyleView",
            "button_width": "",
            "description_width": "",
            "font_weight": ""
          }
        },
        "fc4fd48dd0ec4ef8a6dbb5214d116249": {
          "model_module": "@jupyter-widgets/base",
          "model_name": "LayoutModel",
          "model_module_version": "1.2.0",
          "state": {
            "_model_module": "@jupyter-widgets/base",
            "_model_module_version": "1.2.0",
            "_model_name": "LayoutModel",
            "_view_count": null,
            "_view_module": "@jupyter-widgets/base",
            "_view_module_version": "1.2.0",
            "_view_name": "LayoutView",
            "align_content": null,
            "align_items": null,
            "align_self": null,
            "border": null,
            "bottom": null,
            "display": null,
            "flex": null,
            "flex_flow": null,
            "grid_area": null,
            "grid_auto_columns": null,
            "grid_auto_flow": null,
            "grid_auto_rows": null,
            "grid_column": null,
            "grid_gap": null,
            "grid_row": null,
            "grid_template_areas": null,
            "grid_template_columns": null,
            "grid_template_rows": null,
            "height": null,
            "justify_content": null,
            "justify_items": null,
            "left": null,
            "margin": null,
            "max_height": null,
            "max_width": null,
            "min_height": null,
            "min_width": null,
            "object_fit": null,
            "object_position": null,
            "order": null,
            "overflow": null,
            "overflow_x": null,
            "overflow_y": null,
            "padding": null,
            "right": null,
            "top": null,
            "visibility": null,
            "width": null
          }
        }
      }
    }
  },
  "nbformat": 4,
  "nbformat_minor": 0
}